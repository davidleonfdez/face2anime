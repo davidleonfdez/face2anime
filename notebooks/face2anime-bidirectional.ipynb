{
 "cells": [
  {
   "cell_type": "code",
   "execution_count": null,
   "metadata": {
    "execution": {
     "iopub.execute_input": "2021-06-11T23:14:07.138936Z",
     "iopub.status.busy": "2021-06-11T23:14:07.138466Z",
     "iopub.status.idle": "2021-06-11T23:14:10.384279Z",
     "shell.execute_reply": "2021-06-11T23:14:10.382858Z",
     "shell.execute_reply.started": "2021-06-11T23:14:07.138874Z"
    }
   },
   "outputs": [],
   "source": [
    "from dataclasses import dataclass\n",
    "from fastai.vision.all import *\n",
    "from fastai.vision.gan import *\n",
    "from functools import partial\n",
    "import gc\n",
    "import itertools\n",
    "import numpy as np \n",
    "import pandas as pd\n",
    "from pathlib import Path\n",
    "import seaborn as sns\n",
    "import subprocess\n",
    "import torch\n",
    "import torch.nn as nn\n",
    "import torch.nn.functional as F\n",
    "from typing import Callable, Tuple, Union"
   ]
  },
  {
   "cell_type": "code",
   "execution_count": 2,
   "metadata": {
    "execution": {
     "iopub.execute_input": "2021-06-11T23:14:10.386926Z",
     "iopub.status.busy": "2021-06-11T23:14:10.386550Z",
     "iopub.status.idle": "2021-06-11T23:14:10.391524Z",
     "shell.execute_reply": "2021-06-11T23:14:10.390055Z",
     "shell.execute_reply.started": "2021-06-11T23:14:10.386872Z"
    }
   },
   "outputs": [],
   "source": [
    "run_as_standalone_nb = False"
   ]
  },
  {
   "cell_type": "code",
   "execution_count": 3,
   "metadata": {
    "execution": {
     "iopub.execute_input": "2021-06-11T23:14:10.393808Z",
     "iopub.status.busy": "2021-06-11T23:14:10.393480Z",
     "iopub.status.idle": "2021-06-11T23:14:10.408551Z",
     "shell.execute_reply": "2021-06-11T23:14:10.407043Z",
     "shell.execute_reply.started": "2021-06-11T23:14:10.393775Z"
    }
   },
   "outputs": [],
   "source": [
    "if run_as_standalone_nb:\n",
    "    root_lib_path = Path('face2anime').resolve()\n",
    "    if not root_lib_path.exists():\n",
    "        !git clone https://github.com/davidleonfdez/face2anime.git\n",
    "    if str(root_lib_path) not in sys.path:\n",
    "        sys.path.insert(0, str(root_lib_path))\n",
    "else:\n",
    "    import local_lib_import"
   ]
  },
  {
   "cell_type": "code",
   "execution_count": 4,
   "metadata": {
    "execution": {
     "iopub.execute_input": "2021-06-11T23:14:10.410843Z",
     "iopub.status.busy": "2021-06-11T23:14:10.410384Z",
     "iopub.status.idle": "2021-06-11T23:14:10.448041Z",
     "shell.execute_reply": "2021-06-11T23:14:10.447137Z",
     "shell.execute_reply.started": "2021-06-11T23:14:10.410807Z"
    }
   },
   "outputs": [],
   "source": [
    "from face2anime.gen_utils import is_iterable\n",
    "from face2anime.layers import ConcatPoolHalfDownsamplingOp2d, ConvHalfDownsamplingOp2d, TransformsLayer\n",
    "from face2anime.losses import (ContentLossCallback, CritPredsTracker, CycleConsistencyLossCallback, \n",
    "                               CycleGANLoss, IdentityLossCallback, LossWrapper, MultiCritPredsTracker,\n",
    "                               R1GANGPCallback)\n",
    "from face2anime.misc import FeaturesCalculator\n",
    "from face2anime.networks import (CycleCritic, CycleGenerator, default_decoder, default_encoder, Img2ImgGenerator, \n",
    "                                 patch_res_critic, res_critic)\n",
    "from face2anime.train_utils import (add_ema_to_gan_learner, custom_load_model,\n",
    "                                    custom_save_model)\n",
    "from face2anime.transforms import AdaptiveAugmentsCallback, ADATransforms"
   ]
  },
  {
   "cell_type": "code",
   "execution_count": 5,
   "metadata": {
    "execution": {
     "iopub.execute_input": "2021-06-11T23:14:18.158561Z",
     "iopub.status.busy": "2021-06-11T23:14:18.158022Z",
     "iopub.status.idle": "2021-06-11T23:14:18.164549Z",
     "shell.execute_reply": "2021-06-11T23:14:18.163722Z",
     "shell.execute_reply.started": "2021-06-11T23:14:18.158519Z"
    }
   },
   "outputs": [],
   "source": [
    "device = 'cuda' if torch.cuda.is_available() else 'cpu'\n",
    "img_size = 64\n",
    "n_channels = 3\n",
    "bs = 64\n",
    "save_cycle_len = 5"
   ]
  },
  {
   "cell_type": "markdown",
   "metadata": {},
   "source": [
    "# Data"
   ]
  },
  {
   "cell_type": "markdown",
   "metadata": {},
   "source": [
    "## Target ds"
   ]
  },
  {
   "cell_type": "markdown",
   "metadata": {},
   "source": [
    "animecharacterfaces, by Kaggle user *aadilmalik94*"
   ]
  },
  {
   "cell_type": "code",
   "execution_count": null,
   "metadata": {
    "execution": {
     "iopub.execute_input": "2021-06-11T23:14:21.319844Z",
     "iopub.status.busy": "2021-06-11T23:14:21.319150Z",
     "iopub.status.idle": "2021-06-11T23:14:21.331206Z",
     "shell.execute_reply": "2021-06-11T23:14:21.329732Z",
     "shell.execute_reply.started": "2021-06-11T23:14:21.319790Z"
    }
   },
   "outputs": [],
   "source": [
    "anime_ds_path = Path('/kaggle/input/animecharacterfaces/animeface-character-dataset/data').resolve()"
   ]
  },
  {
   "cell_type": "markdown",
   "metadata": {},
   "source": [
    "## Input ds"
   ]
  },
  {
   "cell_type": "code",
   "execution_count": null,
   "metadata": {
    "execution": {
     "iopub.execute_input": "2021-06-11T23:14:21.850121Z",
     "iopub.status.busy": "2021-06-11T23:14:21.849672Z",
     "iopub.status.idle": "2021-06-11T23:14:26.108131Z",
     "shell.execute_reply": "2021-06-11T23:14:26.106803Z",
     "shell.execute_reply.started": "2021-06-11T23:14:21.850081Z"
    }
   },
   "outputs": [],
   "source": [
    "celeba_path = Path('/kaggle/input/celeba-dataset/img_align_celeba/img_align_celeba')\n",
    "#input_fns = get_image_files(celeba_path)\n",
    "# get_image_files is too slow, there's no need to check the extension here\n",
    "input_a_fns = celeba_path.ls()\n",
    "input_a_fns"
   ]
  },
  {
   "cell_type": "markdown",
   "metadata": {},
   "source": [
    "The ds path passed to `dblock.dataloaders()` or `ImageDataLoaders.from_dblock()` will be forwarded\n",
    "to `get_items`, which will return a list of items, usually a list of image paths if `get_items=get_image_files`.\n",
    "\n",
    "So, for each item, we are expected to receive a filename `fn` and be able to\n",
    "derive x and y from it, with `get_x(fn)` and `get_y(fn)`.\n",
    "\n",
    "For bidirectional unpaired image to image translation, we can:\n",
    "* Use the domain B ds path as the DataBlock `source`. \n",
    "* Load independently the filenames of the domain A ds; let's call it `input_a_fns`\n",
    "* `get_y` needs two functions:\n",
    "  * The first one can just return the path received (domain B).\n",
    "  * The second returns a random item from `input_a_fns` (domain A).\n",
    "* `get_x` also needs two functions:\n",
    "  * The first one return a random item from `input_a_fns` (domain A).\n",
    "  * The second can just return the path received (domain B).\n",
    "* `get_x` and `get_y` are called every time a data item is used; so, by using random, we can be sure every x is not tied to a fixed y; i.e., they won't be together in the same (x, y) batch every epoch for loss calculation.\n",
    "* In this case, domain A: human faces; domain B: anime faces.\n"
   ]
  },
  {
   "cell_type": "markdown",
   "metadata": {},
   "source": [
    "---"
   ]
  },
  {
   "cell_type": "code",
   "execution_count": null,
   "metadata": {
    "execution": {
     "iopub.execute_input": "2021-06-11T23:14:30.218622Z",
     "iopub.status.busy": "2021-06-11T23:14:30.218152Z",
     "iopub.status.idle": "2021-06-11T23:14:35.438287Z",
     "shell.execute_reply": "2021-06-11T23:14:35.436844Z",
     "shell.execute_reply.started": "2021-06-11T23:14:30.218581Z"
    }
   },
   "outputs": [],
   "source": [
    "def reverse_domain(domain): return \"B\" if domain == \"A\" else \"A\"\n",
    "\n",
    "\n",
    "def get_random_fn_a(fn):\n",
    "    return input_a_fns[random.randint(0, len(input_a_fns)-1)]\n",
    "\n",
    "\n",
    "normalize_tf = Normalize.from_stats(torch.tensor([0.5,0.5,0.5]), torch.tensor([0.5,0.5,0.5]))\n",
    "\n",
    "\n",
    "def get_dblock(extra_batch_tfms=None):\n",
    "    if extra_batch_tfms is None: extra_batch_tfms = []    \n",
    "    return DataBlock(blocks=(ImageBlock, ImageBlock, ImageBlock, ImageBlock),\n",
    "                     get_x=[get_random_fn_a, noop],\n",
    "                     get_y=[noop, get_random_fn_a],\n",
    "                     get_items=get_image_files,\n",
    "                     #get_items=lambda path: target_fns,\n",
    "                     splitter=IndexSplitter([]),\n",
    "                     item_tfms=Resize(img_size, method=ResizeMethod.Crop), \n",
    "                     batch_tfms=[normalize_tf] + extra_batch_tfms,\n",
    "                     n_inp=2)\n",
    "\n",
    "\n",
    "dblock = get_dblock()\n",
    "main_path = anime_ds_path\n",
    "dls = dblock.dataloaders(main_path, path=main_path, bs=bs)"
   ]
  },
  {
   "cell_type": "code",
   "execution_count": null,
   "metadata": {
    "execution": {
     "iopub.execute_input": "2021-06-11T23:14:35.441504Z",
     "iopub.status.busy": "2021-06-11T23:14:35.440987Z",
     "iopub.status.idle": "2021-06-11T23:14:35.446611Z",
     "shell.execute_reply": "2021-06-11T23:14:35.445113Z",
     "shell.execute_reply.started": "2021-06-11T23:14:35.441456Z"
    }
   },
   "outputs": [],
   "source": [
    "# It doesn't work for now\n",
    "# dls.show_batch()"
   ]
  },
  {
   "cell_type": "code",
   "execution_count": null,
   "metadata": {
    "execution": {
     "iopub.execute_input": "2021-06-11T23:14:35.449272Z",
     "iopub.status.busy": "2021-06-11T23:14:35.448785Z",
     "iopub.status.idle": "2021-06-11T23:14:36.993156Z",
     "shell.execute_reply": "2021-06-11T23:14:36.991842Z",
     "shell.execute_reply.started": "2021-06-11T23:14:35.449233Z"
    }
   },
   "outputs": [],
   "source": [
    "sample_batch = dls.one_batch()\n",
    "titles = ['x1 (A)', 'x2 (B)', 'y1 (B)', 'y2 (A)']\n",
    "_, axs = plt.subplots(1, 4)\n",
    "for t, ax, title in zip(sample_batch, axs, titles):\n",
    "    normalize_tf.decode(t)[0].show(ax=ax, title=title)"
   ]
  },
  {
   "cell_type": "markdown",
   "metadata": {},
   "source": [
    "# Loss function utils"
   ]
  },
  {
   "cell_type": "code",
   "execution_count": null,
   "metadata": {
    "execution": {
     "iopub.execute_input": "2021-06-11T01:02:11.684558Z",
     "iopub.status.busy": "2021-06-11T01:02:11.684217Z",
     "iopub.status.idle": "2021-06-11T01:02:41.611228Z",
     "shell.execute_reply": "2021-06-11T01:02:41.61003Z",
     "shell.execute_reply.started": "2021-06-11T01:02:11.684525Z"
    }
   },
   "outputs": [],
   "source": [
    "vgg_content_layers_idx = [22]\n",
    "ftrs_calc = FeaturesCalculator([], vgg_content_layers_idx, device=device,\n",
    "                               input_norm_tf=normalize_tf)"
   ]
  },
  {
   "cell_type": "markdown",
   "metadata": {},
   "source": [
    "------------------\n",
    "\n",
    "# Training"
   ]
  },
  {
   "cell_type": "code",
   "execution_count": null,
   "metadata": {
    "execution": {
     "iopub.execute_input": "2021-06-11T23:15:08.710511Z",
     "iopub.status.busy": "2021-06-11T23:15:08.710021Z",
     "iopub.status.idle": "2021-06-11T23:15:08.730701Z",
     "shell.execute_reply": "2021-06-11T23:15:08.729335Z",
     "shell.execute_reply.started": "2021-06-11T23:15:08.710474Z"
    }
   },
   "outputs": [],
   "source": [
    "def clean_mem():\n",
    "    if torch.cuda.is_available(): torch.cuda.empty_cache()\n",
    "    gc.collect()\n",
    "\n",
    "\n",
    "def predict_n(learner, inputs_idxs:Union[int, Tuple[int, int]], max_bs=64):\n",
    "    dummy_path = Path('.')\n",
    "    items = learner.dls.train.items\n",
    "    if isinstance(inputs_idxs, int):\n",
    "        n_imgs = inputs_idxs\n",
    "        ini_idx = 0\n",
    "        end_idx = n_imgs\n",
    "    else:\n",
    "        ini_idx, end_idx = inputs_idxs\n",
    "        n_imgs = end_idx - ini_idx\n",
    "    if len(items) < end_idx: items = list(itertools.islice(itertools.cycle(items), ini_idx, end_idx))\n",
    "    dl = learner.dls.test_dl(items[:n_imgs], bs=max_bs)   \n",
    "    inp, _, _, dec_imgs_t = learner.get_preds(dl=dl, with_input=True, with_decoded=True)\n",
    "    dec_batch = dls.decode_batch(inp + dec_imgs_t, max_n=n_imgs)\n",
    "    return dec_batch\n",
    "\n",
    "\n",
    "def predict_show_n(learner, n_imgs, **predict_n_kwargs):\n",
    "    preds_batch = predict_n(learner, n_imgs, **predict_n_kwargs)\n",
    "    _, axs = plt.subplots(n_imgs, 4, figsize=(12, n_imgs * 3))\n",
    "    for i, (in_a, in_b, pred_a2b, pred_b2a) in enumerate(preds_batch):\n",
    "        in_a.show(ax=axs[i][0], title='In A')\n",
    "        pred_a2b.show(ax=axs[i][1], title='Out A->B')\n",
    "        in_b.show(ax=axs[i][2], title='In B')\n",
    "        pred_b2a.show(ax=axs[i][3], title='Out B->A')\n",
    "\n",
    "        \n",
    "class SaveCheckpointsCallback(Callback):\n",
    "    \"Callback that saves the model at the end of each epoch.\"\n",
    "    def __init__(self, fn_prefix, base_path=Path('.'), initial_epoch=1,\n",
    "                 save_cycle_len=1):\n",
    "        self.fn_prefix = fn_prefix\n",
    "        self.base_path = base_path\n",
    "        self.epoch = initial_epoch\n",
    "        self.save_cycle_len = save_cycle_len\n",
    "        \n",
    "    def after_epoch(self):\n",
    "        if (self.epoch % self.save_cycle_len) == 0:\n",
    "            fn = f'{self.fn_prefix}_{self.epoch}ep'\n",
    "            custom_save_model(self.learn, fn, base_path=self.base_path)\n",
    "        self.epoch += 1\n",
    "        \n",
    "        \n",
    "def save_preds(c_preds_tracker, filepaths):\n",
    "    return [df.to_csv(filepath) for df, filepath in zip(c_preds_tracker.to_dfs(), filepaths)]\n",
    "        \n",
    "    \n",
    "def plot_c_preds(c_preds_tracker):\n",
    "    preds_xs = range(len(c_preds_tracker.real_preds))\n",
    "    sns.lineplot(x=preds_xs, y=c_preds_tracker.fake_preds.cpu(), label='Fake preds')\n",
    "    ax=sns.lineplot(x=preds_xs, y=c_preds_tracker.real_preds.cpu(), label='Real preds')\n",
    "    ax.set_xlabel('Number of batches')\n",
    "    ax.set_ylabel('Critic preds')\n",
    "    return ax\n",
    "\n",
    "\n",
    "def plot_multi_c_preds(multi_c_preds_tracker, titles):\n",
    "    for c_preds_tracker, title in zip(multi_c_preds_tracker.trackers, titles):\n",
    "        ax=plot_c_preds(c_preds_tracker)\n",
    "        plt.legend(title=title)\n",
    "        plt.figure()"
   ]
  },
  {
   "cell_type": "code",
   "execution_count": null,
   "metadata": {
    "execution": {
     "iopub.execute_input": "2021-06-11T23:15:08.947733Z",
     "iopub.status.busy": "2021-06-11T23:15:08.947176Z",
     "iopub.status.idle": "2021-06-11T23:15:08.972059Z",
     "shell.execute_reply": "2021-06-11T23:15:08.970196Z",
     "shell.execute_reply.started": "2021-06-11T23:15:08.947691Z"
    }
   },
   "outputs": [],
   "source": [
    "def _forward_batch(model, batch, device):\n",
    "    input = batch[:2]\n",
    "    if device is not None:\n",
    "        for i in range(2): input[i] = input[i].to(device)\n",
    "    model(*input)\n",
    "\n",
    "\n",
    "def create_learner(for_inference=False, dblock=dblock, dls=dls, gp_w=10., latent_sz=100, \n",
    "                   mid_mlp_depth=2, g_norm=NormType.Instance, n_crit_iters=3,\n",
    "                   n_extra_convs_by_c_res_block=1, cycle_cons_w=0, id_loss_w=0, \n",
    "                   use_patch_critic=False):\n",
    "    leakyReLU02 = partial(nn.LeakyReLU, negative_slope=0.2)\n",
    "    down_op = ConvHalfDownsamplingOp2d(ks=4, act_cls=leakyReLU02, bn_1st=False,\n",
    "                                       norm_type=NormType.Batch)\n",
    "    id_down_op = ConcatPoolHalfDownsamplingOp2d(conv_ks=3, act_cls=None, norm_type=None)\n",
    "    crit_args = [img_size, n_channels, down_op, id_down_op]\n",
    "    if use_patch_critic: crit_args.insert(2, img_size//8)\n",
    "    crit_kwargs = dict(n_extra_convs_by_res_block=n_extra_convs_by_c_res_block, \n",
    "                       act_cls=leakyReLU02, bn_1st=False, n_features=128, \n",
    "                       flatten_full=True)\n",
    "    crit_builder = patch_res_critic if use_patch_critic else res_critic \n",
    "    base_critics = [crit_builder(*crit_args, **crit_kwargs) for _ in range(2)]\n",
    "    base_critics = CycleCritic(*base_critics)\n",
    "    critic = base_critics\n",
    "    \n",
    "    def _decoder_builder(imsz, nch, latsz, hooks_by_sz=None): \n",
    "        return default_decoder(imsz, nch, latsz, norm_type=g_norm, hooks_by_sz=hooks_by_sz)\n",
    "    generators = [Img2ImgGenerator(img_size, n_channels, mid_mlp_depth=mid_mlp_depth, skip_connect=True,\n",
    "                                   encoder=default_encoder(img_size, n_channels, latent_sz, norm_type=g_norm),\n",
    "                                   decoder_builder=_decoder_builder)\n",
    "                  for _ in range(2)]\n",
    "    generator = CycleGenerator(*generators)\n",
    "    \n",
    "    cbs = []\n",
    "    c_loss_interceptors = []\n",
    "    metrics = []\n",
    "    if not for_inference:\n",
    "        # Pass base_critic to avoid grid_sample 2nd order derivative issue with ada critic\n",
    "        cbs.append(R1GANGPCallback(weight=gp_w, critic=base_critics))\n",
    "        if cycle_cons_w > 0: \n",
    "            cbs.append(CycleConsistencyLossCallback(generator.g_a2b, \n",
    "                                                    generator.g_b2a, \n",
    "                                                    weight=cycle_cons_w))\n",
    "            metrics.append('cycle_loss')\n",
    "        if id_loss_w > 0:\n",
    "            cbs.append(IdentityLossCallback(generator.g_a2b, \n",
    "                                            generator.g_b2a, \n",
    "                                            weight=id_loss_w))\n",
    "            metrics.append('identity_loss')\n",
    "        overall_crit_preds_tracker = MultiCritPredsTracker(reduce_batch=True)\n",
    "        c_loss_interceptors.append(overall_crit_preds_tracker)\n",
    "        \n",
    "    def gen_loss_func(*args): return 0\n",
    "    crit_loss_func = nn.BCEWithLogitsLoss()\n",
    "    loss_G, loss_C = gan_loss_from_func(gen_loss_func, crit_loss_func)\n",
    "    loss_C = LossWrapper(loss_C, c_loss_interceptors)\n",
    "    \n",
    "    learn = GANLearner(dls, generator, critic, loss_G, loss_C,\n",
    "                       opt_func=partial(Adam, mom=0., sqr_mom=0.99, wd=0.),\n",
    "                       cbs=cbs, switcher=FixedGANSwitcher(n_crit=n_crit_iters, n_gen=1),\n",
    "                       switch_eval=False, metrics=LossMetrics(metrics) or None)\n",
    "    learn.loss_func = CycleGANLoss(learn.loss_func)\n",
    "    learn.recorder.train_metrics=True\n",
    "    learn.recorder.valid_metrics=False\n",
    "    add_ema_to_gan_learner(learn, dblock, decay=0.999, forward_batch=_forward_batch)\n",
    "    if not for_inference: learn.crit_preds_tracker = overall_crit_preds_tracker\n",
    "    return learn"
   ]
  },
  {
   "cell_type": "markdown",
   "metadata": {},
   "source": [
    "## TR 1: SN+BN critic, BN+SN gen (both encoder and decoder), no extra losses"
   ]
  },
  {
   "cell_type": "code",
   "execution_count": null,
   "metadata": {
    "execution": {
     "iopub.execute_input": "2021-06-11T22:28:02.299937Z",
     "iopub.status.busy": "2021-06-11T22:28:02.299506Z",
     "iopub.status.idle": "2021-06-11T22:28:02.305608Z",
     "shell.execute_reply": "2021-06-11T22:28:02.304385Z",
     "shell.execute_reply.started": "2021-06-11T22:28:02.299877Z"
    }
   },
   "outputs": [],
   "source": [
    "def create_learner_1(*args, **kwargs):\n",
    "    return create_learner(*args, **kwargs, gp_w=10., g_norm=NormType.Batch)"
   ]
  },
  {
   "cell_type": "code",
   "execution_count": null,
   "metadata": {
    "execution": {
     "iopub.execute_input": "2021-06-11T22:28:02.492827Z",
     "iopub.status.busy": "2021-06-11T22:28:02.492421Z",
     "iopub.status.idle": "2021-06-11T22:28:04.936044Z",
     "shell.execute_reply": "2021-06-11T22:28:04.935065Z",
     "shell.execute_reply.started": "2021-06-11T22:28:02.492791Z"
    }
   },
   "outputs": [],
   "source": [
    "learn = create_learner_1()\n",
    "learn.add_cb(SaveCheckpointsCallback('face2anime_bidir_tr1', initial_epoch=1,\n",
    "                                     save_cycle_len=save_cycle_len))\n",
    "ema_g_learn = Learner(dls, learn.ema_model, loss_func=lambda *args: torch.tensor(0.))\n",
    "lr = 2e-4"
   ]
  },
  {
   "cell_type": "code",
   "execution_count": null,
   "metadata": {
    "execution": {
     "iopub.execute_input": "2021-06-11T22:28:07.197706Z",
     "iopub.status.busy": "2021-06-11T22:28:07.197139Z",
     "iopub.status.idle": "2021-06-11T22:28:07.212989Z",
     "shell.execute_reply": "2021-06-11T22:28:07.211932Z",
     "shell.execute_reply.started": "2021-06-11T22:28:07.197650Z"
    },
    "jupyter": {
     "outputs_hidden": true
    }
   },
   "outputs": [],
   "source": [
    "learn.model.critic, learn.model.generator"
   ]
  },
  {
   "cell_type": "code",
   "execution_count": null,
   "metadata": {
    "execution": {
     "iopub.execute_input": "2021-06-10T17:52:11.063646Z",
     "iopub.status.busy": "2021-06-10T17:52:11.063213Z",
     "iopub.status.idle": "2021-06-10T17:52:29.040972Z",
     "shell.execute_reply": "2021-06-10T17:52:29.040125Z",
     "shell.execute_reply.started": "2021-06-10T17:52:11.063612Z"
    }
   },
   "outputs": [],
   "source": [
    "# custom_load_model(learn, 'face2anime_bidir_tr1_50ep', base_path='./models', with_ema=True)\n",
    "# #preds_df = pd.read_csv(io.StringIO(preds_csv_str), index_col=0)\n",
    "# #learn.crit_preds_tracker.load_from_df(preds_df, device)\n",
    "# with learn.removed_cbs([learn.save_checkpoints]) as displayable_learn:\n",
    "#     displayable_learn.show_results(ds_idx=0)"
   ]
  },
  {
   "cell_type": "code",
   "execution_count": null,
   "metadata": {
    "execution": {
     "iopub.execute_input": "2021-06-11T22:28:51.559583Z",
     "iopub.status.busy": "2021-06-11T22:28:51.559174Z",
     "iopub.status.idle": "2021-06-11T22:38:50.760719Z",
     "shell.execute_reply": "2021-06-11T22:38:50.757428Z",
     "shell.execute_reply.started": "2021-06-11T22:28:51.559550Z"
    },
    "jupyter": {
     "outputs_hidden": true
    }
   },
   "outputs": [],
   "source": [
    "learn.fit(200, lr)\n",
    "with learn.removed_cbs([learn.save_checkpoints]) as displayable_learn:\n",
    "    displayable_learn.show_results(ds_idx=0)"
   ]
  },
  {
   "cell_type": "code",
   "execution_count": null,
   "metadata": {},
   "outputs": [],
   "source": [
    "ema_g_learn.show_results(ds_idx=0)"
   ]
  },
  {
   "cell_type": "code",
   "execution_count": null,
   "metadata": {},
   "outputs": [],
   "source": [
    "plot_multi_c_preds(learn.crit_preds_tracker, ['A->B', 'B->A'])"
   ]
  },
  {
   "cell_type": "code",
   "execution_count": null,
   "metadata": {},
   "outputs": [],
   "source": [
    "save_preds(learn.crit_preds_tracker, \n",
    "           [Path('crit_preds_face2anime_bidir_a2b_tr1_200ep.csv'),\n",
    "            Path('crit_preds_face2anime_bidir_b2a_tr1_200ep.csv')])"
   ]
  },
  {
   "cell_type": "markdown",
   "metadata": {},
   "source": [
    "## TR 2: SN+BN critic, BN+SN gen (both encoder and decoder), cycle consistency loss, identity loss"
   ]
  },
  {
   "cell_type": "markdown",
   "metadata": {},
   "source": [
    "### 2a: global critic"
   ]
  },
  {
   "cell_type": "code",
   "execution_count": null,
   "metadata": {
    "execution": {
     "iopub.execute_input": "2021-06-11T23:15:23.694687Z",
     "iopub.status.busy": "2021-06-11T23:15:23.694130Z",
     "iopub.status.idle": "2021-06-11T23:15:23.701546Z",
     "shell.execute_reply": "2021-06-11T23:15:23.700231Z",
     "shell.execute_reply.started": "2021-06-11T23:15:23.694651Z"
    }
   },
   "outputs": [],
   "source": [
    "def create_learner_2(*args, **kwargs):\n",
    "    return create_learner(*args, **kwargs, gp_w=10., g_norm=NormType.Batch, \n",
    "                          cycle_cons_w=1., id_loss_w=1.)"
   ]
  },
  {
   "cell_type": "code",
   "execution_count": null,
   "metadata": {
    "execution": {
     "iopub.execute_input": "2021-06-11T23:15:24.257973Z",
     "iopub.status.busy": "2021-06-11T23:15:24.257491Z",
     "iopub.status.idle": "2021-06-11T23:15:26.689391Z",
     "shell.execute_reply": "2021-06-11T23:15:26.688110Z",
     "shell.execute_reply.started": "2021-06-11T23:15:24.257930Z"
    }
   },
   "outputs": [],
   "source": [
    "learn = create_learner_2()\n",
    "learn.add_cb(SaveCheckpointsCallback('face2anime_bidir_tr2', initial_epoch=1,\n",
    "                                     save_cycle_len=save_cycle_len))\n",
    "cbs_to_remove_for_display = [learn.save_checkpoints, \n",
    "                             learn.cycle_consistency_loss, \n",
    "                             learn.identity_loss]\n",
    "ema_g_learn = Learner(dls, learn.ema_model, loss_func=lambda *args: torch.tensor(0.))\n",
    "lr = 2e-4"
   ]
  },
  {
   "cell_type": "code",
   "execution_count": null,
   "metadata": {
    "execution": {
     "iopub.execute_input": "2021-06-11T23:15:27.579222Z",
     "iopub.status.busy": "2021-06-11T23:15:27.578586Z",
     "iopub.status.idle": "2021-06-11T23:22:26.231713Z",
     "shell.execute_reply": "2021-06-11T23:22:26.227180Z",
     "shell.execute_reply.started": "2021-06-11T23:15:27.579185Z"
    },
    "jupyter": {
     "outputs_hidden": true
    }
   },
   "outputs": [],
   "source": [
    "learn.fit(200, lr)\n",
    "with learn.removed_cbs([learn.save_checkpoints]) as displayable_learn:\n",
    "    predict_show_n(displayable_learn, 6)"
   ]
  },
  {
   "cell_type": "code",
   "execution_count": null,
   "metadata": {
    "execution": {
     "iopub.execute_input": "2021-06-10T17:52:59.756085Z",
     "iopub.status.busy": "2021-06-10T17:52:59.755706Z",
     "iopub.status.idle": "2021-06-10T17:53:05.928361Z",
     "shell.execute_reply": "2021-06-10T17:53:05.927079Z",
     "shell.execute_reply.started": "2021-06-10T17:52:59.756051Z"
    }
   },
   "outputs": [],
   "source": [
    "ema_g_learn.show_results(ds_idx=0)"
   ]
  },
  {
   "cell_type": "code",
   "execution_count": null,
   "metadata": {
    "execution": {
     "iopub.execute_input": "2021-06-09T18:48:00.408937Z",
     "iopub.status.busy": "2021-06-09T18:48:00.40839Z",
     "iopub.status.idle": "2021-06-09T18:48:02.026934Z",
     "shell.execute_reply": "2021-06-09T18:48:02.026053Z",
     "shell.execute_reply.started": "2021-06-09T18:48:00.408896Z"
    }
   },
   "outputs": [],
   "source": [
    "plot_multi_c_preds(learn.crit_preds_tracker, ['A->B', 'B->A'])"
   ]
  },
  {
   "cell_type": "code",
   "execution_count": null,
   "metadata": {
    "execution": {
     "iopub.execute_input": "2021-06-09T18:48:02.031673Z",
     "iopub.status.busy": "2021-06-09T18:48:02.031372Z",
     "iopub.status.idle": "2021-06-09T18:48:02.085392Z",
     "shell.execute_reply": "2021-06-09T18:48:02.084574Z",
     "shell.execute_reply.started": "2021-06-09T18:48:02.031643Z"
    }
   },
   "outputs": [],
   "source": [
    "save_preds(learn.crit_preds_tracker, \n",
    "           [Path('crit_preds_face2anime_bidir_a2b_tr2_200ep.csv'),\n",
    "            Path('crit_preds_face2anime_bidir_b2a_tr2_200ep.csv')])"
   ]
  },
  {
   "cell_type": "markdown",
   "metadata": {},
   "source": [
    "### 2b: patch critic"
   ]
  },
  {
   "cell_type": "code",
   "execution_count": null,
   "metadata": {},
   "outputs": [],
   "source": [
    "def create_learner_2b(*args, **kwargs):\n",
    "    return create_learner_2(*args, **kwargs, use_patch_critic=True, \n",
    "                            n_extra_convs_by_c_res_block=0)"
   ]
  },
  {
   "cell_type": "code",
   "execution_count": null,
   "metadata": {},
   "outputs": [],
   "source": [
    "learn = create_learner_2b()\n",
    "learn.add_cb(SaveCheckpointsCallback('face2anime_bidir_tr2b', initial_epoch=1,\n",
    "                                     save_cycle_len=save_cycle_len))\n",
    "cbs_to_remove_for_display = [learn.save_checkpoints, \n",
    "                             learn.cycle_consistency_loss, \n",
    "                             learn.identity_loss]\n",
    "ema_g_learn = Learner(dls, learn.ema_model, loss_func=lambda *args: torch.tensor(0.))\n",
    "lr = 2e-4"
   ]
  },
  {
   "cell_type": "code",
   "execution_count": null,
   "metadata": {},
   "outputs": [],
   "source": [
    "learn.fit(200, lr)\n",
    "with learn.removed_cbs(cbs_to_remove_for_display) as displayable_learn:\n",
    "    predict_show_n(displayable_learn, 6)"
   ]
  },
  {
   "cell_type": "code",
   "execution_count": null,
   "metadata": {},
   "outputs": [],
   "source": [
    "predict_show_n(ema_g_learn, 6)"
   ]
  },
  {
   "cell_type": "code",
   "execution_count": null,
   "metadata": {},
   "outputs": [],
   "source": [
    "plot_multi_c_preds(learn.crit_preds_tracker, ['A->B', 'B->A'])"
   ]
  },
  {
   "cell_type": "code",
   "execution_count": null,
   "metadata": {},
   "outputs": [],
   "source": [
    "save_preds(learn.crit_preds_tracker, \n",
    "           [Path('crit_preds_face2anime_bidir_a2b_tr2b_200ep.csv'),\n",
    "            Path('crit_preds_face2anime_bidir_b2a_tr2b_200ep.csv')])"
   ]
  },
  {
   "cell_type": "markdown",
   "metadata": {},
   "source": [
    "### TR 2c: patch critic, tfms = {Flip, Warp, Zoom}"
   ]
  },
  {
   "cell_type": "code",
   "execution_count": null,
   "metadata": {},
   "outputs": [],
   "source": [
    "def create_learner_2c(*args, for_inference=False, **kwargs):\n",
    "    extra_tfms = [Flip(p=0.5), Warp(p=0.5), Zoom(p=0.5, max_zoom=1.1)] if not for_inference else []\n",
    "    aug_dblock = get_dblock(extra_batch_tfms=extra_tfms)\n",
    "    aug_dls = aug_dblock.dataloaders(main_path, path=main_path, bs=bs)    \n",
    "    \n",
    "    return create_learner_2(*args, **kwargs, for_inference=for_inference, dblock=aug_dblock, \n",
    "                            dls=aug_dls, use_patch_critic=True, n_extra_convs_by_c_res_block=0)"
   ]
  },
  {
   "cell_type": "code",
   "execution_count": null,
   "metadata": {},
   "outputs": [],
   "source": [
    "learn = create_learner_2c()\n",
    "learn.add_cb(SaveCheckpointsCallback('face2anime_bidir_tr2c', initial_epoch=1,\n",
    "                                     save_cycle_len=save_cycle_len))\n",
    "cbs_to_remove_for_display = [learn.save_checkpoints, \n",
    "                             learn.cycle_consistency_loss, \n",
    "                             learn.identity_loss]\n",
    "ema_g_learn = Learner(dls, learn.ema_model, loss_func=lambda *args: torch.tensor(0.))\n",
    "lr = 2e-4"
   ]
  },
  {
   "cell_type": "code",
   "execution_count": null,
   "metadata": {},
   "outputs": [],
   "source": [
    "learn.fit(200, lr)\n",
    "with learn.removed_cbs(cbs_to_remove_for_display) as displayable_learn:\n",
    "    predict_show_n(displayable_learn, 6)"
   ]
  },
  {
   "cell_type": "code",
   "execution_count": null,
   "metadata": {},
   "outputs": [],
   "source": [
    "predict_show_n(ema_g_learn, 6)"
   ]
  },
  {
   "cell_type": "code",
   "execution_count": null,
   "metadata": {},
   "outputs": [],
   "source": [
    "plot_multi_c_preds(learn.crit_preds_tracker, ['A->B', 'B->A'])"
   ]
  },
  {
   "cell_type": "code",
   "execution_count": null,
   "metadata": {},
   "outputs": [],
   "source": [
    "save_preds(learn.crit_preds_tracker, \n",
    "           [Path('crit_preds_face2anime_bidir_a2b_tr2c_200ep.csv'),\n",
    "            Path('crit_preds_face2anime_bidir_b2a_tr2c_200ep.csv')])"
   ]
  },
  {
   "cell_type": "markdown",
   "metadata": {},
   "source": [
    "## TR 3: SN+BN critic, IN+SN gen (both encoder and decoder), cycle consistency loss, identity loss"
   ]
  },
  {
   "cell_type": "code",
   "execution_count": null,
   "metadata": {},
   "outputs": [],
   "source": [
    "def create_learner_3(*args, **kwargs):\n",
    "    return create_learner(*args, **kwargs, gp_w=10., g_norm=NormType.Instance, \n",
    "                          cycle_cons_w=1., id_loss_w=1.)"
   ]
  },
  {
   "cell_type": "markdown",
   "metadata": {},
   "source": [
    "### Tr 3b: patch critic"
   ]
  },
  {
   "cell_type": "code",
   "execution_count": null,
   "metadata": {},
   "outputs": [],
   "source": [
    "def create_learner_3b(*args, **kwargs):\n",
    "    return create_learner_3(*args, **kwargs, use_patch_critic=True, \n",
    "                            n_extra_convs_by_c_res_block=0)"
   ]
  },
  {
   "cell_type": "code",
   "execution_count": null,
   "metadata": {},
   "outputs": [],
   "source": [
    "learn = create_learner_3b()\n",
    "learn.add_cb(SaveCheckpointsCallback('face2anime_bidir_tr3b', initial_epoch=1,\n",
    "                                     save_cycle_len=save_cycle_len))\n",
    "cbs_to_remove_for_display = [learn.save_checkpoints, \n",
    "                             learn.cycle_consistency_loss, \n",
    "                             learn.identity_loss]\n",
    "ema_g_learn = Learner(dls, learn.ema_model, loss_func=lambda *args: torch.tensor(0.))\n",
    "lr = 2e-4"
   ]
  },
  {
   "cell_type": "code",
   "execution_count": null,
   "metadata": {},
   "outputs": [],
   "source": [
    "learn.fit(200, lr)\n",
    "with learn.removed_cbs(cbs_to_remove_for_display) as displayable_learn:\n",
    "    predict_show_n(displayable_learn, 6)"
   ]
  },
  {
   "cell_type": "code",
   "execution_count": null,
   "metadata": {},
   "outputs": [],
   "source": [
    "predict_show_n(ema_g_learn, 6)"
   ]
  },
  {
   "cell_type": "code",
   "execution_count": null,
   "metadata": {},
   "outputs": [],
   "source": [
    "plot_multi_c_preds(learn.crit_preds_tracker, ['A->B', 'B->A'])"
   ]
  },
  {
   "cell_type": "code",
   "execution_count": null,
   "metadata": {},
   "outputs": [],
   "source": [
    "save_preds(learn.crit_preds_tracker, \n",
    "           [Path('crit_preds_face2anime_bidir_a2b_tr3b_200ep.csv'),\n",
    "            Path('crit_preds_face2anime_bidir_b2a_tr3b_200ep.csv')])"
   ]
  },
  {
   "cell_type": "markdown",
   "metadata": {},
   "source": [
    "### TR 3c: patch critic, tfms = {Flip, Warp, Zoom}"
   ]
  },
  {
   "cell_type": "code",
   "execution_count": null,
   "metadata": {},
   "outputs": [],
   "source": [
    "def create_learner_3c(*args, for_inference=False, **kwargs):\n",
    "    extra_tfms = [Flip(p=0.5), Warp(p=0.5), Zoom(p=0.5, max_zoom=1.1)] if not for_inference else []\n",
    "    aug_dblock = get_dblock(extra_batch_tfms=extra_tfms)\n",
    "    aug_dls = aug_dblock.dataloaders(main_path, path=main_path, bs=bs)    \n",
    "    \n",
    "    return create_learner_3(*args, **kwargs, for_inference=for_inference, dblock=aug_dblock, \n",
    "                            dls=aug_dls, use_patch_critic=True, n_extra_convs_by_c_res_block=0)"
   ]
  },
  {
   "cell_type": "code",
   "execution_count": null,
   "metadata": {},
   "outputs": [],
   "source": [
    "learn = create_learner_3c()\n",
    "learn.add_cb(SaveCheckpointsCallback('face2anime_bidir_tr3c', initial_epoch=1,\n",
    "                                     save_cycle_len=save_cycle_len))\n",
    "cbs_to_remove_for_display = [learn.save_checkpoints, \n",
    "                             learn.cycle_consistency_loss, \n",
    "                             learn.identity_loss]\n",
    "ema_g_learn = Learner(dls, learn.ema_model, loss_func=lambda *args: torch.tensor(0.))\n",
    "lr = 2e-4"
   ]
  },
  {
   "cell_type": "code",
   "execution_count": null,
   "metadata": {},
   "outputs": [],
   "source": [
    "learn.fit(200, lr)\n",
    "with learn.removed_cbs(cbs_to_remove_for_display) as displayable_learn:\n",
    "    predict_show_n(displayable_learn, 6)"
   ]
  },
  {
   "cell_type": "code",
   "execution_count": null,
   "metadata": {},
   "outputs": [],
   "source": [
    "predict_show_n(ema_g_learn, 6)"
   ]
  },
  {
   "cell_type": "code",
   "execution_count": null,
   "metadata": {},
   "outputs": [],
   "source": [
    "plot_multi_c_preds(learn.crit_preds_tracker, ['A->B', 'B->A'])"
   ]
  },
  {
   "cell_type": "code",
   "execution_count": null,
   "metadata": {},
   "outputs": [],
   "source": [
    "save_preds(learn.crit_preds_tracker, \n",
    "           [Path('crit_preds_face2anime_bidir_a2b_tr3c_200ep.csv'),\n",
    "            Path('crit_preds_face2anime_bidir_b2a_tr3c_200ep.csv')])"
   ]
  },
  {
   "cell_type": "markdown",
   "metadata": {},
   "source": [
    "### TR 3d: patch critic, tfms = {Flip, Warp, Zoom, Rotate}"
   ]
  },
  {
   "cell_type": "code",
   "execution_count": null,
   "metadata": {},
   "outputs": [],
   "source": [
    "def create_learner_3d(*args, for_inference=False, **kwargs):\n",
    "    extra_tfms = ([Flip(p=0.5), Warp(p=0.5), Zoom(p=0.5, max_zoom=1.1), Rotate(p=0.6, max_deg=30)] \n",
    "                 if not for_inference \n",
    "                 else [])\n",
    "    aug_dblock = get_dblock(extra_batch_tfms=extra_tfms)\n",
    "    aug_dls = aug_dblock.dataloaders(main_path, path=main_path, bs=bs)    \n",
    "    \n",
    "    return create_learner_3(*args, **kwargs, for_inference=for_inference, dblock=aug_dblock, \n",
    "                            dls=aug_dls, use_patch_critic=True, n_extra_convs_by_c_res_block=0)"
   ]
  },
  {
   "cell_type": "code",
   "execution_count": null,
   "metadata": {},
   "outputs": [],
   "source": [
    "learn = create_learner_3d()\n",
    "learn.add_cb(SaveCheckpointsCallback('face2anime_bidir_tr3d', initial_epoch=1,\n",
    "                                     save_cycle_len=save_cycle_len))\n",
    "cbs_to_remove_for_display = [learn.save_checkpoints, \n",
    "                             learn.cycle_consistency_loss, \n",
    "                             learn.identity_loss]\n",
    "ema_g_learn = Learner(dls, learn.ema_model, loss_func=lambda *args: torch.tensor(0.))\n",
    "lr = 2e-4"
   ]
  },
  {
   "cell_type": "code",
   "execution_count": null,
   "metadata": {},
   "outputs": [],
   "source": [
    "learn.fit(200, lr)\n",
    "with learn.removed_cbs(cbs_to_remove_for_display) as displayable_learn:\n",
    "    predict_show_n(displayable_learn, 6)"
   ]
  },
  {
   "cell_type": "code",
   "execution_count": null,
   "metadata": {},
   "outputs": [],
   "source": [
    "predict_show_n(ema_g_learn, 6)"
   ]
  },
  {
   "cell_type": "code",
   "execution_count": null,
   "metadata": {},
   "outputs": [],
   "source": [
    "plot_multi_c_preds(learn.crit_preds_tracker, ['A->B', 'B->A'])"
   ]
  },
  {
   "cell_type": "code",
   "execution_count": null,
   "metadata": {},
   "outputs": [],
   "source": [
    "save_preds(learn.crit_preds_tracker, \n",
    "           [Path('crit_preds_face2anime_bidir_a2b_tr3d_200ep.csv'),\n",
    "            Path('crit_preds_face2anime_bidir_b2a_tr3d_200ep.csv')])"
   ]
  },
  {
   "cell_type": "markdown",
   "metadata": {},
   "source": [
    "# Evaluation results"
   ]
  },
  {
   "cell_type": "code",
   "execution_count": 7,
   "metadata": {},
   "outputs": [],
   "source": [
    "def fids_arr_to_dict(fids_arr, initial_ep=save_cycle_len, n_ep_by_fid=save_cycle_len):\n",
    "    end_ep = initial_ep + n_ep_by_fid*len(fids_arr)\n",
    "    return {ep: fid for fid, ep in zip(fids_arr, range(initial_ep, end_ep, n_ep_by_fid))}\n",
    "\n",
    "\n",
    "def plot_fids_vs_epochs(fids_dict, **lineplot_kwargs):\n",
    "    x = fids_dict.keys()\n",
    "    y = fids_dict.values()\n",
    "    ax = sns.lineplot(x=x, y=y, **lineplot_kwargs)\n",
    "    ax.set_xlabel('Number of epochs')\n",
    "    ax.set_ylabel('FID')\n",
    "    return ax\n",
    "\n",
    "\n",
    "def plot_fids_vs_inputs_targets(epoch, domain, use_ema_models=True):\n",
    "    assert domain in ('A', 'B')\n",
    "    tf = 'a2b' if domain == 'B' else 'b2a'\n",
    "    ema_str = 'ema_' if use_ema_models else ''\n",
    "    tr_ids = ['2', '2b', '2c', '3b', '3c', '3d']\n",
    "    xs = [globals()[f'fids_trans_tr{tr_id}_{tf}_{ema_str}dict'][epoch] for tr_id in tr_ids]\n",
    "    ys = [globals()[f'fids_tr{tr_id}_{tf}_{ema_str}dict'][epoch] for tr_id in tr_ids]\n",
    "    hues = ['BN G', \n",
    "            'BN G, patch C', \n",
    "            'BN G, patch C, ds tfms: {Flip, Warp, Zoom}', \n",
    "            'IN G, patch C', \n",
    "            'IN G, patch C, ds tfms: {Flip, Warp, Zoom}',\n",
    "            'IN G, patch C, ds tfms: {Flip, Warp, Zoom, Rotate}']\n",
    "    \n",
    "    ax = sns.scatterplot(x=xs, y=ys, hue=hues)\n",
    "    ax.set_xlabel('FID fakes vs inputs (translation)')\n",
    "    ax.set_ylabel('FID fakes vs targets')\n",
    "    tf_str = f'{reverse_domain(domain)}->{domain}'\n",
    "    ema_title_str = 'EMA ' if use_ema_models else ''\n",
    "    title = f'Compared FIDs of {ema_title_str}models for transformation {tf_str} after {epoch} epochs'\n",
    "    ax.set_title(title)\n",
    "    return ax"
   ]
  },
  {
   "cell_type": "code",
   "execution_count": 8,
   "metadata": {},
   "outputs": [],
   "source": [
    "##########################################################################\n",
    "###### FAKE vs REAL targets ##############################################\n",
    "##########################################################################\n",
    "fids_tr2_a2b = [75.7, 68.5, 86.4, 75.3, 83.2, 79.0, \n",
    "                82.9, 79.2, 81.9, 90.1, 91.8, 82.9, 61.3, 81.2, 81.5, 74.7,\n",
    "                75.9, 91.2, 83.2, 99.5, 104.4, 96.8, 109.0, 109.1, 102.5, 119.1,\n",
    "                118.4, 128.3, 100.0, 90.3, 115.3, 125.2, 119.8, 104.3, 120.0, 93.2]\n",
    "fids_tr2_a2b_dict = fids_arr_to_dict(fids_tr2_a2b, initial_ep=25)\n",
    "fids_tr2_a2b_ema_dict = {40: 108.1, 60: 49.1, 70: 39.5, 80: 34.7, 90: 31.9, 100: 31.1,\n",
    "                         110: 30.5, 120: 30.9, 130: 31.6, 140: 31.4, 150: 30.6,\n",
    "                         160: 30.3, 170: 30.7, 180: 31.0, 190: 32.7, 200: 33.0}\n",
    "fids_tr2_b2a = [50.2, 39.5, 47.4, 35.1, 40.4, 39.6, \n",
    "                39.5, 46.9, 41.4, 41.9, 42.4, 57.9, 54.9, 48.6, 58.1, 49.6,\n",
    "                68.9, 50.0, 70.4, 74.2, 65.0, 62.7, 48.0, 75.1, 73.4, 56.4,\n",
    "                64.5, 83.9, 99.4, 62.5, 61.7, 80.7, 94.3, 82.4, 107.1, 97.2]\n",
    "fids_tr2_b2a_dict = fids_arr_to_dict(fids_tr2_b2a, initial_ep=25)\n",
    "fids_tr2_b2a_ema_dict = {40: 28.0, 60: 16.5, 70: 14.4, 80: 13.1, 90: 12.2, 100: 11.3,\n",
    "                         110: 10.8, 120: 10.2, 130: 9.7, 140: 9.4, 150: 9.0,\n",
    "                         160: 8.7, 170: 8.5, 180: 8.6, 190: 8.3, 200: 8.3}\n",
    "\n",
    "# 25-200 ep\n",
    "fids_tr2b_a2b = [99.0, 85.0, 91.9, 73.7, 80.5, 75.4, \n",
    "                 72.3, 79.9, 71.6, 84.6, 87.1, 71.5, 72.4, 73.2, 69.3, 79.8,\n",
    "                 74.0, 83.3, 69.6, 40.9, 57.9, 84.8, 76.7, 83.1, 80.0, 87.1, \n",
    "                 82.4, 92.4, 111.7, 102.0, 89.7, 103.5, 110.3, 116.5, 93.5, 95.6]\n",
    "fids_tr2b_a2b_dict = fids_arr_to_dict(fids_tr2b_a2b, initial_ep=25)\n",
    "fids_tr2b_a2b_ema_dict = {40: 79.5, 60: 36.0, 70: 27.6, 80: 23.2, 90: 19.7, 100: 18.5,\n",
    "                          110: 18.7, 120: 18.1, 130: 17.6, 140: 17.4, 150: 17.3,\n",
    "                          160: 17.2, 170: 16.8, 180: 16.4, 190: 16.8, 200: 16.2}\n",
    "# 25-200 ep\n",
    "fids_tr2b_b2a = [77.8, 75.4, 82.0, 81.9, 76.8, 80.3,\n",
    "                 81.4, 77.3, 80.8, 84.1, 75.5, 81.6, 88.2, 84.4, 107.5, 79.5,\n",
    "                 69.8, 67.6, 77.2, 83.0, 86.1, 85.9, 77.2, 89.7, 77.8, 83.6, \n",
    "                 90.0, 100.6, 92.3, 101.6, 95.4, 107.7, 106.9, 99.9, 101.8, 96.9]\n",
    "fids_tr2b_b2a_dict = fids_arr_to_dict(fids_tr2b_b2a, initial_ep=25)\n",
    "fids_tr2b_b2a_ema_dict = {40: 33.0, 60: 21.1, 70: 18.4, 80: 16.7, 90: 15.3, 100: 14.2,\n",
    "                          110: 13.4, 120: 12.7, 130: 12.3, 140: 11.7, 150: 11.0,\n",
    "                          160: 10.5, 170: 10.0, 180: 10.1, 190: 9.3, 200: 9.2}\n",
    "\n",
    "# 25-200ep\n",
    "fids_tr2c_a2b = [103.1, 100.9, 101.5, 92.1, 83.1, 90.0,\n",
    "                 74.1, 75.3, 78.1, 86.2, 76.4, 79.4, 71.6, 82.5, 93.1, 66.2,\n",
    "                 95.2, 92.9, 101.1, 83.5, 95.9, 99.0, 89.1, 96.7, 99.7, 102.7,\n",
    "                 101.7, 111.2, 102.9, 103.6, 111.2, 120.2, 126.4, 123.3, 119.0, 110.8]\n",
    "fids_tr2c_a2b_dict = fids_arr_to_dict(fids_tr2c_a2b, initial_ep=25)\n",
    "fids_tr2c_a2b_ema_dict = {40: 90.5, 60: 53.2, 70: 41.9, 80: 35.3, 90: 32.7, 100: 29.5,\n",
    "                          110: 31.2, 120: 26.2, 130: 25.2, 140: 25.1, 150: 23.7,\n",
    "                          160: 23.6, 170: 23.7, 180: 23.2, 190: 23.7, 200: 24.3}\n",
    "# 25-200ep\n",
    "fids_tr2c_b2a = [70.9, 66.2, 57.3, 65.6, 68.3, 75.3,\n",
    "                 60.7, 71.6, 63.6, 69.3, 67.4, 53.3, 78.4, 68.1, 71.3, 68.9,\n",
    "                 71.0, 62.9, 92.0, 55.0, 54.1, 55.4, 56.7, 61.8, 54.1, 59.0,\n",
    "                 61.9, 62.8, 58.3, 74.1, 64.0, 58.6, 61.2, 67.5, 68.3, 68.0]\n",
    "fids_tr2c_b2a_dict = fids_arr_to_dict(fids_tr2c_b2a, initial_ep=25)\n",
    "fids_tr2c_b2a_ema_dict = {40: 45.0, 60: 24.9, 70: 20.8, 80: 18.2, 90: 16.0, 100: 14.7,\n",
    "                          110: 14.2, 120: 13.9, 130: 13.0, 140: 12.6, 150: 11.7,\n",
    "                          160: 11.3, 170: 11.0, 180: 10.8, 190: 11.0, 200: 10.2}\n",
    "\n",
    "# 25-200ep\n",
    "fids_tr3b_a2b = [103.4, 83.2, 74.2, 74.7, 53.8, 51.5, \n",
    "                 45.8, 46.7, 46.6, 44.5, 42.9, 49.0, 36.5, 38.2, 35.7, 32.9,\n",
    "                 34.1, 35.3, 34.3, 32.0, 30.4, 33.4, 34.2, 31.6, 28.8, 34.4,\n",
    "                 30.9, 26.4, 31.7, 32.3, 32.3, 24.9, 29.2, 32.0, 33.0, 28.6]\n",
    "fids_tr3b_a2b_dict = fids_arr_to_dict(fids_tr3b_a2b, initial_ep=25)\n",
    "fids_tr3b_a2b_ema_dict = {40: 144.3, 60: 78.7, 70: 61.0, 80: 51.1, 90: 42.5, 100: 36.1,\n",
    "                          110: 33.5, 120: 31.4, 130: 28.2, 140: 26.6, 150: 25.5,\n",
    "                          160: 24.7, 170: 23.8, 180: 23.0, 190: 22.5, 200: 21.8}\n",
    "# 25-200ep\n",
    "fids_tr3b_b2a = [60.5, 52.8, 51.8, 43.4, 42.6, 34.7, \n",
    "                 36.2, 33.3, 33.2, 29.3, 29.2, 31.3, 34.0, 31.4, 49.2, 30.6,\n",
    "                 31.0, 29.2, 28.3, 33.1, 27.9, 26.7, 26.5, 25.4, 25.2, 20.3,\n",
    "                 32.7, 31.7, 20.4, 25.2, 20.1, 29.1, 24.3, 17.4, 16.8, 20.8]\n",
    "fids_tr3b_b2a_dict = fids_arr_to_dict(fids_tr3b_b2a, initial_ep=25)\n",
    "fids_tr3b_b2a_ema_dict = {40: 61.4, 60: 31.7, 70: 27.2, 80: 24.9, 90: 23.0, 100: 21.3,\n",
    "                          110: 19.7, 120: 18.1, 130: 17.2, 140: 16.4, 150: 15.6,\n",
    "                          160: 14.6, 170: 13.9, 180: 13.3, 190: 12.8, 200: 12.4}\n",
    "\n",
    "# 25-200ep\n",
    "fids_tr3c_a2b = [121.6, 108.0, 91.9, 93.3, 83.5, 76.2, \n",
    "                 70.2, 52.7, 66.1, 61.2, 63.3, 56.9, 50.6, 65.6, 61.6, 50.3,\n",
    "                 51.9, 47.2, 50.9, 57.2, 50.9, 52.6, 47.0, 41.7, 41.6, 38.8,\n",
    "                 48.1, 37.6, 48.0, 50.5, 40.5, 40.5, 46.7, 53.8, 39.0, 50.4]\n",
    "fids_tr3c_a2b_dict = fids_arr_to_dict(fids_tr3c_a2b, initial_ep=25)\n",
    "fids_tr3c_a2b_ema_dict = {40: 152.7, 60: 108.4, 70: 89.6, 80: 73.7, 90: 64.2, 100: 58.3,\n",
    "                          110: 53.0, 120: 49.9, 130: 46.5, 140: 43.8, 150: 41.8,\n",
    "                          160: 38.7, 170: 37.2, 180: 35.0, 190: 33.9, 200: 34.2}\n",
    "# 25-200ep\n",
    "fids_tr3c_b2a = [75.5, 61.6, 54.2, 51.7, 48.9, 43.0, \n",
    "                 44.0, 40.5, 42.2, 38.2, 39.9, 40.5, 43.6, 38.0, 35.0, 35.5,\n",
    "                 42.1, 37.1, 39.8, 31.8, 30.8, 40.5, 42.3, 30.1, 27.2, 40.7,\n",
    "                 37.7, 31.3, 31.4, 31.4, 25.0, 22.9, 36.0, 28.1, 26.0, 23.9]\n",
    "fids_tr3c_b2a_dict = fids_arr_to_dict(fids_tr3c_b2a, initial_ep=25)\n",
    "fids_tr3c_b2a_ema_dict = {40: 71.2, 60: 39.2, 70: 33.8, 80: 30.6, 90: 28.0, 100: 26.4,\n",
    "                          110: 25.2, 120: 23.6, 130: 22.3, 140: 21.3, 150: 20.6,\n",
    "                          160: 19.6, 170: 18.8, 180: 17.5, 190: 17.0, 200: 16.5}\n",
    "\n",
    "fids_tr3d_a2b = [139.2, 147.6, 145.5, 128.3, 122.6, 119.7, 104.1, 101.1, 102.7, 73.8, \n",
    "                 76.3, 86.7, 74.7, 78.7, 77.6, 77.8, 64.0, 68.9, 72.7, 54.2,\n",
    "                 61.6, 66.8, 65.5, 61.7, 49.6, 58.0, 54.1, 57.4, 55.3, 51.3, \n",
    "                 64.8, 66.1, 55.1, 51.7, 55.0, 53.6, 49.7, 44.6, 52.8, 43.6,\n",
    "                 47.6, 48.4, 51.3, 44.8]\n",
    "fids_tr3d_a2b_dict = fids_arr_to_dict(fids_tr3d_a2b)\n",
    "fids_tr3d_a2b_ema_dict = {40: 154.5, 60: 106.3, 80: 78.7, 100: 61.8,\n",
    "                          120: 52.8, 140: 47.7, 160: 45.0, 180: 43.0, 200: 43.4}\n",
    "fids_tr3d_b2a = [180.4, 156.1, 145.9, 96.2, 94.5, 86.7, 79.6, 77.1, 67.2, 60.2, \n",
    "                 52.9, 61.3, 47.8, 51.7, 43.7, 41.2, 46.8, 44.9, 45.2, 45.3,\n",
    "                 43.5, 44.3, 46.4, 42.1, 37.8, 41.3, 46.3, 46.8, 36.7, 49.8, \n",
    "                 44.4, 37.0, 37.6, 30.5, 39.2, 38.9, 35.9, 32.2, 76.6, 57.7,\n",
    "                 32.7, 42.1, 29.3, 39.5]\n",
    "fids_tr3d_b2a_dict = fids_arr_to_dict(fids_tr3d_b2a)\n",
    "fids_tr3d_b2a_ema_dict = {40: 99.2, 60: 55.1, 80: 42.0, 100: 36.0,\n",
    "                          120: 32.5, 140: 29.3, 160: 27.2, 180: 25.1, 200: 23.8}\n",
    "\n",
    "###################################################################\n",
    "###### INPUT VS FAKE (translation evaluation) #####################\n",
    "###################################################################\n",
    "fids_trans_tr2_a2b_dict = {100: 148.7, 150: 187.9, 200: 201.7}\n",
    "fids_trans_tr2_b2a_dict = {100: 163.0, 150: 179.8, 200: 171.8}\n",
    "fids_trans_tr2_a2b_ema_dict = {100: 185.2, 150: 185.7, 200: 188.0}\n",
    "fids_trans_tr2_b2a_ema_dict = {100: 195.8, 150: 197.7, 200: 199.7}\n",
    "\n",
    "fids_trans_tr2b_a2b_dict = {100: 80.6, 160: 72.0, 200: 61.9}\n",
    "fids_trans_tr2b_b2a_dict = {100: 84.2, 160: 71.4, 200: 70.3}\n",
    "fids_trans_tr2b_a2b_ema_dict = {100: 186.4, 150: 185.7, 200: 182.2}\n",
    "fids_trans_tr2b_b2a_ema_dict = {100: 163.9, 150: 173.5, 200: 176.2}\n",
    "\n",
    "fids_trans_tr2c_a2b_dict = {100: 101.9, 150: 59.3, 200: 51.9}\n",
    "fids_trans_tr2c_b2a_dict = {100: 96.1, 150: 95.2, 200: 102.2}\n",
    "fids_trans_tr2c_a2b_ema_dict = {100: 186.7, 150: 186.7, 200: 177.7}\n",
    "fids_trans_tr2c_b2a_ema_dict = {100: 163.6, 150: 169.1, 200: 170.9}\n",
    "\n",
    "fids_trans_tr3b_a2b_dict = {100: 195.0, 150: 190.2, 200: 198.8}\n",
    "fids_trans_tr3b_b2a_dict = {100: 177.2, 150: 181.2, 200: 181.1}\n",
    "fids_trans_tr3b_a2b_ema_dict = {100: 209.3, 150: 198.7, 200: 200.0}\n",
    "fids_trans_tr3b_b2a_ema_dict = {100: 171.7, 150: 174.1, 200: 179.3}\n",
    "\n",
    "fids_trans_tr3c_a2b_dict = {100: 192.3, 150: 194.2, 200: 184.4}\n",
    "fids_trans_tr3c_b2a_dict = {100: 171.3, 150: 174.2, 200: 183.1}\n",
    "fids_trans_tr3c_a2b_ema_dict = {100: 216.5, 150: 213.3, 200: 206.0}\n",
    "fids_trans_tr3c_b2a_ema_dict = {100: 181.9, 150: 183.3, 200: 183.9}\n",
    "\n",
    "fids_trans_tr3d_a2b_dict = {100: 189.7, 150: 205.8, 200: 189.8}\n",
    "fids_trans_tr3d_b2a_dict = {100: 160.9, 150: 167.7, 200: 176.7}\n",
    "fids_trans_tr3d_a2b_ema_dict = {100: 212.9, 160: 208.2, 200: 206.9}\n",
    "fids_trans_tr3d_b2a_ema_dict = {100: 173.6, 160: 176.5, 200: 176.9}"
   ]
  },
  {
   "cell_type": "code",
   "execution_count": 9,
   "metadata": {},
   "outputs": [
    {
     "data": {
      "image/png": "[encoded data removed]",
      "text/plain": [
       "<Figure size 432x288 with 1 Axes>"
      ]
     },
     "metadata": {
      "needs_background": "light"
     },
     "output_type": "display_data"
    }
   ],
   "source": [
    "plot_fids_vs_epochs(fids_tr2_a2b_ema_dict, label='BN G')\n",
    "plot_fids_vs_epochs(fids_tr2b_a2b_ema_dict, label='BN G, patch C')\n",
    "plot_fids_vs_epochs(fids_tr2c_a2b_ema_dict, label='BN G, patch C, ds tfms: {Flip, Warp, Zoom}')\n",
    "plot_fids_vs_epochs(fids_tr3b_a2b_ema_dict, label='IN G, patch C')\n",
    "plot_fids_vs_epochs(fids_tr3c_a2b_ema_dict, label='IN G, patch C, ds tfms: {Flip, Warp, Zoom}')\n",
    "ax = plot_fids_vs_epochs(fids_tr3d_a2b_ema_dict, \n",
    "                         label='IN G, patch C, ds tfms: {Flip, Warp, Zoom, Rotate}')\n",
    "_ = ax.set_title('Evaluation of generated images vs real images for domain B (anime faces)')"
   ]
  },
  {
   "cell_type": "code",
   "execution_count": 10,
   "metadata": {},
   "outputs": [
    {
     "data": {
      "image/png": "[encoded data removed]",
      "text/plain": [
       "<Figure size 432x288 with 1 Axes>"
      ]
     },
     "metadata": {
      "needs_background": "light"
     },
     "output_type": "display_data"
    }
   ],
   "source": [
    "plot_fids_vs_epochs(fids_tr2_b2a_ema_dict, label='BN G')\n",
    "plot_fids_vs_epochs(fids_tr2b_b2a_ema_dict, label='BN G, patch C')\n",
    "plot_fids_vs_epochs(fids_tr2c_b2a_ema_dict, \n",
    "                    label='BN G, patch C, ds tfms: {Flip, Warp, Zoom}')\n",
    "plot_fids_vs_epochs(fids_tr3b_b2a_ema_dict, label='IN G, patch C')\n",
    "plot_fids_vs_epochs(fids_tr3c_b2a_ema_dict, \n",
    "                    label='IN G, patch C, ds tfms: {Flip, Warp, Zoom}')\n",
    "ax = plot_fids_vs_epochs(fids_tr3d_b2a_ema_dict, \n",
    "                         label='IN G, patch C, ds tfms: {Flip, Warp, Zoom, Rotate}')\n",
    "_ = ax.set_title('Evaluation of generated images vs real images for domain A (human faces)')"
   ]
  },
  {
   "cell_type": "code",
   "execution_count": 11,
   "metadata": {},
   "outputs": [
    {
     "data": {
      "image/png": "[encoded data removed]",
      "text/plain": [
       "<Figure size 432x288 with 1 Axes>"
      ]
     },
     "metadata": {
      "needs_background": "light"
     },
     "output_type": "display_data"
    }
   ],
   "source": [
    "_ = plot_fids_vs_inputs_targets(200, 'A', use_ema_models=True)"
   ]
  },
  {
   "cell_type": "code",
   "execution_count": 12,
   "metadata": {},
   "outputs": [
    {
     "data": {
      "image/png": "[encoded data removed]",
      "text/plain": [
       "<Figure size 432x288 with 1 Axes>"
      ]
     },
     "metadata": {
      "needs_background": "light"
     },
     "output_type": "display_data"
    }
   ],
   "source": [
    "_ = plot_fids_vs_inputs_targets(200, 'B', use_ema_models=True)"
   ]
  },
  {
   "cell_type": "code",
   "execution_count": 13,
   "metadata": {},
   "outputs": [
    {
     "data": {
      "image/png": "[encoded data removed]",
      "text/plain": [
       "<Figure size 432x288 with 1 Axes>"
      ]
     },
     "metadata": {
      "needs_background": "light"
     },
     "output_type": "display_data"
    }
   ],
   "source": [
    "_ = plot_fids_vs_inputs_targets(200, 'A', use_ema_models=False)"
   ]
  },
  {
   "cell_type": "code",
   "execution_count": 14,
   "metadata": {},
   "outputs": [
    {
     "data": {
      "image/png": "[encoded data removed]",
      "text/plain": [
       "<Figure size 432x288 with 1 Axes>"
      ]
     },
     "metadata": {
      "needs_background": "light"
     },
     "output_type": "display_data"
    }
   ],
   "source": [
    "_ = plot_fids_vs_inputs_targets(200, 'B', use_ema_models=False)"
   ]
  },
  {
   "cell_type": "markdown",
   "metadata": {},
   "source": [
    "# Performing evaluation"
   ]
  },
  {
   "cell_type": "code",
   "execution_count": null,
   "metadata": {
    "execution": {
     "iopub.execute_input": "2021-06-09T12:30:11.754568Z",
     "iopub.status.busy": "2021-06-09T12:30:11.754307Z",
     "iopub.status.idle": "2021-06-09T12:30:11.773534Z",
     "shell.execute_reply": "2021-06-09T12:30:11.77263Z",
     "shell.execute_reply.started": "2021-06-09T12:30:11.754541Z"
    }
   },
   "outputs": [],
   "source": [
    "base_fid_samples_path = Path('./fid_samples')\n",
    "n_fid_imgs = 10000\n",
    "\n",
    "\n",
    "def download_pytorch_fid_calculator():        \n",
    "    #!git clone https://github.com/mseitzer/pytorch-fid.git\n",
    "    !pip install pytorch-fid\n",
    "\n",
    "    \n",
    "def create_fid_dirs(base_fid_samples_path):\n",
    "    base_fid_samples_path.mkdir()\n",
    "    (base_fid_samples_path/'fake').mkdir()\n",
    "    (base_fid_samples_path/'fake/A').mkdir()\n",
    "    (base_fid_samples_path/'fake/B').mkdir()\n",
    "    (base_fid_samples_path/'real').mkdir()\n",
    "    (base_fid_samples_path/'real/A').mkdir()\n",
    "    (base_fid_samples_path/'real/B').mkdir()\n",
    "    (base_fid_samples_path/'input').mkdir()\n",
    "    (base_fid_samples_path/'input/A').mkdir()\n",
    "    (base_fid_samples_path/'input/B').mkdir()\n",
    "\n",
    "    \n",
    "def save_real_imgs(dls, n_imgs=10000):\n",
    "    n_imgs_left = n_imgs\n",
    "    while n_imgs_left > 0:\n",
    "        b = dls.one_batch()\n",
    "        bs = b[1].size()[0]\n",
    "        dec_b = dls.decode_batch(b, max_n=bs)\n",
    "        for i in range(bs):\n",
    "            if n_imgs_left == 0: break\n",
    "            in_a_t, in_b_t, _, _ = dec_b[i]\n",
    "            img_a = PILImage.create(in_a_t)\n",
    "            img_b = PILImage.create(in_b_t)\n",
    "            img_idx = n_imgs_left-1\n",
    "            img_a.save(base_fid_samples_path/f'real/A/{img_idx}.jpg')\n",
    "            img_b.save(base_fid_samples_path/f'real/B/{img_idx}.jpg')\n",
    "            #if n_imgs_left % 1000 == 0: print(\"saved \" + str(img_idx))\n",
    "            n_imgs_left -= 1    \n",
    "\n",
    "            \n",
    "def save_fake_imgs(learner, n_imgs=10000, max_pred_sz=5000, save_inputs=False, **predict_n_kwargs):\n",
    "    base_path = base_fid_samples_path\n",
    "    n_imgs_left = n_imgs\n",
    "    n_chunks = math.ceil(n_imgs/max_pred_sz)\n",
    "    idxs = [(i*max_pred_sz, min(n_imgs, (i+1)*max_pred_sz)) for i in range(n_chunks)]\n",
    "    for ini_idx, end_idx in idxs:\n",
    "        preds_batch = predict_n(learner, (ini_idx, end_idx), **predict_n_kwargs)\n",
    "        for i, (in_a, in_b, img_t_a2b, img_t_b2a) in enumerate(preds_batch):\n",
    "            idx = i + ini_idx\n",
    "            PILImage.create(img_t_a2b).save(base_path/f'fake/B/{idx}.jpg')\n",
    "            PILImage.create(img_t_b2a).save(base_path/f'fake/A/{idx}.jpg')\n",
    "            if save_inputs:\n",
    "                PILImage.create(in_a).save(base_path/f'input/A/{idx}.jpg')\n",
    "                PILImage.create(in_b).save(base_path/f'input/B/{idx}.jpg')\n",
    "        preds_batch = None\n",
    "        clean_mem()"
   ]
  },
  {
   "cell_type": "code",
   "execution_count": null,
   "metadata": {},
   "outputs": [],
   "source": [
    "!rm -R $base_fid_samples_path"
   ]
  },
  {
   "cell_type": "code",
   "execution_count": null,
   "metadata": {
    "execution": {
     "iopub.execute_input": "2021-06-09T12:30:11.775278Z",
     "iopub.status.busy": "2021-06-09T12:30:11.774898Z",
     "iopub.status.idle": "2021-06-09T12:30:22.740273Z",
     "shell.execute_reply": "2021-06-09T12:30:22.73943Z",
     "shell.execute_reply.started": "2021-06-09T12:30:11.775219Z"
    }
   },
   "outputs": [],
   "source": [
    "download_pytorch_fid_calculator()\n",
    "create_fid_dirs(base_fid_samples_path)"
   ]
  },
  {
   "cell_type": "code",
   "execution_count": null,
   "metadata": {
    "execution": {
     "iopub.execute_input": "2021-06-09T12:30:22.743407Z",
     "iopub.status.busy": "2021-06-09T12:30:22.743034Z",
     "iopub.status.idle": "2021-06-09T12:30:22.759911Z",
     "shell.execute_reply": "2021-06-09T12:30:22.759063Z",
     "shell.execute_reply.started": "2021-06-09T12:30:22.743366Z"
    }
   },
   "outputs": [],
   "source": [
    "class FIDEvalType(Enum):\n",
    "    FAKE_VS_TARGET = 1\n",
    "    INPUT_VS_FAKE = 2\n",
    "\n",
    "\n",
    "def exec_fid_proc(domain, eval_type):\n",
    "    second_set_path = (base_fid_samples_path/'real'/domain if eval_type == FIDEvalType.FAKE_VS_TARGET \n",
    "                       else base_fid_samples_path/'input'/reverse_domain(domain))\n",
    "    return subprocess.run([\"python\", \"-m\", \"pytorch_fid\", base_fid_samples_path/'fake'/domain, \n",
    "                           second_set_path], \n",
    "                          stdout=subprocess.PIPE)\n",
    "\n",
    "\n",
    "def fid_out_to_arr(fid_proc_out):\n",
    "    if isinstance(fid_proc_out, bytes):\n",
    "        fid_proc_out = fid_proc_out.decode(sys.stdout.encoding)\n",
    "    float_fids = [round(float(line[5:].strip()), ndigits=1) \n",
    "                  for line in fid_proc_out.split('\\n') \n",
    "                  if line.startswith('FID')]\n",
    "    return float_fids\n",
    "\n",
    "\n",
    "def eval_models(builders, n_epochs, eval_type=FIDEvalType.FAKE_VS_TARGET, \n",
    "                base_path='./models', fn_suffix='', ema=False):\n",
    "    assert is_iterable(builders) or is_iterable(n_epochs)\n",
    "    if not is_iterable(builders): \n",
    "        builders = [builders] * len(list(n_epochs))\n",
    "    if not is_iterable(n_epochs): \n",
    "        n_epochs = [n_epochs] * len(list(builders))\n",
    "    result = {'A': [], 'B': []}\n",
    "    for builder, n_ep in zip(builders, n_epochs):\n",
    "        model_id = builder.__name__.split('_')[-1]\n",
    "        learner = builder(for_inference=True)\n",
    "        custom_load_model(learner, f'face2anime_bidir_tr{model_id}{fn_suffix}_{n_ep}ep', with_opt=False,\n",
    "                          base_path=base_path, with_ema=ema)\n",
    "        if ema: \n",
    "            learner = Learner(learner.dls, learner.ema_model,\n",
    "                              loss_func=lambda *args: torch.tensor(0.))\n",
    "        save_fake_imgs(learner, n_imgs=n_fid_imgs, save_inputs=(eval_type==FIDEvalType.INPUT_VS_FAKE))\n",
    "        for domain in result.keys():\n",
    "            completed_proc = exec_fid_proc(domain, eval_type)\n",
    "            fid_value = fid_out_to_arr(completed_proc.stdout)\n",
    "            result[domain].extend(fid_value)\n",
    "            print(f'---- {model_id} ({domain}), after {n_ep} epochs ----')\n",
    "            print(completed_proc.stdout)\n",
    "    return result"
   ]
  },
  {
   "cell_type": "code",
   "execution_count": null,
   "metadata": {
    "execution": {
     "iopub.execute_input": "2021-06-09T12:30:22.761492Z",
     "iopub.status.busy": "2021-06-09T12:30:22.761137Z",
     "iopub.status.idle": "2021-06-09T12:31:39.671585Z",
     "shell.execute_reply": "2021-06-09T12:31:39.670788Z",
     "shell.execute_reply.started": "2021-06-09T12:30:22.761465Z"
    }
   },
   "outputs": [],
   "source": [
    "save_real_imgs(dls, n_fid_imgs)"
   ]
  },
  {
   "cell_type": "code",
   "execution_count": null,
   "metadata": {
    "execution": {
     "iopub.execute_input": "2021-06-09T17:33:05.364809Z",
     "iopub.status.busy": "2021-06-09T17:33:05.364456Z",
     "iopub.status.idle": "2021-06-09T17:56:56.772764Z",
     "shell.execute_reply": "2021-06-09T17:56:56.771877Z",
     "shell.execute_reply.started": "2021-06-09T17:33:05.364774Z"
    }
   },
   "outputs": [],
   "source": [
    "eval_models(create_learner_1, range(5, 201, 5), fn_suffix='', base_path='./models')"
   ]
  },
  {
   "cell_type": "code",
   "execution_count": null,
   "metadata": {
    "execution": {
     "iopub.execute_input": "2021-06-09T18:01:03.03276Z",
     "iopub.status.busy": "2021-06-09T18:01:03.03239Z",
     "iopub.status.idle": "2021-06-09T18:25:18.725024Z",
     "shell.execute_reply": "2021-06-09T18:25:18.724081Z",
     "shell.execute_reply.started": "2021-06-09T18:01:03.032727Z"
    }
   },
   "outputs": [],
   "source": [
    "eval_models(create_learner_1, range(5, 201, 5), base_path='./models', fn_suffix='', ema=True)"
   ]
  },
  {
   "cell_type": "code",
   "execution_count": null,
   "metadata": {},
   "outputs": [],
   "source": [
    "eval_models(create_learner_1, range(5, 201, 5), base_path='./models', fn_suffix='',\n",
    "            ema=True, eval_type=FIDEvalType.INPUT_VS_FAKE)"
   ]
  },
  {
   "cell_type": "code",
   "execution_count": null,
   "metadata": {},
   "outputs": [],
   "source": [
    "PILImage.create(base_fid_samples_path/'fake/A/10.jpg')"
   ]
  },
  {
   "cell_type": "markdown",
   "metadata": {},
   "source": [
    "## Reference FID"
   ]
  },
  {
   "cell_type": "markdown",
   "metadata": {},
   "source": [
    "With 10000 images:\n",
    "\n",
    "* FID domain A ds vs itself (CelebA vs CelebA) ~ 2.8\n",
    "* FID domain B ds vs itself (Animecharacterfaces vs Animecharacterfaces) ~ 4.0"
   ]
  },
  {
   "cell_type": "code",
   "execution_count": null,
   "metadata": {},
   "outputs": [],
   "source": []
  }
 ],
 "metadata": {
  "kernelspec": {
   "display_name": "Python 3",
   "language": "python",
   "name": "python3"
  },
  "language_info": {
   "codemirror_mode": {
    "name": "ipython",
    "version": 3
   },
   "file_extension": ".py",
   "mimetype": "text/x-python",
   "name": "python",
   "nbconvert_exporter": "python",
   "pygments_lexer": "ipython3",
   "version": "3.7.3"
  }
 },
 "nbformat": 4,
 "nbformat_minor": 4
}
