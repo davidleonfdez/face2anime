{
 "cells": [
  {
   "cell_type": "code",
   "execution_count": null,
   "metadata": {
    "id": "9fiycDwT7-Vb"
   },
   "outputs": [],
   "source": [
    "from fastai.vision.all import *\n",
    "from fastai.vision.gan import *\n",
    "import seaborn as sns\n",
    "import sys\n",
    "import torch"
   ]
  },
  {
   "cell_type": "code",
   "execution_count": 2,
   "metadata": {},
   "outputs": [],
   "source": [
    "run_as_standalone_nb = False"
   ]
  },
  {
   "cell_type": "code",
   "execution_count": 3,
   "metadata": {
    "id": "ngGGY6KRwANM",
    "outputId": "969336fd-b9d0-406c-a742-82559ca489a1"
   },
   "outputs": [],
   "source": [
    "if run_as_standalone_nb:\n",
    "    root_lib_path = Path('face2anime').resolve()\n",
    "    if not root_lib_path.exists():\n",
    "        !git clone https://github.com/davidleonfdez/face2anime.git\n",
    "    if str(root_lib_path) not in sys.path:\n",
    "        sys.path.insert(0, str(root_lib_path))\n",
    "else:\n",
    "    import local_lib_import"
   ]
  },
  {
   "cell_type": "code",
   "execution_count": 4,
   "metadata": {
    "id": "IE3nLDRz6pnM"
   },
   "outputs": [],
   "source": [
    "from face2anime.gen_utils import is_iterable\n",
    "from face2anime.layers import (ConcatPoolHalfDownsamplingOp2d, ConvHalfDownsamplingOp2d,\n",
    "                               ConvX2UpsamplingOp2d, InterpConvUpsamplingOp2d)\n",
    "from face2anime.losses import R1GANGPCallback\n",
    "from face2anime.nb_utils import mount_gdrive\n",
    "from face2anime.networks import res_critic, res_generator\n",
    "from face2anime.train_utils import (add_ema_to_gan_learner, custom_load_model,\n",
    "                                    custom_save_model)"
   ]
  },
  {
   "cell_type": "code",
   "execution_count": 5,
   "metadata": {
    "id": "Z6aeJ2SIph3N"
   },
   "outputs": [],
   "source": [
    "device = 'cuda' if torch.cuda.is_available() else 'cpu'\n",
    "img_size = 64\n",
    "n_channels = 3\n",
    "bs = 64\n",
    "save_cycle_len = 5"
   ]
  },
  {
   "cell_type": "code",
   "execution_count": null,
   "metadata": {
    "id": "w7Ng2UszpwFl",
    "outputId": "018f02f9-b3b7-4935-f359-0575c23d40c9"
   },
   "outputs": [],
   "source": [
    "# Optional, allows saving parameters in gdrive\n",
    "# root_gdrive = mount_gdrive()"
   ]
  },
  {
   "cell_type": "markdown",
   "metadata": {
    "id": "EidInnN8ph3N"
   },
   "source": [
    "# Data"
   ]
  },
  {
   "cell_type": "markdown",
   "metadata": {
    "id": "Aky7zTZ4ph3O"
   },
   "source": [
    "## Target ds"
   ]
  },
  {
   "cell_type": "markdown",
   "metadata": {
    "id": "zWOpq3qpph3O"
   },
   "source": [
    "animecharacterfaces, by Kaggle user *aadilmalik94*"
   ]
  },
  {
   "cell_type": "code",
   "execution_count": null,
   "metadata": {
    "id": "ySsilnxaqGz2"
   },
   "outputs": [],
   "source": [
    "# anime_ds_zip_path = Path(root_gdrive)/\"ML/animeface-character-dataset.zip\"\n",
    "# !cp \"{anime_ds_zip_path}\" .\n",
    "# !unzip animeface-character-dataset.zip >> /.tmpA\n",
    "# !rm animeface-character-dataset.zip"
   ]
  },
  {
   "cell_type": "code",
   "execution_count": null,
   "metadata": {
    "id": "msZx6TsSph3O",
    "outputId": "37570df3-fb4d-4d40-9a8c-b13d93c91252"
   },
   "outputs": [],
   "source": [
    "anime_ds_path = Path('./animeface-character-dataset/data')\n",
    "#anime_ds_path = Path('/kaggle/input/animecharacterfaces/animeface-character-dataset/data').resolve()\n",
    "#target_fns = get_image_files(celeba_path)\n",
    "# get_image_files is too slow, there's no need to check the extension here\n",
    "target_fns = anime_ds_path.ls()\n",
    "target_fns"
   ]
  },
  {
   "cell_type": "markdown",
   "metadata": {
    "id": "fT3vzIDKph3P"
   },
   "source": [
    "---"
   ]
  },
  {
   "cell_type": "code",
   "execution_count": null,
   "metadata": {
    "id": "BuKyjGbeph3P"
   },
   "outputs": [],
   "source": [
    "normalize_tf = Normalize.from_stats(torch.tensor([0.5,0.5,0.5]), torch.tensor([0.5,0.5,0.5]))\n",
    "normalize_imagenet_tf = Normalize.from_stats(*imagenet_stats)\n",
    "\n",
    "dblock = DataBlock(blocks=(TransformBlock, ImageBlock),\n",
    "                   get_x=generate_noise,\n",
    "                   #get_items=get_image_files,\n",
    "                   get_items=lambda path: target_fns,\n",
    "                   splitter=IndexSplitter([]),\n",
    "                   item_tfms=Resize(img_size, method=ResizeMethod.Crop), \n",
    "                   batch_tfms=normalize_tf)\n",
    "main_path = anime_ds_path\n",
    "dls = dblock.dataloaders(main_path, path=main_path, bs=bs)"
   ]
  },
  {
   "cell_type": "code",
   "execution_count": null,
   "metadata": {
    "id": "dXEhaG9Aph3P",
    "outputId": "d8aae675-74e2-491c-9b9c-a90f1849f8a0"
   },
   "outputs": [],
   "source": [
    "dls.show_batch()"
   ]
  },
  {
   "cell_type": "markdown",
   "metadata": {},
   "source": [
    "# Evaluation"
   ]
  },
  {
   "cell_type": "code",
   "execution_count": 6,
   "metadata": {},
   "outputs": [],
   "source": [
    "base_fid_samples_path = Path('./fid_samples')\n",
    "n_fid_imgs = 10000\n",
    "\n",
    "def download_pytorch_fid_calculator():        \n",
    "    #!git clone https://github.com/mseitzer/pytorch-fid.git\n",
    "    !pip install pytorch-fid\n",
    "\n",
    "def create_fid_dirs(base_fid_samples_path):\n",
    "    base_fid_samples_path.mkdir()\n",
    "    (base_fid_samples_path/'fake').mkdir()\n",
    "    (base_fid_samples_path/'real').mkdir()\n",
    "        \n",
    "def predict_n(learner, n_imgs, max_bs=64):\n",
    "    dummy_path = Path('')\n",
    "    dl = learner.dls.test_dl([dummy_path]*n_imgs, bs=max_bs)   \n",
    "    inp, imgs_t, _, dec_imgs_t = learner.get_preds(dl=dl, with_input=True, with_decoded=True)\n",
    "    dec_batch = dls.decode_batch((inp,) + tuplify(dec_imgs_t), max_n=n_imgs)\n",
    "    return dec_batch\n",
    "    \n",
    "def predict_show_n(learner, n_imgs, **predict_n_kwargs):\n",
    "    preds_batch = predict_n(learner, n_imgs, **predict_n_kwargs)\n",
    "    _, axs = plt.subplots(n_imgs, 2, figsize=(6, n_imgs * 3))\n",
    "    for i, (inp, pred_img) in enumerate(preds_batch):\n",
    "        inp.show(ax=axs[i][0])\n",
    "        pred_img.show(ax=axs[i][1])\n",
    "        \n",
    "def save_real_imgs(dls, n_imgs=10000, use_input_ds=False):\n",
    "    n_imgs_left = n_imgs\n",
    "    while n_imgs_left > 0:\n",
    "        b = dls.one_batch()\n",
    "        bs = b[1].size()[0]\n",
    "        dec_b = dls.decode_batch(b, max_n=bs)\n",
    "        for i in range(bs):\n",
    "            if n_imgs_left == 0: break\n",
    "            tuple_idx = 0 if use_input_ds else 1\n",
    "            img_t = dec_b[i][tuple_idx]\n",
    "            img = PILImage.create(img_t)\n",
    "            img_idx = n_imgs_left-1\n",
    "            img.save(base_fid_samples_path/f'real/{img_idx}.jpg')\n",
    "            #if n_imgs_left % 1000 == 0: print(\"saved \" + str(img_idx))\n",
    "            n_imgs_left -= 1\n",
    "\n",
    "def save_fake_imgs(learner, n_imgs=10000, **predict_n_kwargs):\n",
    "    base_path = base_fid_samples_path\n",
    "    preds_batch = predict_n(learner, n_imgs, **predict_n_kwargs)\n",
    "    for i, (inp, img) in enumerate(preds_batch):\n",
    "        PILImage.create(img).save(base_path/f'fake/{i}.jpg')\n",
    "        \n",
    "def eval_models(builders, n_epochs, base_path='./models',\n",
    "                ema=False):\n",
    "    assert is_iterable(builders) or is_iterable(n_epochs)\n",
    "    if not is_iterable(builders): \n",
    "        builders = [builders] * len(list(n_epochs))\n",
    "    if not is_iterable(n_epochs): \n",
    "        n_epochs = [n_epochs] * len(list(builders))\n",
    "    for builder, n_ep in zip(builders, n_epochs):\n",
    "        #model_id = builder.__name__.split('_')[-1]\n",
    "        learner = builder(for_inference=True)\n",
    "        custom_load_model(learner, f'noise2anime_{n_ep}ep', with_opt=False,\n",
    "                          base_path=base_path, with_ema=ema)\n",
    "        if ema: \n",
    "            learner = Learner(learner.dls, learner.ema_model,\n",
    "                              loss_func=lambda *args: torch.tensor(0.))\n",
    "        save_fake_imgs(learner, n_imgs=n_fid_imgs)\n",
    "        print(f'---- after {n_ep} epochs ----')\n",
    "        !python -m pytorch_fid {base_fid_samples_path/'fake'} {base_fid_samples_path/'real'}"
   ]
  },
  {
   "cell_type": "markdown",
   "metadata": {
    "id": "WpbIxUlbph3X"
   },
   "source": [
    "------------------\n",
    "\n",
    "# Training"
   ]
  },
  {
   "cell_type": "code",
   "execution_count": 7,
   "metadata": {
    "id": "wNOXEb6sGvYK"
   },
   "outputs": [],
   "source": [
    "class SaveCheckpointsCallback(Callback):\n",
    "    \"Callback that saves the model at the end of each epoch.\"\n",
    "    def __init__(self, learn, fn_prefix, base_path=Path('.'), initial_epoch=1,\n",
    "                 save_cycle_len=1):\n",
    "        self.fn_prefix = fn_prefix\n",
    "        self.base_path = base_path\n",
    "        self.epoch = initial_epoch\n",
    "        self.save_cycle_len = save_cycle_len\n",
    "        \n",
    "    def after_epoch(self):\n",
    "        if (self.epoch % self.save_cycle_len) == 0:\n",
    "            fn = f'{self.fn_prefix}_{self.epoch}ep'\n",
    "            custom_save_model(learn, fn, base_path=self.base_path)\n",
    "        self.epoch += 1"
   ]
  },
  {
   "cell_type": "markdown",
   "metadata": {},
   "source": [
    "First, we will train our GAN to:\n",
    "\n",
    "1. Assess its potential with a small training set (~10k images)\n",
    "2. Check if the ADA heuristic is applicable. This can be confirmed by looking at the discriminator outputs: after some iterations of training, we should see an increasing divergence in the predictions for real and fake images, leading to a point where the generator doesn't improve and FID gets worse and worse because the discriminator has overfitted to the training set.\n",
    "\n",
    "Then, if ADA is indeed applicable, we'll try with ADA and adjust its parameters."
   ]
  },
  {
   "cell_type": "markdown",
   "metadata": {
    "id": "QM_zOnAGph4j"
   },
   "source": [
    "## 1. Train without ADA"
   ]
  },
  {
   "cell_type": "code",
   "execution_count": 8,
   "metadata": {
    "id": "ttzhbJpmLxxt"
   },
   "outputs": [],
   "source": [
    "class LossWrapper():\n",
    "    def __init__(self, orig_loss, loss_args_interceptors=None):\n",
    "        self.orig_loss = orig_loss\n",
    "        self.loss_args_interceptors = loss_args_interceptors or []\n",
    "\n",
    "    def __call__(self, *args, **kwargs):\n",
    "        for interceptor in self.loss_args_interceptors:\n",
    "            interceptor(*args, **kwargs)\n",
    "        return self.orig_loss(*args, **kwargs)\n",
    "\n",
    "\n",
    "class CritPredsTracker:\n",
    "    def __init__(self):\n",
    "        self.real_pred_batch_means = []\n",
    "        self.fake_pred_batch_means = []\n",
    "\n",
    "    def __call__(self, real_pred, fake_pred):\n",
    "        self.real_pred_batch_means.append(real_pred.mean().item())\n",
    "        self.fake_pred_batch_means.append(fake_pred.mean().item())\n",
    "        \n",
    "    def load_from_df(self, df):\n",
    "        self.real_pred_batch_means = df['RealPredsBatchMean'].to_list()\n",
    "        self.fake_pred_batch_means = df['FakePredsBatchMean'].to_list()\n",
    "        \n",
    "    def to_df(self):\n",
    "        return pd.DataFrame(dict(RealPredsBatchMean=c_preds_tracker.real_pred_batch_means,\n",
    "                                 FakePredsBatchMean=c_preds_tracker.fake_pred_batch_means))\n",
    "\n",
    "\n",
    "def save_preds(c_preds_tracker, filepath):\n",
    "    return c_preds_tracker.to_df().to_csv(filepath)\n",
    "\n",
    "\n",
    "class LossStore(Callback):\n",
    "    def __init__(self):\n",
    "        self.g_losses = []\n",
    "        self.c_losses = []\n",
    "\n",
    "    def after_epoch(self):\n",
    "        #if not self.training: return        \n",
    "        # self.training is already false here even when training.\n",
    "        # An alternative is to disable cb when not needed:\n",
    "        #      `with learn.removed_cbs(...): ...`\n",
    "        self.g_losses.append(self.gan_trainer.gen_loss.value.item())\n",
    "        self.c_losses.append(self.gan_trainer.crit_loss.value.item())    \n",
    "\n",
    "\n",
    "def create_learner(for_inference=False, gp_w=1., c_loss_interceptors=None):\n",
    "    leakyReLU02 = partial(nn.LeakyReLU, negative_slope=0.2)\n",
    "    down_op = ConvHalfDownsamplingOp2d(ks=4, act_cls=leakyReLU02, bn_1st=False,\n",
    "                                       norm_type=NormType.Batch)\n",
    "    id_down_op = ConcatPoolHalfDownsamplingOp2d(conv_ks=3, act_cls=None, norm_type=None)\n",
    "    critic = res_critic(img_size, n_channels, down_op, id_down_op,\n",
    "                        n_extra_convs_by_res_block=0, act_cls=leakyReLU02,\n",
    "                        bn_1st=False, n_features=128, flatten_full=True)\n",
    "    up_op = ConvX2UpsamplingOp2d(ks=4, act_cls=nn.ReLU, bn_1st=False)\n",
    "    id_up_op = InterpConvUpsamplingOp2d(ks=3, act_cls=None)\n",
    "    generator = res_generator(img_size, n_channels, up_op, id_up_op, bn_1st=False, \n",
    "                              n_features=128)\n",
    "    \n",
    "    cbs = []\n",
    "    if not for_inference:\n",
    "        cbs.append(R1GANGPCallback(weight=gp_w))\n",
    "    def gen_loss_func(*args): return 0\n",
    "    crit_loss_func = nn.BCEWithLogitsLoss()\n",
    "    loss_G, loss_C = gan_loss_from_func(gen_loss_func, crit_loss_func)\n",
    "    loss_C = LossWrapper(loss_C, c_loss_interceptors)\n",
    "    \n",
    "    learn = GANLearner(dls, generator, critic, loss_G, loss_C,\n",
    "                       opt_func=partial(Adam, mom=0., sqr_mom=0.99, wd=0.),\n",
    "                       cbs=cbs, switcher=FixedGANSwitcher(n_crit=1, n_gen=1),\n",
    "                       switch_eval=False)\n",
    "    learn.recorder.train_metrics=True\n",
    "    learn.recorder.valid_metrics=False\n",
    "    add_ema_to_gan_learner(learn, dblock, main_path, decay=0.999)\n",
    "    return learn"
   ]
  },
  {
   "cell_type": "code",
   "execution_count": null,
   "metadata": {
    "id": "Yb6V8kr7Lxxv"
   },
   "outputs": [],
   "source": [
    "c_preds_tracker = CritPredsTracker()\n",
    "learn = create_learner(c_loss_interceptors=[c_preds_tracker])\n",
    "learn.add_cb(SaveCheckpointsCallback(learn, 'noise2anime', initial_epoch=100,\n",
    "                                     save_cycle_len=save_cycle_len))\n",
    "learn.add_cb(LossStore())\n",
    "ema_g_learn = Learner(dls, learn.ema_model, loss_func=lambda *args: torch.tensor(0.))\n",
    "lr = 2e-4\n",
    "# learn.model.generator, learn.model.critic"
   ]
  },
  {
   "cell_type": "code",
   "execution_count": null,
   "metadata": {
    "id": "-fQS71DDyakj",
    "jupyter": {
     "outputs_hidden": true
    },
    "outputId": "0491e854-f394-45b0-ba60-f90391f427ea"
   },
   "outputs": [],
   "source": [
    "# custom_load_model(learn, 'noise2anime_200ep', base_path='../input/noise2anime-weights/', with_ema=True)\n",
    "# preds_df = pd.read_csv(io.StringIO(preds_csv_str), index_col=0)\n",
    "# c_preds_tracker.load_from_df(preds_df)\n",
    "# with learn.removed_cbs([learn.save_checkpoints, learn.loss_store]) as displayable_learn:\n",
    "#     displayable_learn.show_results(ds_idx=0)"
   ]
  },
  {
   "cell_type": "code",
   "execution_count": null,
   "metadata": {
    "id": "i6eKXV_PefCo",
    "outputId": "a32b2137-3e23-415a-e36b-54b74d21e17c"
   },
   "outputs": [],
   "source": [
    "lr = 2e-4\n",
    "learn.fit(200, lr)\n",
    "with learn.removed_cbs([learn.save_checkpoints, learn.loss_store]) as displayable_learn:\n",
    "    displayable_learn.show_results(ds_idx=0)"
   ]
  },
  {
   "cell_type": "code",
   "execution_count": null,
   "metadata": {
    "id": "JjerhgB9ph4k",
    "outputId": "8a4a0762-a926-41a3-db91-ef052e466ded"
   },
   "outputs": [],
   "source": [
    "ema_g_learn.show_results(ds_idx=0)"
   ]
  },
  {
   "cell_type": "code",
   "execution_count": null,
   "metadata": {},
   "outputs": [],
   "source": [
    "save_preds(c_preds_tracker, Path('face2anime_crit_preds_200ep.csv'))"
   ]
  },
  {
   "cell_type": "code",
   "execution_count": 12,
   "metadata": {
    "id": "seh_41jyU-f_",
    "outputId": "51c1f43d-a8b8-4c2e-bf48-d765166f7036"
   },
   "outputs": [
    {
     "data": {
      "text/plain": [
       "Text(0, 0.5, 'Critic preds')"
      ]
     },
     "execution_count": 12,
     "metadata": {},
     "output_type": "execute_result"
    },
    {
     "data": {
      "image/png": "[encoded data removed]",
      "text/plain": [
       "<Figure size 432x288 with 1 Axes>"
      ]
     },
     "metadata": {
      "needs_background": "light"
     },
     "output_type": "display_data"
    }
   ],
   "source": [
    "preds_xs = range(len(c_preds_tracker.real_pred_batch_means))\n",
    "sns.lineplot(x=preds_xs, y=c_preds_tracker.fake_pred_batch_means, label='Fake preds')\n",
    "ax=sns.lineplot(x=preds_xs, y=c_preds_tracker.real_pred_batch_means, label='Real preds')\n",
    "ax.set_xlabel('Number of batches')\n",
    "ax.set_ylabel('Critic preds')"
   ]
  },
  {
   "cell_type": "code",
   "execution_count": 13,
   "metadata": {
    "id": "PeE_rDbTWDyg",
    "outputId": "4179f0f0-b1b6-480f-d21c-4aa951b64a32"
   },
   "outputs": [
    {
     "data": {
      "text/plain": [
       "Text(0, 0.5, 'Critic preds')"
      ]
     },
     "execution_count": 13,
     "metadata": {},
     "output_type": "execute_result"
    },
    {
     "data": {
      "image/png": "[encoded data removed]",
      "text/plain": [
       "<Figure size 432x288 with 1 Axes>"
      ]
     },
     "metadata": {
      "needs_background": "light"
     },
     "output_type": "display_data"
    }
   ],
   "source": [
    "smooth_real_preds = list(c_preds_tracker.real_pred_batch_means)\n",
    "smooth_fake_preds = list(c_preds_tracker.fake_pred_batch_means)\n",
    "for i in range(1, len(smooth_real_preds)):\n",
    "    smooth_real_preds[i] = smooth_real_preds[i-1] * 0.9 + smooth_real_preds[i] * 0.1\n",
    "    smooth_fake_preds[i] = smooth_fake_preds[i-1] * 0.9 + smooth_fake_preds[i] * 0.1\n",
    "sns.lineplot(x=preds_xs, y=smooth_fake_preds, label='EMA fake preds')    \n",
    "ax=sns.lineplot(x=preds_xs, y=smooth_real_preds, label='EMA real preds')\n",
    "ax.set_xlabel('Number of batches')\n",
    "ax.set_ylabel('Critic preds')"
   ]
  },
  {
   "cell_type": "markdown",
   "metadata": {},
   "source": [
    "The following FID values have been obtained after executing code of appendix A:"
   ]
  },
  {
   "cell_type": "code",
   "execution_count": 14,
   "metadata": {},
   "outputs": [],
   "source": [
    "epochs = list(range(5, 201, 5))\n",
    "all_fids_no_ema = ([226.9, 169.4, 96.9, 84.9, 75.3, 62.3, 54.5, 43.2, 48.4, 42.2, 40.3, 35.9, 36.3, 31.0, 32.7, 37.9, 29.3, 32.7, 28.4, 30.9] \n",
    "                   + [28.8, 23.4, 30.6, 31.7, 34.9, 29.2, 28.6, 28.5, 31.5, 30.9, 28.0, 25.4, 27.9, 28.0, 34.9, 24.2, 26.8, 27.4, 28.3, 30.4])\n",
    "# 201-230 no ema with lr=5e-5: [25.0, 22.4, 23.9, 24.6, 23.7, 23.2]\n",
    "all_fids_ema = ([313.2, 342.7, 307.4, 279.9, 119.5, 88.2, 58.9, 50.5, 45.0, 40.7, 32.1, 31.2, 29.3, 27.8, 26.7, 26.1, 25.4, 24.5, 23.8, 22.9] \n",
    "                + [20.9, 20.7, 20.6, 20.2, 20.2, 20.1, 20.0, 20.0, 19.2, 19.7, 20.2, 20.3, 19.5, 19.6, 19.8, 19.8, 20.0, 20.3, 20.8, 20.6])\n",
    "# 201-230 with ema and lr=5e-5: [19.8, 20.4, 20.7, 21.0, 21.6, 21.1]"
   ]
  },
  {
   "cell_type": "code",
   "execution_count": 16,
   "metadata": {},
   "outputs": [
    {
     "data": {
      "image/png": "[encoded data removed]",
      "text/plain": [
       "<Figure size 432x288 with 1 Axes>"
      ]
     },
     "metadata": {
      "needs_background": "light"
     },
     "output_type": "display_data"
    }
   ],
   "source": [
    "start_ep = 0\n",
    "end_ep = min(len(all_fids_no_ema), len(all_fids_ema))\n",
    "losscmp_xs = range(start_ep, end_ep)\n",
    "# Divide by 2 because we only track preds when training critic\n",
    "n_crit_batches_by_epoch = math.ceil(len(dls.dataset) / bs) // 2\n",
    "xs_batches = [ep * n_crit_batches_by_epoch for ep in epochs]\n",
    "sns.lineplot(x=xs_batches, y=all_fids_no_ema[start_ep:end_ep], label='No EMA')\n",
    "ax=sns.lineplot(x=xs_batches, y=all_fids_ema[start_ep:end_ep], label='EMA')\n",
    "ax.set_xlabel('Number of batches')\n",
    "ax.set_ylabel('FID')\n",
    "ax.set_ybound(10, 60)\n",
    "# #plt.legend(title='...')"
   ]
  },
  {
   "cell_type": "markdown",
   "metadata": {},
   "source": [
    "We can see that FID stops going down after approximately half of training, which is the point when the overlap between the distributions of real and fake preds is becoming minimal, about less than 10%."
   ]
  },
  {
   "cell_type": "code",
   "execution_count": null,
   "metadata": {
    "id": "3U5xGOeEZPI6",
    "outputId": "28067aff-2c3d-43b9-a2c6-861e322cca31"
   },
   "outputs": [],
   "source": [
    "loss_xs = range(len(learn.loss_store.c_losses))\n",
    "sns.lineplot(x=loss_xs, y=learn.loss_store.c_losses, label='C loss')\n",
    "ax=sns.lineplot(x=loss_xs, y=learn.loss_store.g_losses, label='G loss')\n",
    "ax.set_xlabel('Number of epochs')\n",
    "ax.set_ylabel('Loss')"
   ]
  },
  {
   "cell_type": "markdown",
   "metadata": {
    "id": "TQ17bFxsph4m"
   },
   "source": [
    "---"
   ]
  },
  {
   "cell_type": "code",
   "execution_count": null,
   "metadata": {
    "id": "BeK22BA5ph4m"
   },
   "outputs": [],
   "source": [
    "from IPython.display import FileLink\n",
    "FileLink('./models/noise2anime_200ep.pth')"
   ]
  },
  {
   "cell_type": "code",
   "execution_count": null,
   "metadata": {},
   "outputs": [],
   "source": [
    "FileLink('./models/noise2anime_200ep_ema.pth')"
   ]
  },
  {
   "cell_type": "code",
   "execution_count": null,
   "metadata": {},
   "outputs": [],
   "source": [
    "FileLink('face2anime_crit_preds_200ep.csv')"
   ]
  },
  {
   "cell_type": "markdown",
   "metadata": {
    "id": "6r0TnBMAph4m"
   },
   "source": [
    "# Appendix A: performing evaluation"
   ]
  },
  {
   "cell_type": "code",
   "execution_count": null,
   "metadata": {
    "id": "busi4yebph4n",
    "outputId": "0930c148-ab30-4aa0-86b4-88c0b8a6b21b"
   },
   "outputs": [],
   "source": [
    "download_pytorch_fid_calculator()\n",
    "create_fid_dirs(base_fid_samples_path)"
   ]
  },
  {
   "cell_type": "code",
   "execution_count": null,
   "metadata": {
    "id": "ZroNRGoDph4n"
   },
   "outputs": [],
   "source": [
    "save_real_imgs(dls, n_fid_imgs)"
   ]
  },
  {
   "cell_type": "code",
   "execution_count": null,
   "metadata": {
    "id": "ttUAzQVZph4n",
    "outputId": "e51e47f2-fa37-4b7a-b05d-b5a29827b5f9"
   },
   "outputs": [],
   "source": [
    "eval_models(create_learner, list(range(5, 201, 5)), base_path='./models')"
   ]
  },
  {
   "cell_type": "code",
   "execution_count": null,
   "metadata": {
    "id": "vjRy1KG-ph4n",
    "outputId": "fa029f4a-23f2-4d81-851e-b67bfb222605"
   },
   "outputs": [],
   "source": [
    "eval_models(create_learner, list(range(5, 201, 5)), base_path='./models', ema=True)"
   ]
  },
  {
   "cell_type": "markdown",
   "metadata": {},
   "source": [
    "Show sample fake image:"
   ]
  },
  {
   "cell_type": "code",
   "execution_count": null,
   "metadata": {
    "id": "8xMSg9ZGph4o",
    "jupyter": {
     "outputs_hidden": true
    }
   },
   "outputs": [],
   "source": [
    "PILImage.create(base_fid_samples_path/'fake/9.jpg')"
   ]
  },
  {
   "cell_type": "code",
   "execution_count": null,
   "metadata": {
    "id": "VXxRKnjRph4p"
   },
   "outputs": [],
   "source": []
  }
 ],
 "metadata": {
  "kernelspec": {
   "display_name": "Python 3",
   "language": "python",
   "name": "python3"
  },
  "language_info": {
   "codemirror_mode": {
    "name": "ipython",
    "version": 3
   },
   "file_extension": ".py",
   "mimetype": "text/x-python",
   "name": "python",
   "nbconvert_exporter": "python",
   "pygments_lexer": "ipython3",
   "version": "3.7.3"
  }
 },
 "nbformat": 4,
 "nbformat_minor": 4
}
