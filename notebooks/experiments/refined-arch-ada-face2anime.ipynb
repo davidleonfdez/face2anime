{
 "cells": [
  {
   "cell_type": "code",
   "execution_count": null,
   "metadata": {
    "execution": {
     "iopub.execute_input": "2021-06-05T21:17:32.142261Z",
     "iopub.status.busy": "2021-06-05T21:17:32.141923Z",
     "iopub.status.idle": "2021-06-05T21:17:33.942872Z",
     "shell.execute_reply": "2021-06-05T21:17:33.942047Z",
     "shell.execute_reply.started": "2021-06-05T21:17:32.142223Z"
    }
   },
   "outputs": [],
   "source": [
    "from dataclasses import dataclass\n",
    "from fastai.vision.all import *\n",
    "from fastai.vision.gan import *\n",
    "from functools import partial\n",
    "import numpy as np \n",
    "import pandas as pd\n",
    "from pathlib import Path\n",
    "import seaborn as sns\n",
    "import subprocess\n",
    "import torch\n",
    "import torch.nn as nn\n",
    "import torch.nn.functional as F\n",
    "from typing import Callable"
   ]
  },
  {
   "cell_type": "code",
   "execution_count": 2,
   "metadata": {
    "execution": {
     "iopub.execute_input": "2021-06-05T21:17:33.944515Z",
     "iopub.status.busy": "2021-06-05T21:17:33.944114Z",
     "iopub.status.idle": "2021-06-05T21:17:33.952068Z",
     "shell.execute_reply": "2021-06-05T21:17:33.950828Z",
     "shell.execute_reply.started": "2021-06-05T21:17:33.944476Z"
    }
   },
   "outputs": [],
   "source": [
    "run_as_standalone_nb = False"
   ]
  },
  {
   "cell_type": "code",
   "execution_count": 3,
   "metadata": {
    "execution": {
     "iopub.execute_input": "2021-06-05T21:17:33.956464Z",
     "iopub.status.busy": "2021-06-05T21:17:33.956093Z",
     "iopub.status.idle": "2021-06-05T21:17:35.676589Z",
     "shell.execute_reply": "2021-06-05T21:17:35.675697Z",
     "shell.execute_reply.started": "2021-06-05T21:17:33.956425Z"
    }
   },
   "outputs": [],
   "source": [
    "if run_as_standalone_nb:\n",
    "    root_lib_path = Path('face2anime').resolve()\n",
    "    if not root_lib_path.exists():\n",
    "        !git clone https://github.com/davidleonfdez/face2anime.git\n",
    "    if str(root_lib_path) not in sys.path:\n",
    "        sys.path.insert(0, str(root_lib_path))\n",
    "else:\n",
    "    import local_lib_import"
   ]
  },
  {
   "cell_type": "code",
   "execution_count": 4,
   "metadata": {
    "execution": {
     "iopub.execute_input": "2021-06-05T21:17:35.680687Z",
     "iopub.status.busy": "2021-06-05T21:17:35.680366Z",
     "iopub.status.idle": "2021-06-05T21:17:38.186243Z",
     "shell.execute_reply": "2021-06-05T21:17:38.185469Z",
     "shell.execute_reply.started": "2021-06-05T21:17:35.680654Z"
    }
   },
   "outputs": [],
   "source": [
    "from face2anime.gen_utils import is_iterable\n",
    "from face2anime.layers import ConcatPoolHalfDownsamplingOp2d, ConvHalfDownsamplingOp2d, TransformsLayer\n",
    "from face2anime.losses import ContentLossCallback, CritPredsTracker, LossWrapper, R1GANGPCallback\n",
    "from face2anime.misc import FeaturesCalculator\n",
    "from face2anime.networks import Img2ImgGenerator, patch_res_critic, res_critic\n",
    "from face2anime.train_utils import (add_ema_to_gan_learner, custom_load_model,\n",
    "                                    custom_save_model)\n",
    "from face2anime.transforms import AdaptiveAugmentsCallback, ADATransforms"
   ]
  },
  {
   "cell_type": "code",
   "execution_count": 5,
   "metadata": {
    "execution": {
     "iopub.execute_input": "2021-06-05T21:17:38.189063Z",
     "iopub.status.busy": "2021-06-05T21:17:38.188467Z",
     "iopub.status.idle": "2021-06-05T21:17:38.194147Z",
     "shell.execute_reply": "2021-06-05T21:17:38.193310Z",
     "shell.execute_reply.started": "2021-06-05T21:17:38.189024Z"
    }
   },
   "outputs": [],
   "source": [
    "device = 'cuda' if torch.cuda.is_available() else 'cpu'\n",
    "img_size = 64\n",
    "n_channels = 3\n",
    "bs = 64\n",
    "save_cycle_len = 5"
   ]
  },
  {
   "cell_type": "markdown",
   "metadata": {},
   "source": [
    "# Data"
   ]
  },
  {
   "cell_type": "markdown",
   "metadata": {},
   "source": [
    "## Target ds"
   ]
  },
  {
   "cell_type": "markdown",
   "metadata": {},
   "source": [
    "animecharacterfaces, by Kaggle user *aadilmalik94*"
   ]
  },
  {
   "cell_type": "code",
   "execution_count": null,
   "metadata": {
    "execution": {
     "iopub.execute_input": "2021-06-05T21:17:38.195965Z",
     "iopub.status.busy": "2021-06-05T21:17:38.195527Z",
     "iopub.status.idle": "2021-06-05T21:17:38.231641Z",
     "shell.execute_reply": "2021-06-05T21:17:38.230849Z",
     "shell.execute_reply.started": "2021-06-05T21:17:38.195926Z"
    }
   },
   "outputs": [],
   "source": [
    "anime_ds_path = Path('/kaggle/input/animecharacterfaces/animeface-character-dataset/data').resolve()"
   ]
  },
  {
   "cell_type": "markdown",
   "metadata": {},
   "source": [
    "## Input ds"
   ]
  },
  {
   "cell_type": "code",
   "execution_count": null,
   "metadata": {
    "execution": {
     "iopub.execute_input": "2021-06-05T21:17:38.233164Z",
     "iopub.status.busy": "2021-06-05T21:17:38.232822Z",
     "iopub.status.idle": "2021-06-05T21:17:42.310722Z",
     "shell.execute_reply": "2021-06-05T21:17:42.309953Z",
     "shell.execute_reply.started": "2021-06-05T21:17:38.233129Z"
    }
   },
   "outputs": [],
   "source": [
    "celeba_path = Path('/kaggle/input/celeba-dataset/img_align_celeba/img_align_celeba')\n",
    "#input_fns = get_image_files(celeba_path)\n",
    "# get_image_files is too slow, there's no need to check the extension here\n",
    "input_fns = celeba_path.ls()\n",
    "input_fns"
   ]
  },
  {
   "cell_type": "markdown",
   "metadata": {},
   "source": [
    "The ds path passed to `dblock.dataloaders()` or `ImageDataLoaders.from_dblock()` will be forwarded\n",
    "to `get_items`, which will return a list of items, usually a list of image paths if `get_items=get_image_files`.\n",
    "\n",
    "So, for each item, we are expected to receive a filename `fn` and be able to\n",
    "derive x and y from it, with `get_x(fn)` and `get_y(fn)`.\n",
    "\n",
    "For unpaired image to image translation, we can:\n",
    "* Use the target images ds path as the DataBlock `source`. Then, `get_y` can just return the path received.\n",
    "* Load independently the filenames of the input images ds; let's call it `input_fns`. Then, `get_x` would need to return a random item from `input_fns`. `get_x` is called every time a data item is used; so, by using random, we can be sure every x is not tied to a fixed y; i.e., they won't be together in the same (x, y) batch every epoch for loss calculation.\n"
   ]
  },
  {
   "cell_type": "markdown",
   "metadata": {},
   "source": [
    "---"
   ]
  },
  {
   "cell_type": "code",
   "execution_count": null,
   "metadata": {
    "execution": {
     "iopub.execute_input": "2021-06-05T21:17:42.312563Z",
     "iopub.status.busy": "2021-06-05T21:17:42.312210Z",
     "iopub.status.idle": "2021-06-05T21:17:56.265457Z",
     "shell.execute_reply": "2021-06-05T21:17:56.264680Z",
     "shell.execute_reply.started": "2021-06-05T21:17:42.312525Z"
    }
   },
   "outputs": [],
   "source": [
    "def get_random_input(fn):\n",
    "    return input_fns[random.randint(0, len(input_fns)-1)]\n",
    "\n",
    "\n",
    "normalize_tf = Normalize.from_stats(torch.tensor([0.5,0.5,0.5]), torch.tensor([0.5,0.5,0.5]))\n",
    "\n",
    "\n",
    "def get_dblock(extra_batch_tfms=None):\n",
    "    if extra_batch_tfms is None: extra_batch_tfms = []    \n",
    "    return DataBlock(blocks=(ImageBlock, ImageBlock),\n",
    "                     get_x=get_random_input,\n",
    "                     get_items=get_image_files,\n",
    "                     #get_items=lambda path: target_fns,\n",
    "                     splitter=IndexSplitter([]),\n",
    "                     item_tfms=Resize(img_size, method=ResizeMethod.Crop), \n",
    "                     batch_tfms=[normalize_tf] + extra_batch_tfms)\n",
    "\n",
    "\n",
    "dblock = get_dblock()\n",
    "main_path = anime_ds_path\n",
    "dls = dblock.dataloaders(main_path, path=main_path, bs=bs)"
   ]
  },
  {
   "cell_type": "code",
   "execution_count": null,
   "metadata": {
    "execution": {
     "iopub.execute_input": "2021-06-05T21:17:56.267109Z",
     "iopub.status.busy": "2021-06-05T21:17:56.266755Z",
     "iopub.status.idle": "2021-06-05T21:17:58.448564Z",
     "shell.execute_reply": "2021-06-05T21:17:58.447670Z",
     "shell.execute_reply.started": "2021-06-05T21:17:56.267073Z"
    }
   },
   "outputs": [],
   "source": [
    "dls.show_batch()"
   ]
  },
  {
   "cell_type": "markdown",
   "metadata": {},
   "source": [
    "# Loss function utils"
   ]
  },
  {
   "cell_type": "code",
   "execution_count": null,
   "metadata": {
    "execution": {
     "iopub.execute_input": "2021-06-05T21:17:58.450015Z",
     "iopub.status.busy": "2021-06-05T21:17:58.449685Z",
     "iopub.status.idle": "2021-06-05T21:18:20.374931Z",
     "shell.execute_reply": "2021-06-05T21:18:20.374046Z",
     "shell.execute_reply.started": "2021-06-05T21:17:58.449982Z"
    }
   },
   "outputs": [],
   "source": [
    "vgg_content_layers_idx = [22]\n",
    "ftrs_calc = FeaturesCalculator([], vgg_content_layers_idx, device=device,\n",
    "                               input_norm_tf=normalize_tf)"
   ]
  },
  {
   "cell_type": "markdown",
   "metadata": {},
   "source": [
    "## Reconstruction loss"
   ]
  },
  {
   "cell_type": "code",
   "execution_count": null,
   "metadata": {
    "execution": {
     "iopub.execute_input": "2021-06-04T20:23:01.509078Z",
     "iopub.status.busy": "2021-06-04T20:23:01.508357Z",
     "iopub.status.idle": "2021-06-04T20:23:01.562214Z",
     "shell.execute_reply": "2021-06-04T20:23:01.561101Z",
     "shell.execute_reply.started": "2021-06-04T20:23:01.509022Z"
    }
   },
   "outputs": [],
   "source": [
    "@dataclass\n",
    "class ReconstructionLossWeights:\n",
    "    real_to_real:float=1.\n",
    "    latent_a_to_latent:float=1.\n",
    "    latent_b_to_latent:float=1.\n",
    "\n",
    "class ReconstructionLossCallback(Callback):\n",
    "    def __init__(self, enc_dec_generator:nn.Module, weights:ReconstructionLossWeights,\n",
    "                 n_ch=3, eval_real_b_to_real=True, eval_latent_a_to_latent=True, \n",
    "                 eval_latent_b_to_latent=True, loss_func:Callable=None):\n",
    "        self.generator = enc_dec_generator\n",
    "        self.weights = weights\n",
    "        self.eval_real_b_to_real = eval_real_b_to_real\n",
    "        self.eval_latent_a_to_latent = eval_latent_a_to_latent\n",
    "        self.eval_latent_b_to_latent = eval_latent_b_to_latent\n",
    "        self.latent_layer_idx = 0\n",
    "        if eval_latent_a_to_latent or eval_latent_b_to_latent:\n",
    "            self.latent_layer_idx = self._get_latent_layer_idx(n_ch)\n",
    "        self.loss_func = F.l1_loss if loss_func is None else loss_func\n",
    "        \n",
    "    def _get_latent_layer_idx(self, n_ch:int):\n",
    "        with hook_outputs(self.generator) as all_hooks:\n",
    "            last_spatial_size = 64\n",
    "            self.generator(torch.rand(2, n_ch, last_spatial_size, last_spatial_size))\n",
    "            latent_code_layer_idx = 0\n",
    "            for i, h in enumerate(all_hooks):\n",
    "                if h.stored.shape[-1] > last_spatial_size:\n",
    "                    break\n",
    "                last_spatial_size = h.stored.shape[-1]\n",
    "                latent_code_layer_idx = i\n",
    "            return latent_code_layer_idx\n",
    "        \n",
    "    def after_loss(self):\n",
    "        if not self.gan_trainer.gen_mode: return\n",
    "        eval_any_latent = self.eval_latent_a_to_latent or self.eval_latent_b_to_latent\n",
    "        mid_hook = hook_output(self.generator[self.latent_layer_idx]) if eval_any_latent else None\n",
    "        #encoder = nn.Sequential(*self.generator[:self.latent_layer_idx+1]) if eval_any_latent else None\n",
    "        \n",
    "        if self.eval_real_b_to_real:\n",
    "            fake = self.generator(self.y)\n",
    "            real_to_real_loss = self.loss_func(fake, self.y) * self.weights.real_to_real\n",
    "            self.learn.loss_grad += real_to_real_loss\n",
    "            # Store result inside learn.loss_func to make it visible to metrics display\n",
    "            self.learn.loss_func.real_rec_loss = real_to_real_loss\n",
    "            \n",
    "        # Watchout: order matters! This `if` needs to be placed before the next one\n",
    "        # (`if self.eval_latent_a_to_latent`) because mid_hook.stored is reused \n",
    "        # when (self.eval_real_b_to_real == True)       \n",
    "        if self.eval_latent_b_to_latent:\n",
    "            if mid_hook.stored is None:\n",
    "                fake = self.generator(self.y)\n",
    "            latent_b = mid_hook.stored\n",
    "            # TODO: it would be more efficient to execute `encoder(fake)` only, but not sure \n",
    "            # if it could be possible w/o losing computation graph\n",
    "            self.generator(fake)\n",
    "            latent_b_rec = mid_hook.stored\n",
    "            latent_b_rec_loss = self.loss_func(latent_b, latent_b_rec) * self.weights.latent_b_to_latent\n",
    "            self.learn.loss_grad += latent_b_rec_loss\n",
    "            # Store result inside learn.loss_func to make it visible to metrics display\n",
    "            self.learn.loss_func.latent_b_rec_loss = latent_b_rec_loss\n",
    "            \n",
    "        if self.eval_latent_a_to_latent:\n",
    "            fake = self.generator(self.x)\n",
    "            latent_a = mid_hook.stored\n",
    "            self.generator(fake)\n",
    "            latent_a_rec = mid_hook.stored\n",
    "            latent_a_rec_loss = self.loss_func(latent_a, latent_a_rec) * self.weights.latent_a_to_latent\n",
    "            self.learn.loss_grad += latent_a_rec_loss\n",
    "            # Store result inside learn.loss_func to make it visible to metrics display\n",
    "            self.learn.loss_func.latent_a_rec_loss = latent_a_rec_loss\n",
    "            \n",
    "        if eval_any_latent:\n",
    "            mid_hook.remove()\n",
    "\n",
    "\n",
    "class DummyGen(nn.Module):\n",
    "    \"\"\"Generator composed by convs whose weights are full of ones with no bias.\"\"\"\n",
    "    def __init__(self, n_ftrs, k_szs, strides, paddings, transpose):\n",
    "        super().__init__()\n",
    "        convs = []\n",
    "        for i, (nf, ks, stride, pad, tr) in enumerate(zip(n_ftrs[:-1], k_szs, strides, paddings, transpose)):\n",
    "            conv_func = nn.ConvTranspose2d if tr else nn.Conv2d\n",
    "            conv = conv_func(nf, n_ftrs[i+1], kernel_size=ks, stride=stride, padding=pad, bias=False)\n",
    "            convs.append(conv)\n",
    "            nn.init.constant_(conv.weight, 1)\n",
    "        self.convs = nn.Sequential(*convs)\n",
    "\n",
    "    def forward(self, x):\n",
    "        return self.convs(x)\n",
    "    \n",
    "    def __iter__(self): return iter(self.convs)\n",
    "    def __getitem__(self,i): return self.convs[i]\n",
    "\n",
    "class DummyCritic(nn.Module):\n",
    "    def __init__(self): super().__init__()\n",
    "    def forward(self, x): return torch.zeros(x.size()[0], 1).requires_grad_(True)\n",
    "    \n",
    "\n",
    "def test_rec_loss():        \n",
    "    n_ch = 3\n",
    "    mid_ftrs = 6\n",
    "    resample_ks = 4\n",
    "    dblock = DataBlock(blocks=(ImageBlock, ImageBlock),\n",
    "                       # float tensor full of 1.'s\n",
    "                       get_x=lambda fn: np.full((4, 4, n_ch), 255, dtype=np.uint8),\n",
    "                       splitter = IndexSplitter([]),\n",
    "                       # float tensor full of 0.2's\n",
    "                       get_y=lambda fn: np.full((4, 4, n_ch), 51, dtype=np.uint8))\n",
    "    dls = dblock.dataloaders(['', ''], bs=2)\n",
    "    gen = DummyGen([n_ch, mid_ftrs, n_ch], [resample_ks, resample_ks], \n",
    "                   [2, 2], [0, 0], [False, True])\n",
    "    crit = DummyCritic()    \n",
    "    weights = ReconstructionLossWeights(1, 2, 3)\n",
    "    rec_loss_cb = ReconstructionLossCallback(gen, weights)\n",
    "    learn = GANLearner.wgan(dls, gen, crit, cbs=[rec_loss_cb], gen_first=True) #metrics = [...]\n",
    "    learn.fit(1)\n",
    "    \n",
    "    deeper_gen = DummyGen([n_ch, mid_ftrs, mid_ftrs, mid_ftrs, n_ch], [resample_ks, 3, 3, resample_ks], \n",
    "                          [2, 1, 1, 2], [0, 0, 0, 0], [False, False, False, True])\n",
    "    rec_loss_cb_deeper_gen = ReconstructionLossCallback(deeper_gen, weights)\n",
    "    \n",
    "    \n",
    "    # Expected results are almost hardcoded in order to avoid repeating potential coding errors\n",
    "    # from test code, although we are unnecessarily testing DummyGen at the same time.\n",
    "    # If input=torch.full((bs, n_ch, 4, 4), item_val) ...\n",
    "    #   -After first conv, out=torch.full((bs, 6, 1, 1), item_val*n_ch*(resample_ks**2))\n",
    "    #   -After second conv, out=torch.full((bs, 3, 4, 4), (item_val*n_ch*(resample_ks**2))*mid_ftrs\n",
    "    #   -After first conv, second forward, out=torch.full((bs, 6, 1, 1), ((item_val*n_ch*(resample_ks**2))*mid_ftrs)*n_ch*(resample_ks**2))\n",
    "    real_out_values = 0.2 * mid_ftrs * n_ch * resample_ks**2\n",
    "    expected_real_rec_loss = weights.real_to_real * abs(real_out_values - 0.2)    \n",
    "    \n",
    "    # Latent code obtained passing real target (y) as input\n",
    "    latent_b_values = 0.2 * n_ch * resample_ks**2\n",
    "    latent_b_rec_values = 0.2 * mid_ftrs * n_ch**2 * resample_ks**4\n",
    "    expected_latent_b_rec_loss = weights.latent_b_to_latent * abs(latent_b_rec_values - latent_b_values)\n",
    "    \n",
    "    # Latent code obtained passing real input (x) as input\n",
    "    latent_a_values = n_ch * resample_ks**2\n",
    "    latent_a_rec_values = mid_ftrs * n_ch**2 * resample_ks**4\n",
    "    expected_latent_a_rec_loss = weights.latent_a_to_latent * abs(latent_a_rec_values - latent_a_values)\n",
    "\n",
    "    # A more concise but also error prone form would be:\n",
    "#     y = torch.full((bs, n_ch, 4, 4), 0.2)\n",
    "#     real_out = gen(y)\n",
    "#     expected_real_rec_loss = weights.real_to_real * F.l1_loss(real_out, y)\n",
    "#     latent_b = gen[0](y)\n",
    "#     latent_b_rec = gen[0](gen[1](latent_b)) \n",
    "#     expected_latent_b_rec_loss = weights.latent_b_to_latent * F.l1_loss(latent_b_rec, latent_b)\n",
    "#     x = torch.ones(bs, n_ch, 4, 4)\n",
    "#     latent_a = gen[0](x)\n",
    "#     latent_a_rec = gen[0](gen[1](latent_a))\n",
    "#     expected_latent_a_rec_loss = weights.latent_a_to_latent * F.l1_loss(latent_a_rec, latent_a)\n",
    "    \n",
    "    expected_loss = expected_real_rec_loss + expected_latent_b_rec_loss + expected_latent_a_rec_loss\n",
    "        \n",
    "    assert rec_loss_cb._get_latent_layer_idx(n_ch) == 0\n",
    "    assert rec_loss_cb_deeper_gen._get_latent_layer_idx(n_ch) == 2\n",
    "    assert math.isclose(learn.recorder.losses[0], expected_loss, rel_tol=1e-5)"
   ]
  },
  {
   "cell_type": "code",
   "execution_count": null,
   "metadata": {
    "execution": {
     "iopub.execute_input": "2021-06-04T20:23:01.564217Z",
     "iopub.status.busy": "2021-06-04T20:23:01.563658Z",
     "iopub.status.idle": "2021-06-04T20:23:01.98965Z",
     "shell.execute_reply": "2021-06-04T20:23:01.988303Z",
     "shell.execute_reply.started": "2021-06-04T20:23:01.564169Z"
    }
   },
   "outputs": [],
   "source": [
    "test_rec_loss()"
   ]
  },
  {
   "cell_type": "markdown",
   "metadata": {},
   "source": [
    "------------------\n",
    "\n",
    "# Training"
   ]
  },
  {
   "cell_type": "code",
   "execution_count": null,
   "metadata": {
    "execution": {
     "iopub.execute_input": "2021-06-05T21:18:20.376608Z",
     "iopub.status.busy": "2021-06-05T21:18:20.376221Z",
     "iopub.status.idle": "2021-06-05T21:18:20.392478Z",
     "shell.execute_reply": "2021-06-05T21:18:20.391625Z",
     "shell.execute_reply.started": "2021-06-05T21:18:20.376557Z"
    }
   },
   "outputs": [],
   "source": [
    "def predict_n(learner, n_imgs, max_bs=64):\n",
    "    dummy_path = Path('')\n",
    "    dl = learner.dls.test_dl([dummy_path]*n_imgs, bs=max_bs)   \n",
    "    inp, imgs_t, _, dec_imgs_t = learner.get_preds(dl=dl, with_input=True, with_decoded=True)\n",
    "    dec_batch = dls.decode_batch((inp,) + tuplify(dec_imgs_t), max_n=n_imgs)\n",
    "    return dec_batch\n",
    "    \n",
    "def predict_show_n(learner, n_imgs, **predict_n_kwargs):\n",
    "    preds_batch = predict_n(learner, n_imgs, **predict_n_kwargs)\n",
    "    _, axs = plt.subplots(n_imgs, 2, figsize=(6, n_imgs * 3))\n",
    "    for i, (inp, pred_img) in enumerate(preds_batch):\n",
    "        inp.show(ax=axs[i][0])\n",
    "        pred_img.show(ax=axs[i][1])\n",
    "        \n",
    "class SaveCheckpointsCallback(Callback):\n",
    "    \"Callback that saves the model at the end of each epoch.\"\n",
    "    def __init__(self, fn_prefix, base_path=Path('.'), initial_epoch=1,\n",
    "                 save_cycle_len=1):\n",
    "        self.fn_prefix = fn_prefix\n",
    "        self.base_path = base_path\n",
    "        self.epoch = initial_epoch\n",
    "        self.save_cycle_len = save_cycle_len\n",
    "        \n",
    "    def after_epoch(self):\n",
    "        if (self.epoch % self.save_cycle_len) == 0:\n",
    "            fn = f'{self.fn_prefix}_{self.epoch}ep'\n",
    "            custom_save_model(self.learn, fn, base_path=self.base_path)\n",
    "        self.epoch += 1\n",
    "        \n",
    "def save_preds(c_preds_tracker, filepath):\n",
    "    return c_preds_tracker.to_df().to_csv(filepath)\n",
    "        \n",
    "def plot_c_preds(c_preds_tracker):\n",
    "    preds_xs = range(len(c_preds_tracker.real_preds))\n",
    "    sns.lineplot(x=preds_xs, y=c_preds_tracker.fake_preds.cpu(), label='Fake preds')\n",
    "    ax=sns.lineplot(x=preds_xs, y=c_preds_tracker.real_preds.cpu(), label='Real preds')\n",
    "    ax.set_xlabel('Number of batches')\n",
    "    ax.set_ylabel('Critic preds')"
   ]
  },
  {
   "cell_type": "code",
   "execution_count": null,
   "metadata": {
    "execution": {
     "iopub.execute_input": "2021-06-05T21:18:20.394416Z",
     "iopub.status.busy": "2021-06-05T21:18:20.393887Z",
     "iopub.status.idle": "2021-06-05T21:18:20.406890Z",
     "shell.execute_reply": "2021-06-05T21:18:20.406060Z",
     "shell.execute_reply.started": "2021-06-05T21:18:20.394372Z"
    }
   },
   "outputs": [],
   "source": [
    "def set_inn_options(net, **inn_kwargs):\n",
    "    for k, module in net.named_modules():\n",
    "        if not isinstance(module, nn.InstanceNorm2d): continue\n",
    "        editable_module = net\n",
    "        accesors = k.split('.')\n",
    "        for accesor in accesors[:-1]:\n",
    "            editable_module = (editable_module[int(accesor)] if accesor.isnumeric()\n",
    "                              else getattr(editable_module, accesor))\n",
    "        new_module = InstanceNorm(module.num_features, **inn_kwargs)\n",
    "        if accesors[-1].isnumeric():\n",
    "            editable_module[int(accesors[-1])] = new_module\n",
    "        else:\n",
    "            setattr(editable_module, accesors[-1], new_module)"
   ]
  },
  {
   "cell_type": "code",
   "execution_count": null,
   "metadata": {
    "execution": {
     "iopub.execute_input": "2021-06-05T21:18:20.408800Z",
     "iopub.status.busy": "2021-06-05T21:18:20.408258Z",
     "iopub.status.idle": "2021-06-05T21:18:20.429451Z",
     "shell.execute_reply": "2021-06-05T21:18:20.428556Z",
     "shell.execute_reply.started": "2021-06-05T21:18:20.408756Z"
    }
   },
   "outputs": [],
   "source": [
    "@dataclass\n",
    "class ADAConfig:\n",
    "    p_change_thresh:float=0.6\n",
    "    filter_tfms_to_array:Callable=None\n",
    "    pad_mode:PadMode=PadMode.Reflection\n",
    "    \n",
    "\n",
    "def create_learner(for_inference=False, ada_conf=None, dblock=dblock, dls=dls, gp_w=1.,\n",
    "                   latent_sz=100, g_norm=NormType.Instance, mid_mlp_depth=0,\n",
    "                   n_extra_convs_by_c_res_block=0, g_skips=False, n_crit_iters=1, \n",
    "                   metrics=None, use_patch_critic=False):\n",
    "    use_ada = ada_conf is not None\n",
    "    leakyReLU02 = partial(nn.LeakyReLU, negative_slope=0.2)\n",
    "    down_op = ConvHalfDownsamplingOp2d(ks=4, act_cls=leakyReLU02, bn_1st=False,\n",
    "                                       norm_type=NormType.Batch)\n",
    "    id_down_op = ConcatPoolHalfDownsamplingOp2d(conv_ks=3, act_cls=None, norm_type=None)\n",
    "    crit_args = [img_size, n_channels, down_op, id_down_op]\n",
    "    if use_patch_critic: crit_args.insert(2, img_size//8)\n",
    "    crit_kwargs = dict(n_extra_convs_by_res_block=n_extra_convs_by_c_res_block, \n",
    "                       act_cls=leakyReLU02, bn_1st=False, n_features=128, \n",
    "                       flatten_full=True)\n",
    "    crit_builder = patch_res_critic if use_patch_critic else res_critic\n",
    "    base_critic = crit_builder(*crit_args, **crit_kwargs)\n",
    "    if not use_ada: critic = base_critic\n",
    "    \n",
    "    def _decoder_builder(imsz, nch, latsz, hooks_by_sz=None): \n",
    "        return default_decoder(imsz, nch, latsz, norm_type=g_norm, hooks_by_sz=hooks_by_sz)\n",
    "    generator = Img2ImgGenerator(img_size, n_channels, mid_mlp_depth=mid_mlp_depth, skip_connect=g_skips,\n",
    "                                 encoder=default_encoder(img_size, n_channels, latent_sz, norm_type=g_norm),\n",
    "                                 decoder_builder=_decoder_builder)\n",
    "    \n",
    "    cbs = []\n",
    "    c_loss_interceptors = []\n",
    "    tfms_array = []\n",
    "    \n",
    "    if not for_inference:\n",
    "        # Pass base_critic to avoid grid_sample 2nd order derivative issue with ADA critic\n",
    "        cbs.append(R1GANGPCallback(weight=gp_w, critic=base_critic))\n",
    "        #cbs.append(ContentLossCallback(weight=content_loss_w, ftrs_calc=ftrs_calc, device=device))\n",
    "        #cbs.append(ReconstructionLossCallback(generator, rec_loss_weights, **rec_loss_cb_kwargs))\n",
    "        if use_ada:\n",
    "            ada_tfms = ADATransforms(0., (img_size, img_size), pad_mode=ada_conf.pad_mode)\n",
    "            tfms_array = (ada_conf.filter_tfms_to_array(ada_tfms) if ada_conf.filter_tfms_to_array is not None\n",
    "                          else ada_tfms.to_array())\n",
    "            ada_crit_preds_tracker = CritPredsTracker(reduce_batch=False)\n",
    "            ada_cb = AdaptiveAugmentsCallback(ada_tfms, ada_crit_preds_tracker,\n",
    "                                              preds_above_0_overfit_threshold=ada_conf.p_change_thresh)\n",
    "            cbs.append(ada_cb)\n",
    "            c_loss_interceptors.append(ada_crit_preds_tracker)\n",
    "        overall_crit_preds_tracker = CritPredsTracker(reduce_batch=True)\n",
    "        c_loss_interceptors.append(overall_crit_preds_tracker)\n",
    "       \n",
    "    if use_ada:\n",
    "        critic = nn.Sequential(TransformsLayer(setup_aug_tfms(tfms_array)),\n",
    "                               base_critic)       \n",
    "    \n",
    "    def gen_loss_func(*args): return 0\n",
    "    crit_loss_func = nn.BCEWithLogitsLoss()\n",
    "    loss_G, loss_C = gan_loss_from_func(gen_loss_func, crit_loss_func)\n",
    "    loss_C = LossWrapper(loss_C, c_loss_interceptors)\n",
    "    \n",
    "    learn = GANLearner(dls, generator, critic, loss_G, loss_C,\n",
    "                       opt_func=partial(Adam, mom=0., sqr_mom=0.99, wd=0.),\n",
    "                       cbs=cbs, switcher=FixedGANSwitcher(n_crit=n_crit_iters, n_gen=1),\n",
    "                       switch_eval=False, metrics=metrics)\n",
    "    #metrics=LossMetric('content_loss')\n",
    "    #metrics=LossMetrics(['real_rec_loss', 'latent_a_rec_loss', 'latent_b_rec_loss'])\n",
    "    learn.recorder.train_metrics=True\n",
    "    learn.recorder.valid_metrics=False\n",
    "    add_ema_to_gan_learner(learn, dblock, decay=0.999)\n",
    "    if not for_inference: learn.crit_preds_tracker = overall_crit_preds_tracker\n",
    "    return learn"
   ]
  },
  {
   "cell_type": "markdown",
   "metadata": {},
   "source": [
    "## TR 1: NSGAN-R1GP loss, SN+BN critic, IN+SN gen (both encoder and decoder), no mid MLP "
   ]
  },
  {
   "cell_type": "markdown",
   "metadata": {},
   "source": [
    "### TR 1a: global critic"
   ]
  },
  {
   "cell_type": "code",
   "execution_count": null,
   "metadata": {
    "execution": {
     "iopub.execute_input": "2021-06-05T21:18:20.447061Z",
     "iopub.status.busy": "2021-06-05T21:18:20.446522Z",
     "iopub.status.idle": "2021-06-05T21:18:20.458376Z",
     "shell.execute_reply": "2021-06-05T21:18:20.457537Z",
     "shell.execute_reply.started": "2021-06-05T21:18:20.447023Z"
    }
   },
   "outputs": [],
   "source": [
    "def create_learner_1(*args, **kwargs):\n",
    "    return create_learner(*args, **kwargs, gp_w=10., g_norm=NormType.Batch, mid_mlp_depth=2,\n",
    "                          g_skips=True, n_extra_convs_by_c_res_block=1, n_crit_iters=3)"
   ]
  },
  {
   "cell_type": "code",
   "execution_count": null,
   "metadata": {
    "execution": {
     "iopub.execute_input": "2021-06-05T21:18:20.459982Z",
     "iopub.status.busy": "2021-06-05T21:18:20.459473Z",
     "iopub.status.idle": "2021-06-05T21:18:21.636005Z",
     "shell.execute_reply": "2021-06-05T21:18:21.635263Z",
     "shell.execute_reply.started": "2021-06-05T21:18:20.459937Z"
    }
   },
   "outputs": [],
   "source": [
    "learn = create_learner_1()\n",
    "learn.add_cb(SaveCheckpointsCallback('refined_arch_face2anime_tr1', initial_epoch=1,\n",
    "                                     save_cycle_len=save_cycle_len))\n",
    "ema_g_learn = Learner(dls, learn.ema_model, loss_func=lambda *args: torch.tensor(0.))\n",
    "lr = 2e-4"
   ]
  },
  {
   "cell_type": "code",
   "execution_count": null,
   "metadata": {
    "execution": {
     "iopub.execute_input": "2021-06-05T20:51:35.323456Z",
     "iopub.status.busy": "2021-06-05T20:51:35.323043Z",
     "iopub.status.idle": "2021-06-05T20:51:54.280088Z",
     "shell.execute_reply": "2021-06-05T20:51:54.278942Z",
     "shell.execute_reply.started": "2021-06-05T20:51:35.323424Z"
    },
    "jupyter": {
     "outputs_hidden": true
    }
   },
   "outputs": [],
   "source": [
    "# custom_load_model(learn, 'refined_arch_face2anime_tr1_100ep', base_path='../input/refined-arch-face2anime/', with_ema=True)\n",
    "# #preds_df = pd.read_csv(io.StringIO(preds_csv_str), index_col=0)\n",
    "# #learn.crit_preds_tracker.load_from_df(preds_df, device)\n",
    "# with learn.removed_cbs([learn.save_checkpoints]) as displayable_learn:\n",
    "#     displayable_learn.show_results(ds_idx=0)"
   ]
  },
  {
   "cell_type": "code",
   "execution_count": null,
   "metadata": {
    "execution": {
     "iopub.execute_input": "2021-06-05T21:18:34.197054Z",
     "iopub.status.busy": "2021-06-05T21:18:34.196728Z"
    }
   },
   "outputs": [],
   "source": [
    "learn.fit(100, lr)\n",
    "with learn.removed_cbs([learn.save_checkpoints]) as displayable_learn:\n",
    "    displayable_learn.show_results(ds_idx=0)"
   ]
  },
  {
   "cell_type": "code",
   "execution_count": null,
   "metadata": {
    "execution": {
     "iopub.execute_input": "2021-06-05T02:36:38.610347Z",
     "iopub.status.busy": "2021-06-05T02:36:38.609973Z",
     "iopub.status.idle": "2021-06-05T02:36:40.721681Z",
     "shell.execute_reply": "2021-06-05T02:36:40.720775Z",
     "shell.execute_reply.started": "2021-06-05T02:36:38.610302Z"
    }
   },
   "outputs": [],
   "source": [
    "ema_g_learn.show_results(ds_idx=0)"
   ]
  },
  {
   "cell_type": "code",
   "execution_count": null,
   "metadata": {
    "execution": {
     "iopub.execute_input": "2021-06-05T02:36:40.723858Z",
     "iopub.status.busy": "2021-06-05T02:36:40.723441Z",
     "iopub.status.idle": "2021-06-05T02:36:41.907424Z",
     "shell.execute_reply": "2021-06-05T02:36:41.9067Z",
     "shell.execute_reply.started": "2021-06-05T02:36:40.723813Z"
    }
   },
   "outputs": [],
   "source": [
    "plot_c_preds(learn.crit_preds_tracker)"
   ]
  },
  {
   "cell_type": "code",
   "execution_count": null,
   "metadata": {
    "execution": {
     "iopub.execute_input": "2021-06-04T02:37:12.040254Z",
     "iopub.status.busy": "2021-06-04T02:37:12.039895Z",
     "iopub.status.idle": "2021-06-04T02:37:12.08461Z",
     "shell.execute_reply": "2021-06-04T02:37:12.083893Z",
     "shell.execute_reply.started": "2021-06-04T02:37:12.040214Z"
    }
   },
   "outputs": [],
   "source": [
    "save_preds(learn.crit_preds_tracker, Path('crit_preds_face2anime_refined_tr1_100ep.csv'))"
   ]
  },
  {
   "cell_type": "markdown",
   "metadata": {},
   "source": [
    "### TR 1b: patch critic"
   ]
  },
  {
   "cell_type": "code",
   "execution_count": null,
   "metadata": {},
   "outputs": [],
   "source": [
    "def create_learner_1b(*args, **kwargs):\n",
    "    return create_learner(*args, **kwargs, gp_w=10., g_norm=NormType.Batch, mid_mlp_depth=2,\n",
    "                          g_skips=True, n_extra_convs_by_c_res_block=0, n_crit_iters=3,\n",
    "                          use_patch_critic=True)"
   ]
  },
  {
   "cell_type": "code",
   "execution_count": null,
   "metadata": {},
   "outputs": [],
   "source": [
    "learn = create_learner_1b()\n",
    "learn.add_cb(SaveCheckpointsCallback('refined_arch_face2anime_tr1b', initial_epoch=1,\n",
    "                                     save_cycle_len=save_cycle_len))\n",
    "ema_g_learn = Learner(dls, learn.ema_model, loss_func=lambda *args: torch.tensor(0.))\n",
    "lr = 2e-4"
   ]
  },
  {
   "cell_type": "code",
   "execution_count": null,
   "metadata": {},
   "outputs": [],
   "source": [
    "learn.fit(100, lr)\n",
    "with learn.removed_cbs([learn.save_checkpoints]) as displayable_learn:\n",
    "    displayable_learn.show_results(ds_idx=0)"
   ]
  },
  {
   "cell_type": "code",
   "execution_count": null,
   "metadata": {},
   "outputs": [],
   "source": [
    "ema_g_learn.show_results(ds_idx=0)"
   ]
  },
  {
   "cell_type": "code",
   "execution_count": null,
   "metadata": {},
   "outputs": [],
   "source": [
    "plot_c_preds(learn.crit_preds_tracker)"
   ]
  },
  {
   "cell_type": "code",
   "execution_count": null,
   "metadata": {},
   "outputs": [],
   "source": [
    "save_preds(learn.crit_preds_tracker, Path('crit_preds_face2anime_refined_tr1b_100ep.csv'))"
   ]
  },
  {
   "cell_type": "markdown",
   "metadata": {},
   "source": [
    "### TR 1c: patch critic, tfms = {Flip, Warp}"
   ]
  },
  {
   "cell_type": "code",
   "execution_count": null,
   "metadata": {},
   "outputs": [],
   "source": [
    "def create_learner_1c(*args, for_inference=False, **kwargs):\n",
    "    extra_tfms = [Flip(p=0.5), Warp(p=0.5)] if not for_inference else []\n",
    "    aug_dblock = get_dblock(extra_batch_tfms=extra_tfms)\n",
    "    aug_dls = aug_dblock.dataloaders(main_path, path=main_path, bs=bs)    \n",
    "    \n",
    "    return create_learner(*args, **kwargs, for_inference=for_inference, dblock=aug_dblock, \n",
    "                          dls=aug_dls, gp_w=10., g_norm=NormType.Batch, mid_mlp_depth=2, \n",
    "                          g_skips=True, n_extra_convs_by_c_res_block=0, n_crit_iters=3,\n",
    "                          use_patch_critic=True)"
   ]
  },
  {
   "cell_type": "code",
   "execution_count": null,
   "metadata": {},
   "outputs": [],
   "source": [
    "learn = create_learner_1c()\n",
    "learn.add_cb(SaveCheckpointsCallback('refined_arch_face2anime_tr1c', initial_epoch=1,\n",
    "                                     save_cycle_len=save_cycle_len))\n",
    "ema_g_learn = Learner(dls, learn.ema_model, loss_func=lambda *args: torch.tensor(0.))\n",
    "lr = 2e-4"
   ]
  },
  {
   "cell_type": "code",
   "execution_count": null,
   "metadata": {},
   "outputs": [],
   "source": [
    "learn.fit(100, lr)\n",
    "with learn.removed_cbs([learn.save_checkpoints]) as displayable_learn:\n",
    "    displayable_learn.show_results(ds_idx=0)"
   ]
  },
  {
   "cell_type": "code",
   "execution_count": null,
   "metadata": {},
   "outputs": [],
   "source": [
    "ema_g_learn.show_results(ds_idx=0)"
   ]
  },
  {
   "cell_type": "code",
   "execution_count": null,
   "metadata": {},
   "outputs": [],
   "source": [
    "plot_c_preds(learn.crit_preds_tracker)"
   ]
  },
  {
   "cell_type": "code",
   "execution_count": null,
   "metadata": {},
   "outputs": [],
   "source": [
    "save_preds(learn.crit_preds_tracker, Path('crit_preds_face2anime_refined_tr1c_100ep.csv'))"
   ]
  },
  {
   "cell_type": "markdown",
   "metadata": {},
   "source": [
    "### TR 1d: patch critic, tfms = {Flip, Warp, Zoom}"
   ]
  },
  {
   "cell_type": "code",
   "execution_count": null,
   "metadata": {},
   "outputs": [],
   "source": [
    "def create_learner_1d(*args, for_inference=False, **kwargs):\n",
    "    extra_tfms = [Flip(p=0.5), Warp(p=0.5), Zoom(p=0.5, max_zoom=1.1)] if not for_inference else []\n",
    "    aug_dblock = get_dblock(extra_batch_tfms=extra_tfms)\n",
    "    aug_dls = aug_dblock.dataloaders(main_path, path=main_path, bs=bs)    \n",
    "    \n",
    "    return create_learner(*args, **kwargs, for_inference=for_inference, dblock=aug_dblock, \n",
    "                          dls=aug_dls, gp_w=10., g_norm=NormType.Batch, mid_mlp_depth=2, \n",
    "                          g_skips=True, n_extra_convs_by_c_res_block=0, n_crit_iters=3,\n",
    "                          use_patch_critic=True)"
   ]
  },
  {
   "cell_type": "code",
   "execution_count": null,
   "metadata": {},
   "outputs": [],
   "source": [
    "learn = create_learner_1d()\n",
    "learn.add_cb(SaveCheckpointsCallback('refined_arch_face2anime_tr1d', initial_epoch=91,\n",
    "                                     save_cycle_len=save_cycle_len))\n",
    "ema_g_learn = Learner(dls, learn.ema_model, loss_func=lambda *args: torch.tensor(0.))\n",
    "lr = 2e-4"
   ]
  },
  {
   "cell_type": "code",
   "execution_count": null,
   "metadata": {},
   "outputs": [],
   "source": [
    "learn.fit(100, lr)\n",
    "with learn.removed_cbs([learn.save_checkpoints]) as displayable_learn:\n",
    "    displayable_learn.show_results(ds_idx=0)"
   ]
  },
  {
   "cell_type": "code",
   "execution_count": null,
   "metadata": {},
   "outputs": [],
   "source": [
    "ema_g_learn.show_results(ds_idx=0)"
   ]
  },
  {
   "cell_type": "code",
   "execution_count": null,
   "metadata": {},
   "outputs": [],
   "source": [
    "plot_c_preds(learn.crit_preds_tracker)"
   ]
  },
  {
   "cell_type": "code",
   "execution_count": null,
   "metadata": {},
   "outputs": [],
   "source": [
    "save_preds(learn.crit_preds_tracker, Path('crit_preds_face2anime_refined_tr1d_100ep.csv'))"
   ]
  },
  {
   "cell_type": "markdown",
   "metadata": {},
   "source": [
    "## TR2 [TR1 + ADA]: NSGAN-R1GP loss, SN+BN critic, IN+SN gen (both encoder and decoder), no mid MLP, ADA"
   ]
  },
  {
   "cell_type": "code",
   "execution_count": null,
   "metadata": {
    "execution": {
     "iopub.execute_input": "2021-06-04T02:44:46.520089Z",
     "iopub.status.busy": "2021-06-04T02:44:46.519737Z",
     "iopub.status.idle": "2021-06-04T02:44:46.715835Z",
     "shell.execute_reply": "2021-06-04T02:44:46.715094Z",
     "shell.execute_reply.started": "2021-06-04T02:44:46.520058Z"
    }
   },
   "outputs": [],
   "source": [
    "def filter_spatial_minus_flip_rot_small(ada_tfms):\n",
    "    return [tfm for tfm in ada_tfms.to_array() \n",
    "            if (isinstance(tfm, (AffineCoordTfm)) and not isinstance(tfm, (Rotate, Flip)))\n",
    "                or tfm == ada_tfms.rotate_90x]\n",
    "\n",
    "aug_dblock = get_dblock(extra_batch_tfms=[Flip(0.5)])\n",
    "aug_dls = aug_dblock.dataloaders(main_path, path=main_path, bs=bs)\n",
    "\n",
    "\n",
    "def create_learner_2(*args, **kwargs):\n",
    "    return create_learner(*args, \n",
    "                          ada_conf=ADAConfig(filter_tfms_to_array=filter_spatial_minus_flip_rot_small, \n",
    "                                             p_change_thresh=0.6), \n",
    "                          dblock=aug_dblock,\n",
    "                          dls=aug_dls,\n",
    "                          gp_w=10., \n",
    "                          g_norm=NormType.Batch, \n",
    "                          mid_mlp_depth=2,\n",
    "                          g_skips=True, \n",
    "                          n_extra_convs_by_c_res_block=1, \n",
    "                          n_crit_iters=3,\n",
    "                          **kwargs)"
   ]
  },
  {
   "cell_type": "markdown",
   "metadata": {},
   "source": [
    "### TR 2a: global critic"
   ]
  },
  {
   "cell_type": "code",
   "execution_count": null,
   "metadata": {
    "execution": {
     "iopub.execute_input": "2021-06-04T02:44:47.634565Z",
     "iopub.status.busy": "2021-06-04T02:44:47.634214Z",
     "iopub.status.idle": "2021-06-04T02:44:48.557208Z",
     "shell.execute_reply": "2021-06-04T02:44:48.556453Z",
     "shell.execute_reply.started": "2021-06-04T02:44:47.634533Z"
    }
   },
   "outputs": [],
   "source": [
    "learn = create_learner_2()\n",
    "learn.add_cb(SaveCheckpointsCallback('refined_arch_face2anime_tr2', initial_epoch=1,\n",
    "                                     save_cycle_len=save_cycle_len))\n",
    "ema_g_learn = Learner(dls, learn.ema_model, loss_func=lambda *args: torch.tensor(0.))\n",
    "lr = 2e-4"
   ]
  },
  {
   "cell_type": "code",
   "execution_count": null,
   "metadata": {
    "execution": {
     "iopub.status.busy": "2021-06-04T02:55:32.555078Z",
     "iopub.status.idle": "2021-06-04T02:55:32.555925Z"
    }
   },
   "outputs": [],
   "source": [
    "learn.fit(100, lr)\n",
    "with learn.removed_cbs([learn.save_checkpoints, learn.loss_store]) as displayable_learn:\n",
    "    displayable_learn.show_results(ds_idx=0)"
   ]
  },
  {
   "cell_type": "code",
   "execution_count": null,
   "metadata": {
    "execution": {
     "iopub.status.busy": "2021-06-04T02:55:32.548756Z",
     "iopub.status.idle": "2021-06-04T02:55:32.549502Z"
    }
   },
   "outputs": [],
   "source": [
    "plot_c_preds(learn.crit_preds_tracker)"
   ]
  },
  {
   "cell_type": "code",
   "execution_count": null,
   "metadata": {
    "execution": {
     "iopub.status.busy": "2021-06-04T02:55:32.550843Z",
     "iopub.status.idle": "2021-06-04T02:55:32.55166Z"
    }
   },
   "outputs": [],
   "source": [
    "sns.lineplot(x=range(len(learn.adaptive_augments.p_history)), y=learn.adaptive_augments.p_history)"
   ]
  },
  {
   "cell_type": "code",
   "execution_count": null,
   "metadata": {},
   "outputs": [],
   "source": [
    "save_preds(learn.crit_preds_tracker, Path('crit_preds_face2anime_refined_tr2_100ep.csv'))\n",
    "!echo {learn.adaptive_augments.p_history} > p_history_face2anime_refined_tr2_100ep.txt"
   ]
  },
  {
   "cell_type": "markdown",
   "metadata": {},
   "source": [
    "### TR 2b: patch critic"
   ]
  },
  {
   "cell_type": "code",
   "execution_count": null,
   "metadata": {},
   "outputs": [],
   "source": [
    "def create_learner_2b(*args, **kwargs):\n",
    "    return create_learner(*args, \n",
    "                          ada_conf=ADAConfig(filter_tfms_to_array=filter_spatial_minus_flip_rot_small, \n",
    "                                             p_change_thresh=0.8), \n",
    "                          dblock=aug_dblock,\n",
    "                          dls=aug_dls,\n",
    "                          gp_w=10., \n",
    "                          g_norm=NormType.Batch, \n",
    "                          mid_mlp_depth=2,\n",
    "                          g_skips=True, \n",
    "                          n_extra_convs_by_c_res_block=0, \n",
    "                          n_crit_iters=3,\n",
    "                          use_patch_critic=True,\n",
    "                          **kwargs)"
   ]
  },
  {
   "cell_type": "code",
   "execution_count": null,
   "metadata": {},
   "outputs": [],
   "source": [
    "learn = create_learner_2b()\n",
    "learn.add_cb(SaveCheckpointsCallback('refined_arch_face2anime_tr2b', initial_epoch=1,\n",
    "                                     save_cycle_len=save_cycle_len))\n",
    "ema_g_learn = Learner(dls, learn.ema_model, loss_func=lambda *args: torch.tensor(0.))\n",
    "lr = 2e-4"
   ]
  },
  {
   "cell_type": "code",
   "execution_count": null,
   "metadata": {},
   "outputs": [],
   "source": [
    "learn.fit(100, lr)\n",
    "with learn.removed_cbs([learn.save_checkpoints, learn.loss_store]) as displayable_learn:\n",
    "    displayable_learn.show_results(ds_idx=0)"
   ]
  },
  {
   "cell_type": "code",
   "execution_count": null,
   "metadata": {},
   "outputs": [],
   "source": [
    "plot_c_preds(learn.crit_preds_tracker)"
   ]
  },
  {
   "cell_type": "code",
   "execution_count": null,
   "metadata": {},
   "outputs": [],
   "source": [
    "sns.lineplot(x=range(len(learn.adaptive_augments.p_history)), y=learn.adaptive_augments.p_history)"
   ]
  },
  {
   "cell_type": "code",
   "execution_count": null,
   "metadata": {},
   "outputs": [],
   "source": [
    "save_preds(learn.crit_preds_tracker, Path('crit_preds_face2anime_refined_tr2b_100ep.csv'))\n",
    "!echo {learn.adaptive_augments.p_history} > p_history_face2anime_refined_tr2b_100ep.txt"
   ]
  },
  {
   "cell_type": "markdown",
   "metadata": {},
   "source": [
    "### TR 2c: patch critic, regular tfms = {Flip, Warp, Zoom}"
   ]
  },
  {
   "cell_type": "code",
   "execution_count": null,
   "metadata": {},
   "outputs": [],
   "source": [
    "def filter_spatial_minus_flip_rot_small_warp_zoom(ada_tfms):\n",
    "    return [tfm for tfm in ada_tfms.to_array() \n",
    "            if (isinstance(tfm, (AffineCoordTfm)) and not isinstance(tfm, (Rotate, Flip, Warp, Zoom)))\n",
    "                or tfm == ada_tfms.rotate_90x]\n",
    "\n",
    "def create_learner_2c(*args, for_inference=False, **kwargs):\n",
    "    extra_tfms = [Flip(p=0.5), Warp(p=0.5), Zoom(p=0.5, max_zoom=1.1)] if not for_inference else []\n",
    "    aug_dblock = get_dblock(extra_batch_tfms=extra_tfms)\n",
    "    aug_dls = aug_dblock.dataloaders(main_path, path=main_path, bs=bs)\n",
    "    \n",
    "    return create_learner(*args, \n",
    "                          for_inference=for_inference,\n",
    "                          ada_conf=ADAConfig(filter_tfms_to_array=filter_spatial_minus_flip_rot_small_warp_zoom, \n",
    "                                             p_change_thresh=0.8), \n",
    "                          dblock=aug_dblock,\n",
    "                          dls=aug_dls,\n",
    "                          gp_w=10., \n",
    "                          g_norm=NormType.Batch, \n",
    "                          mid_mlp_depth=2,\n",
    "                          g_skips=True, \n",
    "                          n_extra_convs_by_c_res_block=1, \n",
    "                          n_crit_iters=3,\n",
    "                          use_patch_critic=True,\n",
    "                          **kwargs)"
   ]
  },
  {
   "cell_type": "code",
   "execution_count": null,
   "metadata": {},
   "outputs": [],
   "source": [
    "learn = create_learner_2c()\n",
    "learn.add_cb(SaveCheckpointsCallback('refined_arch_face2anime_tr2c', initial_epoch=1,\n",
    "                                     save_cycle_len=save_cycle_len))\n",
    "ema_g_learn = Learner(dls, learn.ema_model, loss_func=lambda *args: torch.tensor(0.))\n",
    "lr = 2e-4"
   ]
  },
  {
   "cell_type": "code",
   "execution_count": null,
   "metadata": {},
   "outputs": [],
   "source": [
    "learn.fit(100, lr)\n",
    "with learn.removed_cbs([learn.save_checkpoints]) as displayable_learn:\n",
    "    displayable_learn.show_results(ds_idx=0)"
   ]
  },
  {
   "cell_type": "code",
   "execution_count": null,
   "metadata": {},
   "outputs": [],
   "source": [
    "ema_g_learn.show_results(ds_idx=0)"
   ]
  },
  {
   "cell_type": "code",
   "execution_count": null,
   "metadata": {},
   "outputs": [],
   "source": [
    "plot_c_preds(learn.crit_preds_tracker)"
   ]
  },
  {
   "cell_type": "code",
   "execution_count": null,
   "metadata": {},
   "outputs": [],
   "source": [
    "sns.lineplot(x=range(len(learn.adaptive_augments.p_history)), \n",
    "             y=learn.adaptive_augments.p_history)"
   ]
  },
  {
   "cell_type": "code",
   "execution_count": null,
   "metadata": {},
   "outputs": [],
   "source": [
    "save_preds(learn.crit_preds_tracker, \n",
    "           Path('crit_preds_face2anime_refined_tr2c_100ep.csv'))\n",
    "!echo {learn.adaptive_augments.p_history} > p_history_face2anime_refined_tr2c_100ep.txt"
   ]
  },
  {
   "cell_type": "markdown",
   "metadata": {},
   "source": [
    "# Evaluation results"
   ]
  },
  {
   "cell_type": "code",
   "execution_count": 6,
   "metadata": {},
   "outputs": [],
   "source": [
    "def fids_arr_to_dict(fids_arr, initial_ep=save_cycle_len, n_ep_by_fid=save_cycle_len):\n",
    "    end_ep = initial_ep + n_ep_by_fid*len(fids_arr)\n",
    "    return {ep: fid for fid, ep in zip(fids_arr, range(initial_ep, end_ep, n_ep_by_fid))}\n",
    "\n",
    "\n",
    "def plot_fids_vs_epochs(fids_dict, **lineplot_kwargs):\n",
    "    x = fids_dict.keys()\n",
    "    y = fids_dict.values()\n",
    "    ax = sns.lineplot(x=x, y=y, **lineplot_kwargs)\n",
    "    ax.set_xlabel('Number of epochs')\n",
    "    ax.set_ylabel('FID')\n",
    "    return ax"
   ]
  },
  {
   "cell_type": "code",
   "execution_count": 7,
   "metadata": {},
   "outputs": [],
   "source": [
    "fids_baseline = [321.7, 335.1, 320.4, 277.0, 263.2, 229.9, 231.0, 197.4, 174.8, 185.9, \n",
    "                 175.2, 173.1, 151.1, 158.8, 164.3, 169.1, 171.0, 152.4, 162.4, 163.1]\n",
    "fids_baseline_dict = fids_arr_to_dict(fids_baseline)\n",
    "fids_sigmoid_after_enc = [328.9, 314.5, 305.8, 292.9, 283.9, 227.0, 212.3, 192.6, 200.2, 200.0, \n",
    "                          200.9, 197.3, 215.6, 212.1, 176.6, 213.4, 187.0, 196.5, 186.2, 201.0]\n",
    "fids_sigmoid_after_enc_dict = fids_arr_to_dict(fids_sigmoid_after_enc)\n",
    "fids_gpw100 = [336.9, 333.9, 310.4, 304.8, 327.3, 263.4, 256.1, 234.6, 202.0, 207.0, \n",
    "               178.7, 171.3, 175.0, 178.4, 169.5, 167.2, 161.7, 165.0, 142.4, 151.4]\n",
    "fids_gpw100_dict = fids_arr_to_dict(fids_gpw100)\n",
    "fids_gpw10 = [313.5, 319.7, 299.9, 282.2, 266.6, 213.6, 223.1, 233.0, 224.4, 198.0, \n",
    "              188.2, 179.5, 191.6, 190.4, 174.9, 157.2, 154.3, 160.8, 146.2, 146.1]\n",
    "fids_gpw10_dict = fids_arr_to_dict(fids_gpw10)\n",
    "# FIDS deeper critic (n_extra_convs_by_block=1)\n",
    "fids_deep_c = [326.2, 296.7, 315.4, 300.4, 295.2, 277.3, 261.4, 227.5, 209.3, 193.3, \n",
    "               169.4, 186.7, 168.3, 164.8, 162.0, 149.2, 152.7, 135.7, 131.4, 133.8]\n",
    "fids_deep_c_dict = fids_arr_to_dict(fids_deep_c)\n",
    "fids_bs32 = [333.4, 324.4, 283.2, 235.8, 193.7, 209.3, 177.6, 168.6, 172.4, 156.6, \n",
    "             171.7, 179.6, 155.8, 189.0, 185.3, 201.1, 173.0, 191.7, 192.5, 185.2]\n",
    "fids_bs32_dict = fids_arr_to_dict(fids_bs32)\n",
    "# FIDS BN instead of IN\n",
    "fids_bn = [283.7, 258.6, 228.2, 205.5, 160.5, 150.0, 147.6, 130.5, 142.2, 142.5, \n",
    "           141.3, 126.2, 121.5, 124.4, 121.4, 142.7, 135.2, 136.9, 122.4, 131.7]\n",
    "fids_bn_dict = fids_arr_to_dict(fids_bn)\n",
    "# FIDS with mlp of depth 2 w/o SN\n",
    "fids_mlp2 = [286.1, 253.2, 242.0, 219.0, 200.7, 189.7, 195.2, 150.5, 157.7, 161.7, \n",
    "             163.9, 149.7, 140.9, 147.2, 132.8, 130.7, 116.4, 132.0, 137.2, 134.4]\n",
    "fids_mlp2_dict = fids_arr_to_dict(fids_mlp2)\n",
    "# FIDS with mlp of depth 2 with SN\n",
    "fids_mlp2_sn = [294.6, 246.7, 242.7, 192.3, 190.0, 149.9, 159.9, 174.8, 151.7, 147.0, \n",
    "                154.2, 143.6, 140.6, 130.6, 140.6, 138.5, 126.4, 131.5, 141.5, 146.1]\n",
    "fids_mlp2_sn_dict = fids_arr_to_dict(fids_mlp2_sn)\n",
    "# FIDS with mlp of depth 4 w/o SN\n",
    "fids_mlp4 = [289.6, 251.8, 267.0, 221.5, 171.9, 185.6, 161.9, 166.1, 166.8, 169.0, \n",
    "             145.5, 142.1, 131.8, 145.6, 138.4, 149.9, 139.0, 152.9, 145.6, 140.6]\n",
    "fids_mlp4_dict = fids_arr_to_dict(fids_mlp4)\n",
    "# FIDS with 3crit/gen iters\n",
    "fids_3c_iters = [322.5, 301.7, 297.8, 285.5, 281.1, 214.0, 215.6, 205.3, 191.7, 152.6, \n",
    "                 162.3, 162.3, 159.0, 170.4, 143.1, 139.6, 159.1, 138.6, 140.9, 143.8]\n",
    "fids_3c_iters_dict = fids_arr_to_dict(fids_3c_iters)\n",
    "# FIDS with 5 crit/gen iters\n",
    "fids_5c_iters = [313.2, 312.1, 297.5, 297.6, 285.6, 242.3, 223.2, 194.3, 202.0, 186.4, \n",
    "                 165.4, 155.8, 170.0, 174.0, 159.1, 167.5, 146.2, 153.8, 131.2, 133.5]\n",
    "fids_5c_iters_dict = fids_arr_to_dict(fids_5c_iters)\n",
    "# FIDS with all good tweaks (tr 1a)\n",
    "fids_tr1_combotweaks = [226.9, 198.4, 169.2, 118.3, 93.2, 77.9, 74.0, 65.9, 57.8, 57.4, \n",
    "                        47.8, 60.6, 52.6, 49.4, 47.0, 45.7, 45.8, 48.5, 51.2, 46.4]\n",
    "fids_tr1_combotweaks_dict = fids_arr_to_dict(fids_tr1_combotweaks)\n",
    "fids_tr1_combotweaks_ema_dict = {1: 250, 100: 41.4}\n",
    "fids_tr1_combotweaks_recloss = [236.1, 218.8, 152.4, 126.7, 94.0, 88.6, 86.9, 71.9, 68.2, 75.0, \n",
    "                                85.9, 87.1, 90.1, 94.7, 99.5, 84.3, 72.8, 71.1, 111.1, 88.9]\n",
    "fids_tr1_combotweaks_recloss_dict = fids_arr_to_dict(fids_tr1_combotweaks_recloss)\n",
    "fids_tr1_combotweaks_recloss_ema_dict = {60: 63.2, 80: 48.2, 100: 42.1}\n",
    "fids_tr1_combotweaks_contloss = [226.5, 164.8, 162.4, 116.6, 104.1, 90.9, 83.1, 67.6, 75.3, 65.0, \n",
    "                                 59.1, 52.4]\n",
    "fids_tr1_combotweaks_contloss_dict = fids_arr_to_dict(fids_tr1_combotweaks_contloss)\n",
    "fids_tr1_combotweaks_contloss_ema_dict = {60: 69.2, 100: 42.6}\n",
    "# Without pooling layers in encoder\n",
    "fids_tr1_combotweaks_noencpool = [249.8, 206.1, 169.3, 120.9, 86.1, 78.9, 83.2, 67.7, 57.1, 56.3, \n",
    "                                  54.8, 47.5, 48.0, 49.6, 42.9, 41.1, 41.8, 44.0, 42.8, 44.3]\n",
    "fids_tr1_combotweaks_noencpool_dict = fids_arr_to_dict(fids_tr1_combotweaks_noencpool)\n",
    "fids_tr1_combotweaks_noencpool_ema_dict = {60: 65.0, 80: 43.5, 100: 38.7}\n",
    "fids_tr1_combotweaks_skips = [182.4, 164.4, 132.1, 94.3, 74.3, 59.0, 61.8, 56.3, 57.2, 48.5, \n",
    "                              46.2, 46.9, 45.1, 44.8, 44.2, 42.7, 44.9, 49.5, 43.4, 39.2]\n",
    "fids_tr1_combotweaks_skips_dict = fids_arr_to_dict(fids_tr1_combotweaks_skips)\n",
    "fids_tr1_combotweaks_skips_ema_dict = {60: 48.7, 100: 31.6}\n",
    "\n",
    "fids_tr1b = [196.8, 181.6, 161.9, 109.9, 79.1, 60.3, 54.3, 50.8, 46.5, 38.9, \n",
    "             44.4, 42.7, 34.3, 34.3, 29.3, 39.1, 31.5, 30.6, 30.7, 28.6,\n",
    "             24.5, 28.0, 28.4, 26.2, 26.3, 24.7, 27.5, 27.7, 27.7, 29.2, \n",
    "             26.3, 24.9, 25.3, 22.0, 25.2, 23.5, 22.9, 25.1, 25.9, 23.8]\n",
    "fids_tr1b_dict = fids_arr_to_dict(fids_tr1b)\n",
    "fids_tr1b_ema_dict = {60: 59.7, 70: 48.0, 80: 39.4, 90: 35.9, 100: 30.9, 110: 25.7, \n",
    "                      120: 24.4, 130: 24.4, 140: 23.0, 150: 22.2, 160: 20.8, 170: 20.1, \n",
    "                      180: 20.4, 190: 19.1, 200: 19.2}\n",
    "fids_tr1b_inn = [227.9, 238.4, 218.8, 169.9, 162.7, 127.4, 104.4, 121.7, 87.2, 78.3, \n",
    "                 94.1, 83.1, 78.4, 69.5, 70.1, 72.4, 73.6, 70.2, 61.2, 59.6,\n",
    "                 55.9, 55.1, 53.8, 58.2, 46.9, 49.3, 48.3, 44.8, 45.6, 52.8]\n",
    "fids_tr1b_inn_dict = fids_arr_to_dict(fids_tr1b_inn)\n",
    "fids_tr1b_inn_ema = {70: 113.2, 80: 91.3, 90: 80.4, 100: 76.4, 110: 70.6, 120: 60.9, \n",
    "                     130: 51.8, 140: 50.4, 150: 49.6}\n",
    "fids_tr1b_inn_mlpsnnobn = [244.3, 243.9, 206.0, 172.2, 161.1, 146.3, 122.6, 107.5, 97.5, 95.6, \n",
    "                           92.9, 81.1, 71.5, 73.7, 67.6, 60.1, 61.8, 48.8, 52.5, 53.1,\n",
    "                           53.7, 43.7, 44.0, 43.8, 43.8, 45.5, 43.6, 41.5, 33.6, 42.3]\n",
    "fids_tr1b_inn_mlpsnnobn_dict = fids_arr_to_dict(fids_tr1b_inn_mlpsnnobn)\n",
    "fids_tr1b_inn_mlpsnnobn_ema_dict = {70: 106.7, 80: 80.4, 90: 67.6, 100: 60.1, 110: 51.3, \n",
    "                                    120: 45.4, 130: 41.1, 140: 40.4, 150: 38.4}\n",
    "# Epochs 65-130\n",
    "fids_tr1b_inn_patchCOut16 = [122.9, 109.9, 120.7, 112.4, 115.1, 113.9, 108.9, 96.2,\n",
    "                             98.3, 97.6, 94.7, 91.1, 86.5, 84.5]\n",
    "fids_tr1b_inn_patchCOut16_dict = fids_arr_to_dict(fids_tr1b_inn_patchCOut16, 65)\n",
    "fids_tr1b_inn_patchCOut16_ema_dict = {100: 142.5, 110: 139.2, 120: 128.5, 130: 109.7, 140: 104.7}\n",
    "\n",
    "# (ep 85-150), arch is like normal tr1b adding input to output and then Conv-Relu-IN-Tanh\n",
    "fids_tr1b_allskips = [74.6, 78.8, 75.2, 72.3, 69.0, 67.0, 65.8, 68.3, 74.5, 57.8, 59.4, 61.9, 56.1, 56.2]\n",
    "fids_tr1b_allskips_dict = fids_arr_to_dict(fids_tr1b_allskips, 85)\n",
    "fids_tr1b_allskips_ema_dict = {100: 92.5, 120: 74.5, 140: 67.7, 150: 64.5}\n",
    "# (ep 65-150), arch is like normal tr1b adding input to output and then Conv-Relu-IN-Conv-Tanh\n",
    "fids_tr1b_allskips_b = [74.5, 82.5, 67.2, 70.8, 69.7, 69.3, 65.3, 62.2, \n",
    "                        62.3, 57.1, 63.6, 60.3, 56.0, 58.6, 54.4, 52.1, 53.8, 52.7]\n",
    "fids_tr1b_allskips_b_dict = fids_arr_to_dict(fids_tr1b_allskips_b, 65)\n",
    "fids_tr1b_allskips_b_ema_dict = {150: 67.9}\n",
    "\n",
    "fids_tr1c = [192.3, 181.7, 165.8, 101.4, 82.7, 70.7, 59.3, 58.8, 44.3, 51.6, \n",
    "             44.6, 37.0, 34.5, 32.3, 31.1, 30.4, 32.0, 30.2, 31.4, 28.9,\n",
    "             28.0, 28.6, 30.0, 28.2, 27.1, 31.1, 31.3, 28.5, 32.8, 26.1]\n",
    "fids_tr1c_dict = fids_arr_to_dict(fids_tr1c)\n",
    "# FIDs are similar to 1b_ema but the similarity with inputs is bigger here\n",
    "fids_tr1c_ema_dict = {60: 46.8, 70: 37.5, 80: 32.4, 90: 30.2, 100: 28.0, 110: 25.5, 120: 24.2, \n",
    "                      130: 22.1, 140: 21.7, 150: 22.1}\n",
    "\n",
    "fids_tr1d = [201.6, 182.8, 152.8, 125.2, 93.5, 82.2, 83.0, 67.0, 57.0, 51.5, \n",
    "             58.4, 46.2, 40.9, 42.8, 44.8, 45.9, 39.2, 35.3, 43.1, 44.9,\n",
    "             31.2, 39.8, 37.4, 33.4, 36.2, 41.7, 32.9, 34.7, 29.1, 30.0, \n",
    "             31.3, 33.8, 31.9, 34.7, 35.8, 27.3]\n",
    "fids_tr1d_dict = fids_arr_to_dict(fids_tr1d)\n",
    "fids_tr1d_ema_dict = {60: 63.6, 70: 51.8, 80: 43.2, 90: 38.2, 100: 35.4, 110: 31.9, 120: 29.3, \n",
    "                      130: 27.1, 140: 25.2, 150: 24.8, 160: 23.8, 170: 22.8, 180: 23.2}\n",
    "\n",
    "fids_tr2 = [178.3, 169.4, 117.2, 91.8, 77.6, 57.4, 53.6, 52.8, 54.5, 50.7, \n",
    "            51.5, 45.3, 47.4, 43.3, 42.2, 40.6, 36.5, 41.0, 34.2, 37.7,\n",
    "            38.4, 41.2, 36.7, 34.9, 42.3, 45.5, 38.2, 42.2, 42.8, 48.5, \n",
    "            50.7, 33.6, 35.8, 36.8, 39.6, 46.3, 48.0, 44.0, 37.1, 41.0]\n",
    "fids_tr2_dict = fids_arr_to_dict(fids_tr2)\n",
    "fids_tr2_ema_dict = {40: 86.7, 100: 34.1, 140: 29.6, 160: 30.6, 180: 32.5, 200: 30.6}\n",
    "fids_tr2_rt08 = [228.6, 151.1, 104.6, 85.2, 74.7, 62.1, 67.8, 50.3, 44.3, 46.9, \n",
    "                 41.8, 44.3, 39.5, 34.6, 37.0, 34.3, 36.3, 35.2, 31.2, 32.2,\n",
    "                 33.3, 37.4, 32.5, 31.3, 30.2, 33.9, 30.4, 32.7, 28.9, 33.7, \n",
    "                 45.5, 40.0, 48.5, 37.5, 38.7, 43.5, 38.9, 41.4, 35.1, 41.1]\n",
    "fids_tr2_rt08_dict = fids_arr_to_dict(fids_tr2_rt08)\n",
    "# Epoch 60 is actually 49.6; 80: 34.0; 100: 29.6; 120: 25.9; 140: 24.5; 160: 25.6; 180: 28.2; 200: 29.3\n",
    "fids_tr2_rt08_ema_dict = {60: 49.6, 80: 34.0, 100: 29.6, 120: 25.9, 140: 24.5, 160: 25.6, 180: 28.2, 200: 29.3}\n",
    "\n",
    "fids_tr2b = [228.5, 193.0, 150.7, 107.1, 91.1, 59.8, 49.5, 44.6, 38.9, 37.6, \n",
    "             32.0, 30.6, 34.3, 31.5, 28.5, 26.0, 26.8, 29.8, 25.5, 25.2,\n",
    "             25.8, 26.7, 33.3, 24.5, 24.2, 24.5, 22.0, 22.8, 26.5, 27.2]\n",
    "fids_tr2b_dict = fids_arr_to_dict(fids_tr2b)\n",
    "fids_tr2b_ema_dict = {60: 50.3, 80: 30.3, 90: 25.8, 100: 24.5, 110: 22.9, 120: 22.3, 130: 20.5, \n",
    "                      140: 20.5, 150: 20.4}\n",
    "\n",
    "fids_tr2c = [219.5, 175.6, 163.5, 154.7, 135.4, 140.1, 105.8, 107.4, 85.5, 77.7, \n",
    "             89.0, 66.7, 66.9, 54.3, 70.0, 64.7, 63.4, 66.0, 59.9, 54.9,\n",
    "             51.5, 49.9, 51.9, 49.6, 49.5, 39.3, 49.4, 45.4, 45.7, 44.7]\n",
    "fids_tr2c_dict = fids_arr_to_dict(fids_tr2c)\n",
    "fids_tr2c_ema_dict = {60: 89.6, 80: 65.5, 100: 52.5, 120: 45.4, 130: 41.8, 140: 37.8, 150: 37.5}\n",
    "fids_tr2c_rt08 = [196.4, 188.4, 150.3, 113.2, 93.3, 75.7, 64.6, 56.9, 53.5, 50.1, \n",
    "                  51.1, 52.5, 48.0, 40.5, 37.6, 35.6, 36.7, 39.6, 32.1, 31.5,\n",
    "                  39.2, 34.4, 31.5, 30.3, 35.1, 28.1, 37.2, 32.4, 36.7, 30.4, \n",
    "                  26.8, 31.0, 33.1, 32.6, 30.2, 29.0, 25.8, 29.5, 30.6, 30.2,\n",
    "                  28.9, 28.9, 30.9, 25.1, 24.5, 30.6, 28.9, 32.4, 27.3, 24.0, \n",
    "                  25.7, 26.5, 28.7, 30.3, 27.3, 22.9, 27.4, 28.5, 25.1, 25.0,\n",
    "                  24.6, 26.6, 30.2, 28.0, 26.4, 27.0, 25.9, 28.7, 30.6, 24.3, \n",
    "                  21.9, 26.3, 25.4, 30.3, 22.5, 24.2, 27.3, 32.6, 26.2, 25.9,\n",
    "                  24.0, 36.5]\n",
    "fids_tr2c_rt08_dict = fids_arr_to_dict(fids_tr2c_rt08)\n",
    "fids_tr2c_rt08_ema_dict = {60: 57.4, 80: 36.5, 100: 27.1, 110: 24.5, 120: 22.9, 130: 22.0, \n",
    "                           140: 20.4, 150: 20.1, 160: 20.7, 170: 20.9, 180: 21.1, 190: 20.1, 200: 20.3, \n",
    "                           210: 19.8, 220: 19.9, 230: 19.3, 240: 19.5, 250: 18.4, 260: 18.7, 270: 18.3, \n",
    "                           280: 18.7, 290: 17.6, 300: 17.6, 310: 18.2, 320: 18.1, 330: 18.6, 340: 18.3, \n",
    "                           350: 18.2, 360: 18.2, 370: 18.2, 380: 17.5, 390: 18.0, 400: 18.1, 410: 18.2}"
   ]
  },
  {
   "cell_type": "markdown",
   "metadata": {},
   "source": [
    "A baseline which used the default parameters of `create_learner` was initially trained, obtaining poor results. Some tweaks were tested with the following results:"
   ]
  },
  {
   "cell_type": "code",
   "execution_count": 8,
   "metadata": {},
   "outputs": [
    {
     "data": {
      "image/png": "[encoded data removed]",
      "text/plain": [
       "<Figure size 432x288 with 1 Axes>"
      ]
     },
     "metadata": {
      "needs_background": "light"
     },
     "output_type": "display_data"
    }
   ],
   "source": [
    "plot_fids_vs_epochs(fids_baseline_dict, label='Baseline')\n",
    "plot_fids_vs_epochs(fids_sigmoid_after_enc_dict, label='with sigmoid after encoder')\n",
    "plot_fids_vs_epochs(fids_gpw100_dict, label='with gp w = 100')\n",
    "plot_fids_vs_epochs(fids_gpw10_dict, label='with gp w = 10')\n",
    "plot_fids_vs_epochs(fids_deep_c_dict, label='with 1 extra conv by C res blocks')\n",
    "plot_fids_vs_epochs(fids_bs32_dict, label='with bs = 32')\n",
    "plot_fids_vs_epochs(fids_bn_dict, label='with BN instead of IN')\n",
    "plot_fids_vs_epochs(fids_mlp2_dict, label='with MLP of depth 2 w/o SN')\n",
    "plot_fids_vs_epochs(fids_mlp2_sn_dict, label='with MLP of depth 2 with SN')\n",
    "plot_fids_vs_epochs(fids_mlp4_dict, label='with MLP of depth 4 w/o SN')\n",
    "plot_fids_vs_epochs(fids_3c_iters_dict, label='with 3 crit/gen iterations')\n",
    "ax = plot_fids_vs_epochs(fids_5c_iters_dict, label='with 5 crit/gen iterations')\n",
    "_ = ax.legend(loc='upper left', bbox_to_anchor=(1., 1.), ncol=1)"
   ]
  },
  {
   "cell_type": "markdown",
   "metadata": {},
   "source": [
    "The baseline improved with all the working tweaks corresponds to **TR 1a**."
   ]
  },
  {
   "cell_type": "code",
   "execution_count": 9,
   "metadata": {},
   "outputs": [
    {
     "data": {
      "image/png": "[encoded data removed]",
      "text/plain": [
       "<Figure size 432x288 with 1 Axes>"
      ]
     },
     "metadata": {
      "needs_background": "light"
     },
     "output_type": "display_data"
    }
   ],
   "source": [
    "plot_fids_vs_epochs(fids_baseline_dict, label='Baseline')\n",
    "_ = plot_fids_vs_epochs(fids_tr1_combotweaks_dict, label='with all working tweaks (tr 1a)')"
   ]
  },
  {
   "cell_type": "markdown",
   "metadata": {},
   "source": [
    "Some more tweaks were tested by adding them to tr 1a:\n",
    "\n",
    "* Skip connections provide a significant improvement. \n",
    "* Dropping pooling layers from encoder seems more or less neutral but it could help to preserve global features."
   ]
  },
  {
   "cell_type": "code",
   "execution_count": 10,
   "metadata": {},
   "outputs": [
    {
     "data": {
      "image/png": "[encoded data removed]",
      "text/plain": [
       "<Figure size 432x288 with 1 Axes>"
      ]
     },
     "metadata": {
      "needs_background": "light"
     },
     "output_type": "display_data"
    }
   ],
   "source": [
    "plot_fids_vs_epochs(fids_tr1_combotweaks_dict, label='Tr 1a')\n",
    "plot_fids_vs_epochs(fids_tr1_combotweaks_recloss_dict, \n",
    "                    label='with reconstruction loss')\n",
    "plot_fids_vs_epochs(fids_tr1_combotweaks_contloss_dict, \n",
    "                    label='with content loss')\n",
    "plot_fids_vs_epochs(fids_tr1_combotweaks_noencpool_dict, \n",
    "                    label='w/o pooling layers in encoder')\n",
    "ax = plot_fids_vs_epochs(fids_tr1_combotweaks_skips_dict, \n",
    "                         label='with skip connections')\n",
    "\n",
    "#plot_fids_vs_epochs(fids_tr1_combotweaks_ema_dict, label='Tr 1a, EMA')\n",
    "# plot_fids_vs_epochs(fids_tr1_combotweaks_recloss_ema_dict, \n",
    "#                     label='with reconstruction loss, EMA')\n",
    "# plot_fids_vs_epochs(fids_tr1_combotweaks_contloss_ema_dict, \n",
    "#                     label='with content loss, EMA')\n",
    "# plot_fids_vs_epochs(fids_tr1_combotweaks_noencpool_ema_dict, \n",
    "#                     label='w/o pooling layers in encoder')\n",
    "# ax = plot_fids_vs_epochs(fids_tr1_combotweaks_skips_ema_dict, \n",
    "#                          label='with skip connections')\n",
    "# ax.legend(loc='upper left', bbox_to_anchor=(1., 1.), ncol=1)"
   ]
  },
  {
   "cell_type": "markdown",
   "metadata": {},
   "source": [
    "A patch critic shows huge benefits too:"
   ]
  },
  {
   "cell_type": "code",
   "execution_count": 11,
   "metadata": {},
   "outputs": [
    {
     "data": {
      "image/png": "[encoded data removed]",
      "text/plain": [
       "<Figure size 432x288 with 1 Axes>"
      ]
     },
     "metadata": {
      "needs_background": "light"
     },
     "output_type": "display_data"
    }
   ],
   "source": [
    "plot_fids_vs_epochs(fids_tr1_combotweaks_skips_dict, \n",
    "                    label='global critic (tr1a with skips)')\n",
    "_ = plot_fids_vs_epochs(fids_tr1b_dict, \n",
    "                        label='patch critic (tr1b)')"
   ]
  },
  {
   "cell_type": "markdown",
   "metadata": {},
   "source": [
    "Instance norm was also tested with little success. The reason may be the excessive difference between the datasets and the lack of diversity of the anime dataset. The results of these and other tweaks tested over model 1b are shown below:"
   ]
  },
  {
   "cell_type": "code",
   "execution_count": 12,
   "metadata": {},
   "outputs": [
    {
     "data": {
      "image/png": "[encoded data removed]",
      "text/plain": [
       "<Figure size 432x288 with 1 Axes>"
      ]
     },
     "metadata": {
      "needs_background": "light"
     },
     "output_type": "display_data"
    }
   ],
   "source": [
    "plot_fids_vs_epochs(fids_tr1b_dict, label='tr1b')\n",
    "plot_fids_vs_epochs(fids_tr1b_inn_mlpsnnobn_dict, label='with IN')\n",
    "plot_fids_vs_epochs(fids_tr1b_inn_patchCOut16_dict, \n",
    "                    label='with IN, shallow critic (more patches)')\n",
    "plot_fids_vs_epochs(fids_tr1b_allskips_dict, \n",
    "                    label='with a skip connection from input too')\n",
    "_ = plot_fids_vs_epochs(fids_tr1b_allskips_b_dict, \n",
    "                        label='with a skip connection from input too, more layers after')"
   ]
  },
  {
   "cell_type": "markdown",
   "metadata": {},
   "source": [
    "To alleviate the lack of diversity issue and help the optimizer find a better correspondence, some dataset transforms were performed. ADA was also used (tr 2x) to increase the potential of training given the small size of the target dataset."
   ]
  },
  {
   "cell_type": "code",
   "execution_count": 13,
   "metadata": {},
   "outputs": [
    {
     "data": {
      "image/png": "[encoded data removed]",
      "text/plain": [
       "<Figure size 432x288 with 1 Axes>"
      ]
     },
     "metadata": {
      "needs_background": "light"
     },
     "output_type": "display_data"
    }
   ],
   "source": [
    "plot_fids_vs_epochs(fids_tr1_combotweaks_skips_dict, \n",
    "                    label='baseline (tr1a with G skips)')\n",
    "plot_fids_vs_epochs(fids_tr2_dict, label='with ADA, rt=0.6')\n",
    "plot_fids_vs_epochs(fids_tr2_rt08_dict, label='with ADA, rt=0.8')\n",
    "plot_fids_vs_epochs(fids_tr2_ema_dict, label='with ADA, rt=0.6, EMA')\n",
    "ax = plot_fids_vs_epochs(fids_tr2_rt08_ema_dict, label='with ADA, rt=0.8, EMA')\n",
    "ax.set_ybound(10, 100)"
   ]
  },
  {
   "cell_type": "code",
   "execution_count": 14,
   "metadata": {},
   "outputs": [
    {
     "data": {
      "image/png": "[encoded data removed]",
      "text/plain": [
       "<Figure size 432x288 with 1 Axes>"
      ]
     },
     "metadata": {
      "needs_background": "light"
     },
     "output_type": "display_data"
    }
   ],
   "source": [
    "plot_fids_vs_epochs(fids_tr1b_dict, label='baseline (tr1b)')\n",
    "plot_fids_vs_epochs(fids_tr1c_dict, label='with {Flip, Warp} as ds tfms')\n",
    "plot_fids_vs_epochs(fids_tr1d_dict, label='with {Flip, Warp, Zoom} as ds tfms')\n",
    "#plot_fids_vs_epochs(fids_tr2_dict, label='with ADA, rt=0.6')\n",
    "#plot_fids_vs_epochs(fids_tr2_rt08_dict, label='with ADA, rt=0.8')\n",
    "plot_fids_vs_epochs(fids_tr2b_dict, label='with ADA (rt=0.8)')\n",
    "plot_fids_vs_epochs(fids_tr2c_dict, label='with ADA (rt=0.6), {Flip, Warp, Zoom} as ds tfms')\n",
    "ax = plot_fids_vs_epochs(fids_tr2c_rt08_dict, \n",
    "                         label='with ADA (rt=0.8), {Flip, Warp, Zoom} as ds tfms')\n",
    "ax.set_ybound(10, 100)"
   ]
  },
  {
   "cell_type": "code",
   "execution_count": 16,
   "metadata": {},
   "outputs": [
    {
     "data": {
      "image/png": "[encoded data removed]",
      "text/plain": [
       "<Figure size 432x288 with 1 Axes>"
      ]
     },
     "metadata": {
      "needs_background": "light"
     },
     "output_type": "display_data"
    }
   ],
   "source": [
    "plot_fids_vs_epochs(fids_tr1b_ema_dict, label='baseline (tr1b EMA)')\n",
    "plot_fids_vs_epochs(fids_tr1c_ema_dict, label='with {Flip, Warp} as ds tfms, EMA')\n",
    "plot_fids_vs_epochs(fids_tr1d_ema_dict, label='with {Flip, Warp, Zoom} as ds tfms, EMA')\n",
    "plot_fids_vs_epochs(fids_tr2b_ema_dict, label='with ADA (rt=0.8), EMA')\n",
    "plot_fids_vs_epochs(fids_tr2c_ema_dict, label='with ADA (rt=0.6), {Flip, Warp, Zoom} as ds tfms, EMA')\n",
    "ax = plot_fids_vs_epochs(fids_tr2c_rt08_ema_dict, \n",
    "                         label='with ADA (rt=0.8), {Flip, Warp, Zoom} as ds tfms, EMA')\n",
    "ax.set_ybound(10, 60)\n",
    "_ = ax.legend(loc='upper right', bbox_to_anchor=(1.25, 1.))"
   ]
  },
  {
   "cell_type": "markdown",
   "metadata": {},
   "source": [
    "Although it didn't make FIDs improve, using dataset transforms increased the similarity between inputs and outputs. For instance, 1c and 1d look much better than 1b in this regard."
   ]
  },
  {
   "cell_type": "markdown",
   "metadata": {},
   "source": [
    "# Performing evaluation"
   ]
  },
  {
   "cell_type": "code",
   "execution_count": null,
   "metadata": {
    "execution": {
     "iopub.execute_input": "2021-06-05T00:22:01.670733Z",
     "iopub.status.busy": "2021-06-05T00:22:01.670399Z",
     "iopub.status.idle": "2021-06-05T00:22:01.687959Z",
     "shell.execute_reply": "2021-06-05T00:22:01.686892Z",
     "shell.execute_reply.started": "2021-06-05T00:22:01.670704Z"
    }
   },
   "outputs": [],
   "source": [
    "base_fid_samples_path = Path('./fid_samples')\n",
    "n_fid_imgs = 10000\n",
    "\n",
    "def download_pytorch_fid_calculator():        \n",
    "    #!git clone https://github.com/mseitzer/pytorch-fid.git\n",
    "    !pip install pytorch-fid\n",
    "\n",
    "def create_fid_dirs(base_fid_samples_path):\n",
    "    base_fid_samples_path.mkdir()\n",
    "    (base_fid_samples_path/'fake').mkdir()\n",
    "    (base_fid_samples_path/'real').mkdir()\n",
    "        \n",
    "def save_real_imgs(dls, n_imgs=10000, use_input_ds=False):\n",
    "    n_imgs_left = n_imgs\n",
    "    while n_imgs_left > 0:\n",
    "        b = dls.one_batch()\n",
    "        bs = b[1].size()[0]\n",
    "        dec_b = dls.decode_batch(b, max_n=bs)\n",
    "        for i in range(bs):\n",
    "            if n_imgs_left == 0: break\n",
    "            tuple_idx = 0 if use_input_ds else 1\n",
    "            img_t = dec_b[i][tuple_idx]\n",
    "            img = PILImage.create(img_t)\n",
    "            img_idx = n_imgs_left-1\n",
    "            img.save(base_fid_samples_path/f'real/{img_idx}.jpg')\n",
    "            #if n_imgs_left % 1000 == 0: print(\"saved \" + str(img_idx))\n",
    "            n_imgs_left -= 1            \n",
    "            \n",
    "def save_fake_imgs(learner, n_imgs=10000, **predict_n_kwargs):\n",
    "    base_path = base_fid_samples_path\n",
    "    preds_batch = predict_n(learner, n_imgs, **predict_n_kwargs)\n",
    "    for i, (inp, img) in enumerate(preds_batch):\n",
    "        PILImage.create(img).save(base_path/f'fake/{i}.jpg')"
   ]
  },
  {
   "cell_type": "code",
   "execution_count": null,
   "metadata": {
    "jupyter": {
     "outputs_hidden": true
    }
   },
   "outputs": [],
   "source": [
    "!rm -R $base_fid_samples_path"
   ]
  },
  {
   "cell_type": "code",
   "execution_count": null,
   "metadata": {
    "execution": {
     "iopub.execute_input": "2021-06-05T00:22:02.867673Z",
     "iopub.status.busy": "2021-06-05T00:22:02.867354Z",
     "iopub.status.idle": "2021-06-05T00:22:11.096421Z",
     "shell.execute_reply": "2021-06-05T00:22:11.095552Z",
     "shell.execute_reply.started": "2021-06-05T00:22:02.867644Z"
    }
   },
   "outputs": [],
   "source": [
    "download_pytorch_fid_calculator()\n",
    "create_fid_dirs(base_fid_samples_path)"
   ]
  },
  {
   "cell_type": "code",
   "execution_count": null,
   "metadata": {
    "execution": {
     "iopub.execute_input": "2021-06-05T00:22:11.098744Z",
     "iopub.status.busy": "2021-06-05T00:22:11.098366Z",
     "iopub.status.idle": "2021-06-05T00:22:11.115715Z",
     "shell.execute_reply": "2021-06-05T00:22:11.114792Z",
     "shell.execute_reply.started": "2021-06-05T00:22:11.098703Z"
    }
   },
   "outputs": [],
   "source": [
    "def exec_fid_proc():\n",
    "    #!python -m pytorch_fid {base_fid_samples_path/'fake'} {base_fid_samples_path/'real'}\n",
    "    proc_args = [\"python\", \"-m\", \"pytorch_fid\", base_fid_samples_path/'fake', \n",
    "                 base_fid_samples_path/'real']\n",
    "    return subprocess.run(proc_args, stdout=subprocess.PIPE)\n",
    "\n",
    "def fid_out_to_arr(fid_proc_out):\n",
    "    if isinstance(fid_proc_out, bytes):\n",
    "        fid_proc_out = fid_proc_out.decode(sys.stdout.encoding)\n",
    "    float_fids = [round(float(line[5:].strip()), ndigits=1) \n",
    "                  for line in fid_proc_out.split('\\n') \n",
    "                  if line.startswith('FID')]\n",
    "    return float_fids\n",
    "\n",
    "def eval_models(builders, n_epochs, base_path='./models', \n",
    "                fn_suffix='', ema=False):\n",
    "    assert is_iterable(builders) or is_iterable(n_epochs)\n",
    "    if not is_iterable(builders): \n",
    "        builders = [builders] * len(list(n_epochs))\n",
    "    if not is_iterable(n_epochs): \n",
    "        n_epochs = [n_epochs] * len(list(builders))\n",
    "    result = []\n",
    "    for builder, n_ep in zip(builders, n_epochs):\n",
    "        model_id = builder.__name__.split('_')[-1]\n",
    "        learner = builder(for_inference=True)\n",
    "        custom_load_model(learner, f'refined_arch_face2anime_tr{model_id}{fn_suffix}_{n_ep}ep', \n",
    "                          with_opt=False, base_path=base_path, with_ema=ema)\n",
    "        if ema: \n",
    "            learner = Learner(learner.dls, learner.ema_model,\n",
    "                              loss_func=lambda *args: torch.tensor(0.))\n",
    "        save_fake_imgs(learner, n_imgs=n_fid_imgs)\n",
    "        completed_proc = exec_fid_proc()        \n",
    "        print(f'---- {model_id}, after {n_ep} epochs ----')        \n",
    "        print(completed_proc.stdout)        \n",
    "        fid_value = fid_out_to_arr(completed_proc.stdout)\n",
    "        result.extend(fid_value)\n",
    "    return result"
   ]
  },
  {
   "cell_type": "code",
   "execution_count": null,
   "metadata": {
    "execution": {
     "iopub.execute_input": "2021-06-05T00:22:19.962962Z",
     "iopub.status.busy": "2021-06-05T00:22:19.962619Z",
     "iopub.status.idle": "2021-06-05T00:24:51.917212Z",
     "shell.execute_reply": "2021-06-05T00:24:51.916285Z",
     "shell.execute_reply.started": "2021-06-05T00:22:19.96293Z"
    }
   },
   "outputs": [],
   "source": [
    "save_real_imgs(dls, n_fid_imgs)"
   ]
  },
  {
   "cell_type": "code",
   "execution_count": null,
   "metadata": {
    "execution": {
     "iopub.execute_input": "2021-06-05T01:34:22.529585Z",
     "iopub.status.busy": "2021-06-05T01:34:22.529245Z",
     "iopub.status.idle": "2021-06-05T01:57:39.555605Z",
     "shell.execute_reply": "2021-06-05T01:57:39.55467Z",
     "shell.execute_reply.started": "2021-06-05T01:34:22.529551Z"
    }
   },
   "outputs": [],
   "source": [
    "eval_models(create_learner_1, range(5, 101, 5), base_path='./models')"
   ]
  },
  {
   "cell_type": "code",
   "execution_count": null,
   "metadata": {
    "execution": {
     "iopub.execute_input": "2021-06-05T02:51:55.033254Z",
     "iopub.status.busy": "2021-06-05T02:51:55.032886Z",
     "iopub.status.idle": "2021-06-05T03:07:41.985472Z",
     "shell.execute_reply": "2021-06-05T03:07:41.984519Z",
     "shell.execute_reply.started": "2021-06-05T02:51:55.033213Z"
    }
   },
   "outputs": [],
   "source": [
    "eval_models(create_learner_1, range(5, 101, 5), base_path='./models', ema=True)"
   ]
  },
  {
   "cell_type": "code",
   "execution_count": null,
   "metadata": {
    "execution": {
     "iopub.execute_input": "2021-06-05T01:57:39.560081Z",
     "iopub.status.busy": "2021-06-05T01:57:39.559797Z",
     "iopub.status.idle": "2021-06-05T01:57:39.571858Z",
     "shell.execute_reply": "2021-06-05T01:57:39.570849Z",
     "shell.execute_reply.started": "2021-06-05T01:57:39.56005Z"
    }
   },
   "outputs": [],
   "source": [
    "PILImage.create(base_fid_samples_path/'fake/9999.jpg')"
   ]
  },
  {
   "cell_type": "markdown",
   "metadata": {},
   "source": [
    "## Reference FID"
   ]
  },
  {
   "cell_type": "markdown",
   "metadata": {},
   "source": [
    "With 10000 images:\n",
    "\n",
    "* FID input ds vs itself (CelebA vs CelebA) ~ 2.8\n",
    "* FID target ds vs itself (Animecharacterfaces vs Animecharacterfaces) ~ 4.0"
   ]
  },
  {
   "cell_type": "code",
   "execution_count": null,
   "metadata": {},
   "outputs": [],
   "source": []
  }
 ],
 "metadata": {
  "kernelspec": {
   "display_name": "Python 3",
   "language": "python",
   "name": "python3"
  },
  "language_info": {
   "codemirror_mode": {
    "name": "ipython",
    "version": 3
   },
   "file_extension": ".py",
   "mimetype": "text/x-python",
   "name": "python",
   "nbconvert_exporter": "python",
   "pygments_lexer": "ipython3",
   "version": "3.7.3"
  }
 },
 "nbformat": 4,
 "nbformat_minor": 4
}
